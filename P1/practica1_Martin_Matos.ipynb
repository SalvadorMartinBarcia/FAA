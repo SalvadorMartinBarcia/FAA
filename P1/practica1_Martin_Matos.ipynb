{
 "cells": [
  {
   "cell_type": "markdown",
   "metadata": {},
   "source": [
    "\n",
    "<h2 style=\"text-align:center;\" class=\"centrado\"> Prácticas FAA: Salvador Martin Barcía y Patricia Matos Meza </h2>\n",
    "<h3 style=\"text-align:center;\" class=\"centrado\"> Práctica 1: Particiones, Scikit-learn, Análisis ROC </h3>\n"
   ]
  },
  {
   "cell_type": "markdown",
   "metadata": {},
   "source": [
    "<p style=\"font-size: medium;\"> A continuación, distribuiremos este cuaderno en los cuatro apartados propuestos en la práctica. Al final de cada una de ellas habrá un resumen de lo medido para que así sea más fácil ver los resultados. </p>\n",
    "\n",
    "<p style=\"font-size: medium;\"> Ahora, importaremos todas las librerías necesarias para la ejecución. </p>"
   ]
  },
  {
   "cell_type": "code",
   "execution_count": 1,
   "metadata": {},
   "outputs": [],
   "source": [
    "from Datos import Datos\n",
    "from ValidacionCruzada import ValidacionCruzada\n",
    "from ValidacionSimple import ValidacionSimple\n",
    "from ClasificadorNaiveBayes import ClasificadorNaiveBayes\n",
    "from sklearn import preprocessing, naive_bayes, model_selection\n",
    "import pandas as pd\n",
    "import numpy as np\n",
    "from sklearn.metrics import accuracy_score, confusion_matrix\n",
    "import matplotlib.pyplot as plt"
   ]
  },
  {
   "cell_type": "markdown",
   "metadata": {},
   "source": [
    "<h2>Particiones</h2>"
   ]
  },
  {
   "cell_type": "markdown",
   "metadata": {},
   "source": [
    "<h3> Obtención de los datos </h3>"
   ]
  },
  {
   "cell_type": "code",
   "execution_count": 2,
   "metadata": {},
   "outputs": [],
   "source": [
    "dataset = Datos('data/tic-tac-toe.data')\n",
    "dataset2 = Datos('data/german.data')"
   ]
  },
  {
   "cell_type": "markdown",
   "metadata": {},
   "source": [
    "<h3> Validación Simple </h3>\n",
    "<h4> Tic-Tac-Toe </h4>"
   ]
  },
  {
   "cell_type": "code",
   "execution_count": 3,
   "metadata": {},
   "outputs": [
    {
     "name": "stdout",
     "output_type": "stream",
     "text": [
      "20 primeros elementos de indices test:\n",
      "[673, 190, 420, 565, 253, 652, 0, 610, 725, 217, 15, 210, 499, 646, 179, 235, 733, 221, 816, 265, 305]\n",
      "20 primeros elementos de indices train:\n",
      "[199, 696, 626, 772, 65, 768, 852, 184, 115, 392, 759, 548, 196, 469, 172, 286, 43, 706, 358, 869, 872]\n"
     ]
    }
   ],
   "source": [
    "estrategia = ValidacionSimple(0.4, 1)\n",
    "particion = estrategia.creaParticiones(dataset.datos)\n",
    "\n",
    "print('20 primeros elementos de indices test:')\n",
    "print(particion[0].indicesTest[:21], end='\\n')\n",
    "print('20 primeros elementos de indices train:')\n",
    "print(particion[0].indicesTrain[:21], end='\\n')"
   ]
  },
  {
   "cell_type": "markdown",
   "metadata": {},
   "source": [
    "<h4> German </h4>"
   ]
  },
  {
   "cell_type": "code",
   "execution_count": 4,
   "metadata": {},
   "outputs": [
    {
     "name": "stdout",
     "output_type": "stream",
     "text": [
      "20 primeros elementos de indices test:\n",
      "[353, 798, 499, 238, 529, 153, 448, 479, 719, 845, 538, 173, 870, 430, 483, 641, 763, 896, 989, 589, 50]\n",
      "20 primeros elementos de indices train:\n",
      "[563, 232, 607, 804, 102, 631, 650, 986, 628, 57, 991, 450, 80, 619, 729, 122, 790, 6, 468, 384, 115]\n"
     ]
    }
   ],
   "source": [
    "estrategia = ValidacionSimple(0.4, 1)\n",
    "particion = estrategia.creaParticiones(dataset2.datos)\n",
    "\n",
    "print('20 primeros elementos de indices test:')\n",
    "print(particion[0].indicesTest[:21], end='\\n')\n",
    "print('20 primeros elementos de indices train:')\n",
    "print(particion[0].indicesTrain[:21], end='\\n')"
   ]
  },
  {
   "cell_type": "markdown",
   "metadata": {},
   "source": [
    "<p style=\"font-size: medium;\"> Validación simple divide los datos en una proporción determinada, en este caso, hemos escogido 40% de los datos para test y el resto para train. Uno de los incovenientes que tiene esta estrategia de particionado es justo el proceso de elegir las proporciones, debido a que se hacen de manera manual y estas podrían llegar a dejar la parte de train demasiado vacía o demasiado llena, al igual que pasaría con las proporciones para el testeo. </p>\n",
    "\n",
    "<p style=\"font-size: medium;\"> Otro inconveniente podría ser que hay que ejecutarlo más de una vez para poder tener un resultado óptimo y más acercado a la realidad. Para corregir eso, se ha añadido la variable numeroEjecuiones (en este caso a 1). Por otro lado, Validación simple tiene un coste computacional bajo y esto puede ser trivial a la hora de procesar DataSets extremadamente grandes. </p>"
   ]
  },
  {
   "cell_type": "markdown",
   "metadata": {},
   "source": [
    "<h3> Validación Cruzada </h3>\n",
    "<h4> Tic-Tac-Toe </h4>"
   ]
  },
  {
   "cell_type": "code",
   "execution_count": 5,
   "metadata": {},
   "outputs": [
    {
     "name": "stdout",
     "output_type": "stream",
     "text": [
      "Particion 1\n",
      "20 primeros elementos de indices test:\n",
      "[471, 438, 317, 809, 743, 936, 464, 236, 362, 169, 166, 707, 57, 505, 202, 685, 718, 794, 13, 734]\n",
      "20 primeros elementos de indices train de la particion:\n",
      "[612, 941, 870, 584, 255, 390, 51, 720, 821, 271, 573, 846, 836, 5, 492, 21, 60, 106, 949, 694]\n",
      "\n",
      "\n",
      "Particion 2\n",
      "20 primeros elementos de indices test:\n",
      "[612, 941, 870, 584, 255, 390, 51, 720, 821, 271, 573, 846, 836, 5, 492, 21, 60, 106, 949, 694]\n",
      "20 primeros elementos de indices train de la particion:\n",
      "[471, 438, 317, 809, 743, 936, 464, 236, 362, 169, 166, 707, 57, 505, 202, 685, 718, 794, 13, 734]\n",
      "\n",
      "\n",
      "Particion 3\n",
      "20 primeros elementos de indices test:\n",
      "[837, 600, 491, 332, 423, 399, 553, 839, 639, 753, 408, 692, 32, 40, 724, 759, 853, 769, 178, 482]\n",
      "20 primeros elementos de indices train de la particion:\n",
      "[471, 438, 317, 809, 743, 936, 464, 236, 362, 169, 166, 707, 57, 505, 202, 685, 718, 794, 13, 734]\n",
      "\n",
      "\n",
      "Particion 4\n",
      "20 primeros elementos de indices test:\n",
      "[746, 604, 308, 25, 619, 158, 872, 591, 814, 915, 95, 242, 888, 89, 646, 366, 331, 330, 352, 201]\n",
      "20 primeros elementos de indices train de la particion:\n",
      "[471, 438, 317, 809, 743, 936, 464, 236, 362, 169, 166, 707, 57, 505, 202, 685, 718, 794, 13, 734]\n",
      "\n",
      "\n"
     ]
    }
   ],
   "source": [
    "estrategia = ValidacionCruzada(4)\n",
    "particiones = estrategia.creaParticiones(dataset.datos)\n",
    "\n",
    "for i, particion in enumerate(particiones):\n",
    "    print('Particion', i+1)\n",
    "    print('20 primeros elementos de indices test:')\n",
    "    print(particion.indicesTest[:20], end='\\n')\n",
    "    print('20 primeros elementos de indices train de la particion:')\n",
    "    print(particion.indicesTrain[:20], end='\\n')\n",
    "    print('\\n')"
   ]
  },
  {
   "cell_type": "markdown",
   "metadata": {},
   "source": [
    "<h4> German </h4>"
   ]
  },
  {
   "cell_type": "code",
   "execution_count": 6,
   "metadata": {},
   "outputs": [
    {
     "name": "stdout",
     "output_type": "stream",
     "text": [
      "Particion 1\n",
      "20 primeros elementos de indices test:\n",
      "[55, 337, 639, 23, 25, 769, 357, 207, 480, 668, 196, 654, 834, 167, 32, 542, 137, 997, 867, 832]\n",
      "20 primeros elementos de indices train de la particion:\n",
      "[406, 686, 135, 564, 160, 864, 336, 838, 782, 307, 817, 161, 655, 691, 28, 201, 49, 584, 97, 534]\n",
      "\n",
      "\n",
      "Particion 2\n",
      "20 primeros elementos de indices test:\n",
      "[406, 686, 135, 564, 160, 864, 336, 838, 782, 307, 817, 161, 655, 691, 28, 201, 49, 584, 97, 534]\n",
      "20 primeros elementos de indices train de la particion:\n",
      "[55, 337, 639, 23, 25, 769, 357, 207, 480, 668, 196, 654, 834, 167, 32, 542, 137, 997, 867, 832]\n",
      "\n",
      "\n",
      "Particion 3\n",
      "20 primeros elementos de indices test:\n",
      "[863, 505, 732, 796, 970, 74, 268, 361, 202, 484, 0, 103, 375, 728, 6, 289, 177, 724, 767, 591]\n",
      "20 primeros elementos de indices train de la particion:\n",
      "[55, 337, 639, 23, 25, 769, 357, 207, 480, 668, 196, 654, 834, 167, 32, 542, 137, 997, 867, 832]\n",
      "\n",
      "\n",
      "Particion 4\n",
      "20 primeros elementos de indices test:\n",
      "[706, 787, 1, 156, 496, 72, 702, 844, 667, 230, 347, 189, 638, 3, 13, 62, 290, 305, 853, 464]\n",
      "20 primeros elementos de indices train de la particion:\n",
      "[55, 337, 639, 23, 25, 769, 357, 207, 480, 668, 196, 654, 834, 167, 32, 542, 137, 997, 867, 832]\n",
      "\n",
      "\n"
     ]
    }
   ],
   "source": [
    "estrategia = ValidacionCruzada(4)\n",
    "particiones = estrategia.creaParticiones(dataset2.datos)\n",
    "\n",
    "for i, particion in enumerate(particiones):\n",
    "    print('Particion', i+1)\n",
    "    print('20 primeros elementos de indices test:')\n",
    "    print(particion.indicesTest[:20], end='\\n')\n",
    "    print('20 primeros elementos de indices train de la particion:')\n",
    "    print(particion.indicesTrain[:20], end='\\n')\n",
    "    print('\\n')"
   ]
  },
  {
   "cell_type": "markdown",
   "metadata": {},
   "source": [
    "<p style=\"font-size: medium;\"> Validación cruzada crea N particiones aleatorias, cada una con sus indices para train y para test. Corrige el problema de Validación simple mencionado anteriormente, puesto que las particiones se crean aleatoriamente y más de una por ejecución. Además, la partición de test cambia en cada ejecución, y al acabar todas las ejecuciones todos los datos han estado exactamente una vez en el conjunto de test.</p>\n",
    "\n",
    "<p style=\"font-size: medium;\">\n",
    "Un problema a destacar podría ser que su coste computacional es más elevado en comparación con Validación simple.</p>"
   ]
  },
  {
   "cell_type": "markdown",
   "metadata": {},
   "source": [
    "<h2> Naive-Bayes </h2>\n",
    "<h3> Validación Simple </h3>\n",
    "<p style=\"font-size: medium\">Ejecutaremos a continuación la estrategia de Validación Simple con las funciones programas en esta práctica. </p>\n",
    "\n",
    "<h4> Tic-tac-toe </h4>\n",
    "<p style=\"font-size: medium\">A continuación, lo haremos sin la corrección de la place.</p>"
   ]
  },
  {
   "cell_type": "code",
   "execution_count": 7,
   "metadata": {},
   "outputs": [
    {
     "name": "stdout",
     "output_type": "stream",
     "text": [
      "0.3083623693379791\n"
     ]
    }
   ],
   "source": [
    "estrategia = ValidacionSimple(0.4, 1)\n",
    "clasificador = ClasificadorNaiveBayes(False)\n",
    "error_vs_sin_laplace_t_faa = clasificador.validacion(estrategia, dataset, clasificador)\n",
    "print(error_vs_sin_laplace_t_faa[0])"
   ]
  },
  {
   "cell_type": "markdown",
   "metadata": {},
   "source": [
    "<p style=\"font-size: medium\">Ahora, calcularemos el error con la corrección de Laplace</p>"
   ]
  },
  {
   "cell_type": "code",
   "execution_count": 8,
   "metadata": {},
   "outputs": [
    {
     "name": "stdout",
     "output_type": "stream",
     "text": [
      "0.29094076655052264\n"
     ]
    }
   ],
   "source": [
    "estrategia = ValidacionSimple(0.4, 1)\n",
    "clasificador = ClasificadorNaiveBayes(True)\n",
    "error_vs_con_laplace_t_faa = clasificador.validacion(estrategia, dataset, clasificador)\n",
    "print(error_vs_con_laplace_t_faa[0])"
   ]
  },
  {
   "cell_type": "markdown",
   "metadata": {},
   "source": [
    "<h4> German </h4>\n",
    "<p style=\"font-size: medium\">A continuación, lo haremos sin la corrección de la place.</p>"
   ]
  },
  {
   "cell_type": "code",
   "execution_count": 9,
   "metadata": {},
   "outputs": [
    {
     "name": "stdout",
     "output_type": "stream",
     "text": [
      "0.2854757929883139\n"
     ]
    }
   ],
   "source": [
    "estrategia = ValidacionSimple(0.4, 1)\n",
    "clasificador = ClasificadorNaiveBayes(False)\n",
    "error_vs_sin_laplace_g_faa = clasificador.validacion(estrategia, dataset2, clasificador)\n",
    "print(error_vs_sin_laplace_g_faa[0])"
   ]
  },
  {
   "cell_type": "markdown",
   "metadata": {},
   "source": [
    "<p style=\"font-size: medium\">Ahora, calcularemos el error con la corrección de Laplace</p>"
   ]
  },
  {
   "cell_type": "code",
   "execution_count": 10,
   "metadata": {},
   "outputs": [
    {
     "name": "stdout",
     "output_type": "stream",
     "text": [
      "0.2654424040066778\n"
     ]
    }
   ],
   "source": [
    "estrategia = ValidacionSimple(0.4, 1)\n",
    "clasificador = ClasificadorNaiveBayes(True)\n",
    "error_vs_con_laplace_g_faa = clasificador.validacion(estrategia, dataset2, clasificador)\n",
    "print(error_vs_con_laplace_g_faa[0])"
   ]
  },
  {
   "cell_type": "markdown",
   "metadata": {},
   "source": [
    "<h4> Resumen de lo medido </h4>"
   ]
  },
  {
   "cell_type": "code",
   "execution_count": 11,
   "metadata": {},
   "outputs": [
    {
     "name": "stdout",
     "output_type": "stream",
     "text": [
      "             Tic-Tac-Toe    German\n",
      "Con Laplace     0.290941  0.265442\n",
      "Sin Laplace     0.308362  0.285476\n"
     ]
    }
   ],
   "source": [
    "datos = [[error_vs_con_laplace_t_faa[0], error_vs_con_laplace_g_faa[0]], [error_vs_sin_laplace_t_faa[0], error_vs_sin_laplace_g_faa[0]]]\n",
    "resumen = pd.DataFrame(datos, index=['Con Laplace', 'Sin Laplace'],columns=['Tic-Tac-Toe', 'German'])\n",
    "print(resumen)"
   ]
  },
  {
   "cell_type": "markdown",
   "metadata": {},
   "source": [
    "<h3> Validación Cruzada </h3>\n",
    "<p style=\"font-size: medium\">Ejecutaremos a continuación la estrategia de Validación Cruzada con las funciones programas en esta práctica. </p>\n",
    "\n",
    "<h4> Tic-tac-toe </h4>\n",
    "<p style=\"font-size: medium\">A continuación, lo haremos sin la corrección de la place.</p>"
   ]
  },
  {
   "cell_type": "code",
   "execution_count": 12,
   "metadata": {},
   "outputs": [
    {
     "name": "stdout",
     "output_type": "stream",
     "text": [
      "Particion 1 : 0.3389121338912134\n",
      "Particion 2 : 0.26359832635983266\n",
      "Particion 3 : 0.26359832635983266\n",
      "Particion 4 : 0.3070539419087137\n"
     ]
    }
   ],
   "source": [
    "estrategia = ValidacionCruzada(4)\n",
    "clasificador = ClasificadorNaiveBayes(False)\n",
    "error_vc_sin_laplace_t_faa = clasificador.validacion(estrategia, dataset, clasificador)\n",
    "\n",
    "for i, error in enumerate(error_vc_sin_laplace_t_faa):\n",
    "    print('Particion', i+1, ':', error)"
   ]
  },
  {
   "cell_type": "markdown",
   "metadata": {},
   "source": [
    "<p style=\"font-size: medium\">A continuación, lo haremos con la corrección de la place.</p>"
   ]
  },
  {
   "cell_type": "code",
   "execution_count": 13,
   "metadata": {},
   "outputs": [
    {
     "name": "stdout",
     "output_type": "stream",
     "text": [
      "Particion 1 : 0.30962343096234307\n",
      "Particion 2 : 0.29707112970711297\n",
      "Particion 3 : 0.29707112970711297\n",
      "Particion 4 : 0.2863070539419087\n"
     ]
    }
   ],
   "source": [
    "estrategia = ValidacionCruzada(4)\n",
    "clasificador = ClasificadorNaiveBayes(True)\n",
    "error_vc_con_laplace_t_faa = clasificador.validacion(estrategia, dataset, clasificador)\n",
    "\n",
    "for i, error in enumerate(error_vc_con_laplace_t_faa):\n",
    "    print('Particion', i+1, ':', error)"
   ]
  },
  {
   "cell_type": "markdown",
   "metadata": {},
   "source": [
    "<h4> German </h4>\n",
    "<p style=\"font-size: medium\">A continuación, lo haremos sin la corrección de la place.</p>"
   ]
  },
  {
   "cell_type": "code",
   "execution_count": 14,
   "metadata": {},
   "outputs": [
    {
     "name": "stdout",
     "output_type": "stream",
     "text": [
      "Particion 1 : 0.268\n",
      "Particion 2 : 0.204\n",
      "Particion 3 : 0.232\n",
      "Particion 4 : 0.272\n"
     ]
    }
   ],
   "source": [
    "estrategia = ValidacionCruzada(4)\n",
    "clasificador = ClasificadorNaiveBayes(False)\n",
    "error_vc_sin_laplace_g_faa = clasificador.validacion(estrategia, dataset2, clasificador)\n",
    "\n",
    "for i, error in enumerate(error_vc_sin_laplace_g_faa):\n",
    "    print('Particion', i+1, ':', error)"
   ]
  },
  {
   "cell_type": "markdown",
   "metadata": {},
   "source": [
    "<p style=\"font-size: medium\">A continuación, lo haremos con la corrección de la place.</p>"
   ]
  },
  {
   "cell_type": "code",
   "execution_count": 15,
   "metadata": {},
   "outputs": [
    {
     "name": "stdout",
     "output_type": "stream",
     "text": [
      "Particion 1 : 0.244\n",
      "Particion 2 : 0.272\n",
      "Particion 3 : 0.256\n",
      "Particion 4 : 0.228\n"
     ]
    }
   ],
   "source": [
    "estrategia = ValidacionCruzada(4)\n",
    "clasificador = ClasificadorNaiveBayes(True)\n",
    "error_vc_con_laplace_g_faa = clasificador.validacion(estrategia, dataset2, clasificador)\n",
    "\n",
    "for i, error in enumerate(error_vc_con_laplace_g_faa):\n",
    "    print('Particion', i+1, ':', error)"
   ]
  },
  {
   "cell_type": "markdown",
   "metadata": {},
   "source": [
    "<h4> Resumen de lo medido </h4>"
   ]
  },
  {
   "cell_type": "markdown",
   "metadata": {},
   "source": [
    "<p style=\"font-size: medium\"><b>Con corrección de Laplace</b></p>"
   ]
  },
  {
   "cell_type": "code",
   "execution_count": 16,
   "metadata": {},
   "outputs": [
    {
     "name": "stdout",
     "output_type": "stream",
     "text": [
      "             Particion 1  Particion 2  Particion 3   Particion 4  Desviación\n",
      "Tic-Tac-Toe     0.309623     0.297071     0.297071      0.286307    0.008256\n",
      "German          0.244000     0.272000     0.256000      0.228000    0.016125\n"
     ]
    }
   ],
   "source": [
    "std_t = np.std(error_vc_con_laplace_t_faa)\n",
    "std_g = np.std(error_vc_con_laplace_g_faa)\n",
    "fila1 = []\n",
    "fila2 = []\n",
    "fila1.extend(error_vc_con_laplace_t_faa)\n",
    "fila1.append(std_t)\n",
    "fila2.extend(error_vc_con_laplace_g_faa)\n",
    "fila2.append(std_g)\n",
    "datos = [fila1, fila2]\n",
    "resumen = pd.DataFrame(datos, columns=['Particion 1', 'Particion 2', 'Particion 3',' Particion 4', 'Desviación'],index=['Tic-Tac-Toe', 'German'])\n",
    "print(resumen)"
   ]
  },
  {
   "cell_type": "markdown",
   "metadata": {},
   "source": [
    "<p style=\"font-size: medium\"><b>Sin corrección de Laplace</b></p>"
   ]
  },
  {
   "cell_type": "code",
   "execution_count": 17,
   "metadata": {},
   "outputs": [
    {
     "name": "stdout",
     "output_type": "stream",
     "text": [
      "             Particion 1  Particion 2  Particion 3   Particion 4  Desviación\n",
      "Tic-Tac-Toe     0.338912     0.263598     0.263598      0.307054    0.031757\n",
      "German          0.268000     0.204000     0.232000      0.272000    0.027857\n"
     ]
    }
   ],
   "source": [
    "std_t = np.std(error_vc_sin_laplace_t_faa)\n",
    "std_g = np.std(error_vc_sin_laplace_g_faa)\n",
    "fila1 = []\n",
    "fila2 = []\n",
    "fila1.extend(error_vc_sin_laplace_t_faa)\n",
    "fila1.append(std_t)\n",
    "fila2.extend(error_vc_sin_laplace_g_faa)\n",
    "fila2.append(std_g)\n",
    "datos = [fila1, fila2]\n",
    "resumen = pd.DataFrame(datos, columns=['Particion 1', 'Particion 2', 'Particion 3',' Particion 4', 'Desviación'],index=['Tic-Tac-Toe', 'German'])\n",
    "print(resumen)"
   ]
  },
  {
   "cell_type": "markdown",
   "metadata": {},
   "source": [
    "<h2> Scikit-learn </h2>"
   ]
  },
  {
   "cell_type": "markdown",
   "metadata": {},
   "source": [
    "<h3> Obtención de los datos </h3>"
   ]
  },
  {
   "cell_type": "code",
   "execution_count": 18,
   "metadata": {},
   "outputs": [],
   "source": [
    "dataset = pd.read_csv('data/tic-tac-toe.data')\n",
    "dataset2 = pd.read_csv('data/german.data')"
   ]
  },
  {
   "cell_type": "markdown",
   "metadata": {},
   "source": [
    "<p style=\"font-size: medium\">Preparamos los datos.</p>"
   ]
  },
  {
   "cell_type": "code",
   "execution_count": 19,
   "metadata": {},
   "outputs": [],
   "source": [
    "encodedDataset = preprocessing.OneHotEncoder(sparse=False)\n",
    "x = dataset.iloc[:,:-1]\n",
    "x2 = dataset2.iloc[:,:-1]\n",
    "\n",
    "encodedDataset.fit(x)\n",
    "x_tictac = encodedDataset.transform(x) #Cogemos todos los datos menos la columna de Class\n",
    "y_tictac = dataset.iloc[:,-1]\n",
    "\n",
    "encodedDataset.fit(x2)\n",
    "x_german = encodedDataset.transform(x2) #Cogemos todos los datos menos la columna de Class\n",
    "y_german = dataset2.iloc[:,-1]"
   ]
  },
  {
   "cell_type": "markdown",
   "metadata": {},
   "source": [
    "<h3> Validación Simple </h3>\n",
    "<p style=\"font-size: medium\">Ejecutaremos a continuación la estrategia de Validación Simple con las funciones proporcionadas en scikit-learn. </p>\n",
    "\n",
    "<h4> Tic-tac-toe </h4>\n",
    "<p style=\"font-size: medium\">A continuación, lo haremos sin la corrección de Laplace.</p>"
   ]
  },
  {
   "cell_type": "code",
   "execution_count": 20,
   "metadata": {},
   "outputs": [
    {
     "name": "stdout",
     "output_type": "stream",
     "text": [
      "0.2578125\n"
     ]
    }
   ],
   "source": [
    "x_train, x_test, y_train,y_test = model_selection.train_test_split(x_tictac, y_tictac, test_size = 0.4, shuffle=True)\n",
    "\n",
    "# Alpha corresponde a la corrección de LaPlace\n",
    "clasificador = naive_bayes.MultinomialNB(alpha=0.0000000001)\n",
    "clasificador.fit(x_train, y_train)\n",
    "predicciones = clasificador.predict(x_test)\n",
    "error_vs_sin_laplace_t = 1 - accuracy_score(y_test, predicciones)\n",
    "print(error_vs_sin_laplace_t)"
   ]
  },
  {
   "cell_type": "markdown",
   "metadata": {},
   "source": [
    "<p style=\"font-size: medium\">Hemos puesto un valor de alpha de 0.0000000001, puesto que salta un warning que nos dice que el valor del mismo no puede ser tan bajo. El menor valor que acepta es el escogido.</p>"
   ]
  },
  {
   "cell_type": "markdown",
   "metadata": {},
   "source": [
    "<p style=\"font-size: medium\">Ahora, calcularemos el error con la corrección de Laplace</p>\n"
   ]
  },
  {
   "cell_type": "code",
   "execution_count": 21,
   "metadata": {},
   "outputs": [
    {
     "name": "stdout",
     "output_type": "stream",
     "text": [
      "0.3125\n"
     ]
    }
   ],
   "source": [
    "x_train, x_test, y_train,y_test = model_selection.train_test_split(x_tictac, y_tictac, test_size = 0.4, shuffle=True)\n",
    "\n",
    "# Alpha corresponde a la corrección de LaPlace\n",
    "clasificador = naive_bayes.MultinomialNB(alpha=1)\n",
    "clasificador.fit(x_train, y_train)\n",
    "predicciones = clasificador.predict(x_test)\n",
    "error_vs_con_laplace_t = 1 - accuracy_score(y_test, predicciones)\n",
    "print(error_vs_con_laplace_t)"
   ]
  },
  {
   "cell_type": "markdown",
   "metadata": {},
   "source": [
    "<h4> German </h4>\n",
    "<p style=\"font-size: medium\">A continuación, lo haremos sin la corrección de la place para german_data.</p>"
   ]
  },
  {
   "cell_type": "code",
   "execution_count": 22,
   "metadata": {},
   "outputs": [
    {
     "name": "stdout",
     "output_type": "stream",
     "text": [
      "0.6325000000000001\n"
     ]
    }
   ],
   "source": [
    "x_train, x_test, y_train,y_test = model_selection.train_test_split(x_german, y_german, test_size = 0.4, shuffle=True)\n",
    "\n",
    "clasificador = naive_bayes.GaussianNB()\n",
    "clasificador.fit(x_train, y_train)\n",
    "predicciones = clasificador.predict(x_test)\n",
    "error_vs_sin_laplace_g = 1 - accuracy_score(y_test, predicciones)\n",
    "print(error_vs_sin_laplace_g)"
   ]
  },
  {
   "cell_type": "markdown",
   "metadata": {},
   "source": [
    "<p style=\"font-size: medium\">Ahora, calcularemos el error con la corrección de Laplace. Como en GaussianNB jugamos con datos continuos, no podemos aplicar Laplace. Por ello, utilizamos MultinomialNB para aplicarlo.</p>"
   ]
  },
  {
   "cell_type": "code",
   "execution_count": 23,
   "metadata": {},
   "outputs": [
    {
     "name": "stdout",
     "output_type": "stream",
     "text": [
      "0.275\n"
     ]
    }
   ],
   "source": [
    "x_train, x_test, y_train,y_test = model_selection.train_test_split(x_german, y_german, test_size = 0.4, shuffle=True)\n",
    "\n",
    "clasificador = naive_bayes.MultinomialNB(alpha=1)\n",
    "clasificador.fit(x_train, y_train)\n",
    "predicciones = clasificador.predict(x_test)\n",
    "error_vs_con_laplace_g = 1 - accuracy_score(y_test, predicciones)\n",
    "print(error_vs_con_laplace_g)"
   ]
  },
  {
   "cell_type": "markdown",
   "metadata": {},
   "source": [
    "<h4> Resumen de lo medido con validación simple</h4>\n",
    "<p style=\"font-size: medium\">Vemos que sale una muy mala predicción para los datos de German sin laplace ya que tiene en cuenta datos continuos pero algunos son discretos.</p>"
   ]
  },
  {
   "cell_type": "code",
   "execution_count": 24,
   "metadata": {},
   "outputs": [
    {
     "name": "stdout",
     "output_type": "stream",
     "text": [
      "             Tic-Tac-Toe  German\n",
      "Con Laplace     0.312500  0.2750\n",
      "Sin Laplace     0.257812  0.6325\n"
     ]
    }
   ],
   "source": [
    "datos = [[error_vs_con_laplace_t, error_vs_con_laplace_g], [error_vs_sin_laplace_t, error_vs_sin_laplace_g]]\n",
    "resumen = pd.DataFrame(datos, index=['Con Laplace', 'Sin Laplace'],columns=['Tic-Tac-Toe', 'German'])\n",
    "print(resumen)"
   ]
  },
  {
   "cell_type": "markdown",
   "metadata": {},
   "source": [
    "<h3> Validación Cruzada </h3>\n",
    "<p style=\"font-size: medium\">Ejecutaremos a continuación la estrategia de Validación Cruzada con las funciones proporcionadas en scikit-learn. </p>\n",
    "\n",
    "\n",
    "<h4> Tic-tac-toe dataset </h4>\n",
    "<p style=\"font-size: medium\">A continuación, lo haremos sin la corrección de Laplace.</p>"
   ]
  },
  {
   "cell_type": "code",
   "execution_count": 25,
   "metadata": {},
   "outputs": [
    {
     "name": "stdout",
     "output_type": "stream",
     "text": [
      "[0.30208333 0.36458333 0.29166667 0.29166667]\n"
     ]
    }
   ],
   "source": [
    "nb = naive_bayes.MultinomialNB(alpha=0.0000000001)\n",
    "cv = model_selection.ShuffleSplit(n_splits=4)\n",
    "list_error_t = 1 - model_selection.cross_val_score(nb, x_tictac, y_tictac, cv=cv)\n",
    "print(list_error_t)"
   ]
  },
  {
   "cell_type": "markdown",
   "metadata": {},
   "source": [
    "<p style=\"font-size: medium\">Ahora, calcularemos el error con la corrección de Laplace</p>"
   ]
  },
  {
   "cell_type": "code",
   "execution_count": 26,
   "metadata": {},
   "outputs": [
    {
     "name": "stdout",
     "output_type": "stream",
     "text": [
      "[0.34375    0.21875    0.26041667 0.38541667]\n"
     ]
    }
   ],
   "source": [
    "nb = naive_bayes.MultinomialNB(alpha=1)\n",
    "cv = model_selection.ShuffleSplit(n_splits=4)\n",
    "list_error_t_l = 1 - model_selection.cross_val_score(nb, x_tictac, y_tictac, cv=cv)\n",
    "print(list_error_t_l)"
   ]
  },
  {
   "cell_type": "markdown",
   "metadata": {},
   "source": [
    "<p style=\"font-size: medium\">Si ponemos más particiones en la validación cruzada nos sale un mejor valor de error.</p>"
   ]
  },
  {
   "cell_type": "markdown",
   "metadata": {},
   "source": [
    "<h4> German </h4>\n",
    "<p style=\"font-size: medium\">A continuación, lo haremos sin la corrección de la place para german_data. Usamos MultinominalNB porque da un valor mejor ya que tiene atributos continuos y discretos.</p>"
   ]
  },
  {
   "cell_type": "code",
   "execution_count": 27,
   "metadata": {},
   "outputs": [
    {
     "name": "stdout",
     "output_type": "stream",
     "text": [
      "[0.32 0.32 0.35 0.28]\n"
     ]
    }
   ],
   "source": [
    "nb = naive_bayes.MultinomialNB(alpha=0.0000000001)\n",
    "cv = model_selection.ShuffleSplit(n_splits=4)\n",
    "list_error_g = 1 - model_selection.cross_val_score(nb, x_german, y_german, cv=cv)\n",
    "print(list_error_g)"
   ]
  },
  {
   "cell_type": "markdown",
   "metadata": {},
   "source": [
    "<p style=\"font-size: medium\">Ahora, calcularemos el error con la corrección de Laplace. Como en GaussianNB jugamos con datos continuos, no podemos aplicar Laplace. Por ello, utilizamos MultinomialNB para aplicarlo.</p>"
   ]
  },
  {
   "cell_type": "code",
   "execution_count": 28,
   "metadata": {},
   "outputs": [
    {
     "name": "stdout",
     "output_type": "stream",
     "text": [
      "[0.28 0.35 0.23 0.25]\n"
     ]
    }
   ],
   "source": [
    "nb = naive_bayes.MultinomialNB(alpha=1)\n",
    "cv = model_selection.ShuffleSplit(n_splits=4)\n",
    "list_error_g_l = 1 - model_selection.cross_val_score(nb, x_german, y_german, cv=cv)\n",
    "print(list_error_g_l)"
   ]
  },
  {
   "cell_type": "markdown",
   "metadata": {},
   "source": [
    "<h4> Resumen de lo medido con validación cruzada</h4>\n",
    "<p style=\"font-size: medium\">Vemos que los datos medidos por scikit-learn son muy parecidos a los nuestros</p>"
   ]
  },
  {
   "cell_type": "markdown",
   "metadata": {},
   "source": [
    "<p style=\"font-size: medium\"><b>Con corrección de Laplace</b></p>"
   ]
  },
  {
   "cell_type": "code",
   "execution_count": 29,
   "metadata": {},
   "outputs": [
    {
     "name": "stdout",
     "output_type": "stream",
     "text": [
      "             Particion 1  Particion 2  Particion 3   Particion 4\n",
      "Tic-Tac-Toe      0.34375      0.21875     0.260417      0.385417\n",
      "German           0.32000      0.32000     0.350000      0.280000\n"
     ]
    }
   ],
   "source": [
    "datos = [list_error_t_l, list_error_g]\n",
    "resumen = pd.DataFrame(datos, columns=['Particion 1', 'Particion 2', 'Particion 3',' Particion 4'],index=['Tic-Tac-Toe', 'German'])\n",
    "print(resumen)"
   ]
  },
  {
   "cell_type": "markdown",
   "metadata": {},
   "source": [
    "<p style=\"font-size: medium\"><b>Sin corrección de Laplace</b></p>"
   ]
  },
  {
   "cell_type": "code",
   "execution_count": 30,
   "metadata": {},
   "outputs": [
    {
     "name": "stdout",
     "output_type": "stream",
     "text": [
      "             Particion 1  Particion 2  Particion 3   Particion 4\n",
      "Tic-Tac-Toe     0.302083     0.364583     0.291667      0.291667\n",
      "German          0.268000     0.204000     0.232000      0.272000\n"
     ]
    }
   ],
   "source": [
    "datos = [list_error_t, error_vc_sin_laplace_g_faa]\n",
    "resumen = pd.DataFrame(datos, columns=['Particion 1', 'Particion 2', 'Particion 3',' Particion 4'],index=['Tic-Tac-Toe', 'German'])\n",
    "print(resumen)"
   ]
  },
  {
   "cell_type": "markdown",
   "metadata": {},
   "source": [
    "<h2> Análisis ROC </h2>"
   ]
  },
  {
   "cell_type": "markdown",
   "metadata": {},
   "source": [
    "<h3> Obtención de los datos </h3>"
   ]
  },
  {
   "cell_type": "code",
   "execution_count": 31,
   "metadata": {},
   "outputs": [],
   "source": [
    "dataset = Datos('data/tic-tac-toe.data')\n",
    "dataset2 = Datos('data/german.data')"
   ]
  },
  {
   "cell_type": "markdown",
   "metadata": {},
   "source": [
    "<h4> Tic-tac-toe dataset </h4>\n",
    "<p style=\"font-size: medium\">A continuación, calcularemos la matriz de confusión.</p>"
   ]
  },
  {
   "cell_type": "code",
   "execution_count": 32,
   "metadata": {},
   "outputs": [
    {
     "name": "stdout",
     "output_type": "stream",
     "text": [
      "[[148 184]\n",
      " [105 521]]\n"
     ]
    }
   ],
   "source": [
    "clasificador = ClasificadorNaiveBayes(False)\n",
    "clasificador.entrenamiento(dataset.datos, dataset.nominalAtributos, dataset.diccionario)\n",
    "predicciones = clasificador.clasifica(dataset.datos, dataset.nominalAtributos, dataset.diccionario)\n",
    "clases = list(dataset.datos.iloc[:, -1])\n",
    "matrix_t = confusion_matrix(y_true=clases, y_pred=predicciones)\n",
    "print(matrix_t)"
   ]
  },
  {
   "cell_type": "markdown",
   "metadata": {},
   "source": [
    "<p style=\"font-size: medium\">A continuación, calcularemos las tasas de FPR y TPR, que irán en el eje de las abscisas y eje de las ordenadas respectivamente. </p>"
   ]
  },
  {
   "cell_type": "code",
   "execution_count": 33,
   "metadata": {},
   "outputs": [],
   "source": [
    "FPR_t = matrix_t[0][1] / (matrix_t[0][1] + matrix_t[1][1])\n",
    "TPR_t = matrix_t[0][0] /(matrix_t[0][0] + matrix_t[1][0])"
   ]
  },
  {
   "cell_type": "markdown",
   "metadata": {},
   "source": [
    "<h4> German dataset </h4>\n",
    "<p style=\"font-size: medium\">A continuación, calcularemos la matriz de confusión.</p>"
   ]
  },
  {
   "cell_type": "code",
   "execution_count": 34,
   "metadata": {},
   "outputs": [
    {
     "name": "stdout",
     "output_type": "stream",
     "text": [
      "[[609  91]\n",
      " [137 163]]\n"
     ]
    }
   ],
   "source": [
    "clasificador = ClasificadorNaiveBayes(False)\n",
    "clasificador.entrenamiento(dataset2.datos, dataset2.nominalAtributos, dataset2.diccionario)\n",
    "predicciones = clasificador.clasifica(dataset2.datos, dataset2.nominalAtributos, dataset2.diccionario)\n",
    "clases = list(dataset2.datos.iloc[:, -1])\n",
    "matrix_g = confusion_matrix(y_true=clases, y_pred=predicciones)\n",
    "print(matrix_g)"
   ]
  },
  {
   "cell_type": "markdown",
   "metadata": {},
   "source": [
    "<h4> Dibujamos el espacio ROC</h4>"
   ]
  },
  {
   "cell_type": "markdown",
   "metadata": {},
   "source": [
    "<p style=\"font-size: medium\">A continuación, calcularemos las tasas de FPR y TPR, que irán en el eje de las abscisas y eje de las ordenadas respectivamente. </p>"
   ]
  },
  {
   "cell_type": "code",
   "execution_count": 35,
   "metadata": {},
   "outputs": [
    {
     "data": {
      "image/png": "[encoded data removed]",
      "text/plain": [
       "<Figure size 432x288 with 1 Axes>"
      ]
     },
     "metadata": {
      "needs_background": "light"
     },
     "output_type": "display_data"
    }
   ],
   "source": [
    "FPR_g = matrix_g[0][1] / (matrix_g[0][1] + matrix_g[1][1])\n",
    "TPR_g = matrix_g[0][0] /(matrix_g[0][0] + matrix_g[1][0])\n",
    "\n",
    "#Plotteamos las gráficas\n",
    "\n",
    "plt.plot(FPR_t, TPR_t, color='red', marker='o', label='Tic-tac-toe')\n",
    "plt.plot(FPR_g, TPR_g, color='green', marker='o', label='German')\n",
    "plt.plot( [0,1],[0,1], ls='--') #Linea diagonal\n",
    "\n",
    "FPR = [FPR_g, FPR_t]\n",
    "TPR = [TPR_g, TPR_t]\n",
    "for x, y in zip(FPR, TPR):\n",
    "    plt.text(x, y, '({}, {})'.format(round(x,2), round(y,2)))\n",
    "\n",
    "plt.xlim(0, 1)\n",
    "plt.ylim(0, 1)\n",
    "plt.xlabel('FPR')\n",
    "plt.ylabel('TPR')\n",
    "plt.legend()\n",
    "plt.show()"
   ]
  },
  {
   "cell_type": "markdown",
   "metadata": {},
   "source": [
    "<p style=\"font-size: medium\"> A mayor distancia de la recta, por encima de esta, mejor es la predicción. Por lo que, podemos concluir que la predicción hecha en los datos de German es mejor a la de los datos de Tic-tac-toe.</p>\n",
    "\n",
    "<p style=\"font-size: medium\"> Nos ha parecido interesante calcular las distancias euclídeas exactas a la diagonal para corroborar nuestra conclusión. Ahora, los resultados.</p>"
   ]
  },
  {
   "cell_type": "code",
   "execution_count": 36,
   "metadata": {},
   "outputs": [
    {
     "name": "stdout",
     "output_type": "stream",
     "text": [
      "0.32391583778573557 0.22909363760383597 0.0\n"
     ]
    }
   ],
   "source": [
    "# Calculemos las distancias euclideas\n",
    "\n",
    "p1 = np.array([0,0])\n",
    "p2 = np.array([1,1])\n",
    "p_g = np.array([FPR_g,TPR_g])\n",
    "p_t = np.array([FPR_t,TPR_t])\n",
    "p_d = np.array([0.5,0.5])\n",
    "\n",
    "d_g = np.cross(p2 - p1,p_g - p1) / np.linalg.norm(p2 - p1)\n",
    "d_t = np.cross(p2 - p1,p_t - p1) / np.linalg.norm(p2 - p1)\n",
    "d_d = np.cross(p2 - p1,p_d - p1) / np.linalg.norm(p2 - p1)\n",
    "print(d_g, d_t, d_d)"
   ]
  },
  {
   "cell_type": "markdown",
   "metadata": {},
   "source": [
    "<p style=\"font-size: medium\"> Como hemos concluido anteriormente, observamos que la distancia d_g correspondiente a los datos de german, es mayor a la distancia d_t correspondiente a los datos de tic-tac-toe, y ambas están por encima de la diagonal. Hemos calculado la distancia de un punto dentro de la recta para asegurarnos de las distancias en sí estuviesen bien calculadas.</p>"
   ]
  }
 ],
 "metadata": {
  "kernelspec": {
   "display_name": "Python 3",
   "language": "python",
   "name": "python3"
  },
  "language_info": {
   "codemirror_mode": {
    "name": "ipython",
    "version": 3
   },
   "file_extension": ".py",
   "mimetype": "text/x-python",
   "name": "python",
   "nbconvert_exporter": "python",
   "pygments_lexer": "ipython3",
   "version": "3.6.8"
  }
 },
 "nbformat": 4,
 "nbformat_minor": 4
}
