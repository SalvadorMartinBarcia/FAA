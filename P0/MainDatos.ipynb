{
 "cells": [
  {
   "cell_type": "markdown",
   "metadata": {},
   "source": [
    "\n",
    "<h2 style=\"text-align:center;\" class=\"centrado\"> Prácticas FAA: Salvador Martin Barcía y Patricia Matos Meza </h2>\n",
    "<h3 style=\"text-align:center;\" class=\"centrado\"> Práctica 0: Introducción a la clase Datos </h3>\n"
   ]
  },
  {
   "cell_type": "markdown",
   "metadata": {},
   "source": [
    "<br>\n",
    "<p style=\"font-size: medium\"> A continuación pondremos el código del Main utilizado para probar las funcionalidades del constructor de la clase Datos. </p>\n",
    "<br>\n",
    "\n",
    "<p style=\"font-size: medium\"> Primero, importamos la clase en cuestión e instanciamos dos objetos. El objeto <b>dataset</b> contendrá los datos del archivo <i>tic-tac-toe.dat</i>, mientras que <b>dataset2</b> contendrá los datos del archivo <i>german.data</i>. </p>"
   ]
  },
  {
   "cell_type": "code",
   "execution_count": 5,
   "metadata": {},
   "outputs": [],
   "source": [
    "from Datos import Datos\n",
    "dataset = Datos('./tic-tac-toe.data')\n",
    "dataset2 = Datos('./german.data')"
   ]
  },
  {
   "cell_type": "markdown",
   "metadata": {},
   "source": [
    "<p style=\"font-size: medium\"> Una vez tenemos los objetos instaciados, imprimimos los atributos que hemos completado en el constructor. Mostraremos por pantalla cada uno de ellos. </p>\n",
    "<br>\n",
    "<p style=\"font-size: medium\"> A continuación, mostraremos el objeto dataset.</p>"
   ]
  },
  {
   "cell_type": "code",
   "execution_count": 10,
   "metadata": {},
   "outputs": [
    {
     "name": "stdout",
     "output_type": "stream",
     "text": [
      "Tic-Tac-Toe \n",
      "\n",
      "NominalAtributos: \n",
      "\n",
      "[True, True, True, True, True, True, True, True, True, True] \n",
      "\n",
      "Diccionario: \n",
      "\n",
      "{'b': 0, 'o': 1, 'x': 2, 'negative': 0, 'positive': 1} \n",
      "\n",
      "Datos: \n",
      "\n",
      "    TLeftSq TMidSq TRightSq MLeftSq MMidSq MRightSq BLeftSq BMidSq BRightSq  \\\n",
      "0         2      2        2       2      1        1       2      1        1   \n",
      "1         2      2        2       2      1        1       1      2        1   \n",
      "2         2      2        2       2      1        1       1      1        2   \n",
      "3         2      2        2       2      1        1       1      0        0   \n",
      "4         2      2        2       2      1        1       0      1        0   \n",
      "..      ...    ...      ...     ...    ...      ...     ...    ...      ...   \n",
      "953       1      2        2       2      1        1       1      2        2   \n",
      "954       1      2        1       2      2        1       2      1        2   \n",
      "955       1      2        1       2      1        2       2      1        2   \n",
      "956       1      2        1       1      2        2       2      1        2   \n",
      "957       1      1        2       2      2        1       1      2        2   \n",
      "\n",
      "    Class  \n",
      "0       1  \n",
      "1       1  \n",
      "2       1  \n",
      "3       1  \n",
      "4       1  \n",
      "..    ...  \n",
      "953     0  \n",
      "954     0  \n",
      "955     0  \n",
      "956     0  \n",
      "957     0  \n",
      "\n",
      "[958 rows x 10 columns] \n",
      "\n"
     ]
    }
   ],
   "source": [
    "print(\"Tic-Tac-Toe \\n\")\n",
    "print(\"NominalAtributos: \\n\")\n",
    "print(dataset.nominalAtributos, '\\n')\n",
    "print(\"Diccionario: \\n\")\n",
    "print(dataset.diccionario, '\\n')\n",
    "print(\"Datos: \\n\")\n",
    "print(dataset.datos, '\\n')"
   ]
  },
  {
   "cell_type": "markdown",
   "metadata": {},
   "source": [
    "<p style=\"font-size: medium\"> A continuación, mostraremos el objeto dataset2.</p>"
   ]
  },
  {
   "cell_type": "code",
   "execution_count": 11,
   "metadata": {},
   "outputs": [
    {
     "name": "stdout",
     "output_type": "stream",
     "text": [
      "German \n",
      "\n",
      "NominalAtributos: \n",
      "\n",
      "[True, False, True, True, False, True, True, False, True, True, False, True, False, True, True, False, True, False, True, True, False] \n",
      "\n",
      "Diccionario: \n",
      "\n",
      "{'A11': 0, 'A12': 1, 'A13': 2, 'A14': 3, 'A30': 0, 'A31': 1, 'A32': 2, 'A33': 3, 'A34': 4, 'A40': 0, 'A41': 1, 'A410': 2, 'A42': 3, 'A43': 4, 'A44': 5, 'A45': 6, 'A46': 7, 'A48': 8, 'A49': 9, 'A61': 0, 'A62': 1, 'A63': 2, 'A64': 3, 'A65': 4, 'A71': 0, 'A72': 1, 'A73': 2, 'A74': 3, 'A75': 4, 'A91': 0, 'A92': 1, 'A93': 2, 'A94': 3, 'A101': 0, 'A102': 1, 'A103': 2, 'A121': 0, 'A122': 1, 'A123': 2, 'A124': 3, 'A141': 0, 'A142': 1, 'A143': 2, 'A151': 0, 'A152': 1, 'A153': 2, 'A171': 0, 'A172': 1, 'A173': 2, 'A174': 3, 'A191': 0, 'A192': 1, 'A201': 0, 'A202': 1} \n",
      "\n",
      "Datos: \n",
      "\n",
      "    A1  A2 A3 A4    A5 A6 A7  A8 A9 A10  ...  A12 A13  A14 A15 A16  A17 A18  \\\n",
      "0    0   6  4  4  1169  4  4   4  2   0  ...    0  67    2   1   2    2   1   \n",
      "1    1  48  2  4  5951  0  2   2  1   0  ...    0  22    2   1   1    2   1   \n",
      "2    3  12  4  7  2096  0  3   2  2   0  ...    0  49    2   1   1    1   2   \n",
      "3    0  42  2  3  7882  0  3   2  2   2  ...    1  45    2   2   1    2   2   \n",
      "4    0  24  3  0  4870  0  2   3  2   0  ...    3  53    2   2   2    2   2   \n",
      "..  ..  .. .. ..   ... .. ..  .. ..  ..  ...  ...  ..  ...  ..  ..  ...  ..   \n",
      "995  3  12  2  3  1736  0  3   3  1   0  ...    0  31    2   1   1    1   1   \n",
      "996  0  30  2  1  3857  0  2   4  0   0  ...    1  40    2   1   1    3   1   \n",
      "997  3  12  2  4   804  0  4   4  2   0  ...    2  38    2   1   1    2   1   \n",
      "998  0  45  2  4  1845  0  2   4  2   0  ...    3  23    2   2   1    2   1   \n",
      "999  1  45  4  1  4576  1  0   3  2   0  ...    2  27    2   1   1    2   1   \n",
      "\n",
      "     A19 A20 Class  \n",
      "0      1   0     1  \n",
      "1      0   0     2  \n",
      "2      0   0     1  \n",
      "3      0   0     1  \n",
      "4      0   0     2  \n",
      "..   ...  ..   ...  \n",
      "995    0   0     1  \n",
      "996    1   0     1  \n",
      "997    0   0     1  \n",
      "998    1   0     2  \n",
      "999    0   0     1  \n",
      "\n",
      "[1000 rows x 21 columns] \n",
      "\n"
     ]
    }
   ],
   "source": [
    "print(\"German\", '\\n')\n",
    "print(\"NominalAtributos: \\n\")\n",
    "print(dataset2.nominalAtributos, '\\n')\n",
    "print(\"Diccionario: \\n\")\n",
    "print(dataset2.diccionario, '\\n')\n",
    "print(\"Datos: \\n\")\n",
    "print(dataset2.datos, '\\n')"
   ]
  }
 ],
 "metadata": {
  "kernelspec": {
   "display_name": "Python 3",
   "language": "python",
   "name": "python3"
  },
  "language_info": {
   "codemirror_mode": {
    "name": "ipython",
    "version": 3
   },
   "file_extension": ".py",
   "mimetype": "text/x-python",
   "name": "python",
   "nbconvert_exporter": "python",
   "pygments_lexer": "ipython3",
   "version": "3.6.8"
  }
 },
 "nbformat": 4,
 "nbformat_minor": 4
}
