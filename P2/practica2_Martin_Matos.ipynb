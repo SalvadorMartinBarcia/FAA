{
 "cells": [
  {
   "cell_type": "markdown",
   "metadata": {},
   "source": [
    "\n",
    "<h2 style=\"text-align:center;\" class=\"centrado\"> Prácticas FAA: Salvador Martín Barcia y Patricia Matos Meza </h2>\n",
    "<h3 style=\"text-align:center;\" class=\"centrado\"> Práctica 2: Modelos, Scikit-learn, Análisis ROC </h3>\n"
   ]
  },
  {
   "cell_type": "markdown",
   "metadata": {},
   "source": [
    "<p style=\"font-size: medium;\"> A continuación, distribuiremos este cuaderno en los diferentes clasificadores que hemos implementado: Naive Bayes, Vecinos Próximos y Regresión Logística. Al final de cada una de ellas habrá un resumen de lo medido para que así sea más fácil ver los resultados. </p>\n",
    "\n",
    "<p style=\"font-size: medium;\"> Ahora, importaremos todas las librerías necesarias para la ejecución. </p>"
   ]
  },
  {
   "cell_type": "code",
   "execution_count": 1,
   "metadata": {},
   "outputs": [],
   "source": [
    "from Datos import Datos\n",
    "from ValidacionCruzada import ValidacionCruzada\n",
    "from ValidacionSimple import ValidacionSimple\n",
    "from ClasificadorNaiveBayes import ClasificadorNaiveBayes\n",
    "from ClasificadorVecinosProximos import ClasificadorVecinosProximos\n",
    "from ClasificadorRegresionLogistica import ClasificadorRegresionLogistica\n",
    "from sklearn import preprocessing, naive_bayes, model_selection, linear_model, neighbors\n",
    "import pandas as pd\n",
    "import numpy as np\n",
    "from sklearn.metrics import accuracy_score, confusion_matrix\n",
    "import matplotlib.pyplot as plt\n",
    "import dataframe_image as dfi\n",
    "from IPython.display import display\n",
    "\n",
    "# Ignoramos warnings porque al ejecutar scikit de regresión logística salta uno con epocas menores a 100\n",
    "# Y para tener tiempos de ejecución medianamente pequeños al compararlo con nuestra implementación\n",
    "import warnings; warnings.simplefilter('ignore')"
   ]
  },
  {
   "cell_type": "code",
   "execution_count": 2,
   "metadata": {},
   "outputs": [
    {
     "name": "stdout",
     "output_type": "stream",
     "text": [
      "Collecting package metadata (current_repodata.json): done\n",
      "Solving environment: done\n",
      "\n",
      "# All requested packages already installed.\n",
      "\n"
     ]
    }
   ],
   "source": [
    "# Instalamos el paquete dataframe_image que nos ayudará a plasmar los datos de manera más amigable\n",
    "import sys\n",
    "!conda install -c conda-forge --yes --prefix {sys.prefix} dataframe_image"
   ]
  },
  {
   "cell_type": "markdown",
   "metadata": {},
   "source": [
    "<h2> Obtención de los datos </h2>"
   ]
  },
  {
   "cell_type": "markdown",
   "metadata": {},
   "source": [
    "<p style=\"font-size: medium\"> Para esta primera parte de la práctica, cogeremos los datos de nuestra implementación de la clase Datos. A diferencia de la práctica 1, utilizaremos dos nuevos conjuntos de datos proporcionados.</p>"
   ]
  },
  {
   "cell_type": "code",
   "execution_count": 3,
   "metadata": {},
   "outputs": [],
   "source": [
    "dataset = Datos('data/pima-indians-diabetes.data')\n",
    "dataset2 = Datos('data/wdbc.data')"
   ]
  },
  {
   "cell_type": "markdown",
   "metadata": {},
   "source": [
    "<h2> Naive-Bayes </h2>\n",
    "<p style=\"font-size: medium\"> Empezaremos con el clasificador Naive Bayes programado la práctica pasada. Ejecutaremos este clasificiador con las distintas estrategias de particionado también programadas en la práctica 1: Validación Simple y Validación Cruzada. No haremos hincapié en los comentarios de los resultados, puesto que este clasificador fue ya discutido en la práctica anterior.</p>\n",
    "<h3> Validación Simple </h3>\n",
    "<p style=\"font-size: medium\">Ejecutaremos a continuación la estrategia de Validación Simple con las funciones de la práctica anterior. </p>\n",
    "\n",
    "<h4> Indians </h4>"
   ]
  },
  {
   "cell_type": "code",
   "execution_count": 4,
   "metadata": {},
   "outputs": [
    {
     "name": "stdout",
     "output_type": "stream",
     "text": [
      "0.30217391304347824\n"
     ]
    }
   ],
   "source": [
    "estrategia = ValidacionSimple(0.4, 1)\n",
    "clasificador = ClasificadorNaiveBayes(False)\n",
    "error_vs_sin_laplace_i_faa = clasificador.validacion(estrategia, dataset, clasificador)\n",
    "print(error_vs_sin_laplace_i_faa[0])"
   ]
  },
  {
   "cell_type": "markdown",
   "metadata": {},
   "source": [
    "<h4> WDBC </h4>"
   ]
  },
  {
   "cell_type": "code",
   "execution_count": 5,
   "metadata": {},
   "outputs": [
    {
     "name": "stdout",
     "output_type": "stream",
     "text": [
      "0.07941176470588235\n"
     ]
    }
   ],
   "source": [
    "estrategia = ValidacionSimple(0.4, 1)\n",
    "clasificador = ClasificadorNaiveBayes(False)\n",
    "error_vs_sin_laplace_w_faa = clasificador.validacion(estrategia, dataset2, clasificador)\n",
    "print(error_vs_sin_laplace_w_faa[0])"
   ]
  },
  {
   "cell_type": "markdown",
   "metadata": {},
   "source": [
    "<h4> Resumen de lo medido </h4>"
   ]
  },
  {
   "cell_type": "code",
   "execution_count": 6,
   "metadata": {},
   "outputs": [
    {
     "name": "stdout",
     "output_type": "stream",
     "text": [
      "          Indians      WDBC\n",
      "Errores  0.302174  0.079412\n"
     ]
    }
   ],
   "source": [
    "datos = [[error_vs_sin_laplace_i_faa[0], error_vs_sin_laplace_w_faa[0] ]]\n",
    "resumen = pd.DataFrame(datos, index=['Errores'],columns=['Indians', 'WDBC'])\n",
    "print(resumen)"
   ]
  },
  {
   "cell_type": "markdown",
   "metadata": {},
   "source": [
    "<h3> Validación Cruzada </h3>\n",
    "<p style=\"font-size: medium\">Ejecutaremos a continuación la estrategia de Validación Cruzada con las funciones programas en esta práctica. </p>\n",
    "\n",
    "<h4> Indians </h4>"
   ]
  },
  {
   "cell_type": "code",
   "execution_count": 7,
   "metadata": {},
   "outputs": [
    {
     "name": "stdout",
     "output_type": "stream",
     "text": [
      "Particion 1 : 0.265625\n",
      "Particion 2 : 0.21875\n",
      "Particion 3 : 0.2708333333333333\n",
      "Particion 4 : 0.2916666666666667\n"
     ]
    }
   ],
   "source": [
    "estrategia = ValidacionCruzada(4)\n",
    "clasificador = ClasificadorNaiveBayes(False)\n",
    "error_vc_sin_laplace_i_faa = clasificador.validacion(estrategia, dataset, clasificador)\n",
    "\n",
    "for i, error in enumerate(error_vc_sin_laplace_i_faa):\n",
    "    print('Particion', i+1, ':', error)"
   ]
  },
  {
   "cell_type": "markdown",
   "metadata": {},
   "source": [
    "<h4> WDBC </h4>"
   ]
  },
  {
   "cell_type": "code",
   "execution_count": 8,
   "metadata": {},
   "outputs": [
    {
     "name": "stdout",
     "output_type": "stream",
     "text": [
      "Particion 1 : 0.07042253521126761\n",
      "Particion 2 : 0.04929577464788732\n",
      "Particion 3 : 0.08450704225352113\n",
      "Particion 4 : 0.06993006993006994\n"
     ]
    }
   ],
   "source": [
    "estrategia = ValidacionCruzada(4)\n",
    "clasificador = ClasificadorNaiveBayes(False)\n",
    "error_vc_sin_laplace_w_faa = clasificador.validacion(estrategia, dataset2, clasificador)\n",
    "\n",
    "for i, error in enumerate(error_vc_sin_laplace_w_faa):\n",
    "    print('Particion', i+1, ':', error)"
   ]
  },
  {
   "cell_type": "markdown",
   "metadata": {},
   "source": [
    "<h4> Resumen de lo medido </h4>"
   ]
  },
  {
   "cell_type": "code",
   "execution_count": 9,
   "metadata": {},
   "outputs": [
    {
     "name": "stdout",
     "output_type": "stream",
     "text": [
      "         Particion 1  Particion 2  Particion 3   Particion 4\n",
      "Indians     0.265625     0.218750     0.270833      0.291667\n",
      "WDBC        0.070423     0.049296     0.084507      0.069930\n"
     ]
    }
   ],
   "source": [
    "datos = [error_vc_sin_laplace_i_faa, error_vc_sin_laplace_w_faa]\n",
    "resumen = pd.DataFrame(datos, columns=['Particion 1', 'Particion 2', 'Particion 3',' Particion 4'],index=['Indians', 'WDBC'])\n",
    "print(resumen)"
   ]
  },
  {
   "cell_type": "markdown",
   "metadata": {},
   "source": [
    "<h2> Regresión Logística </h2>\n",
    "\n",
    "<p style=\"font-size: medium\">A continuación, mostraremos los valores que hemos seleccionado para probar el clasficador con valores distintos de épocas y constante de aprendizaje.</p>\n",
    "<p style=\"font-size: medium\">En el caso de las épocas hemos escogido números medianamente grandes para poder ver las diferencias con más claridad, y a su vez, que no aumentase demasiado el tiempo de ejecución. En cuanto a las constantes de aprendizaje, hemos seleccionado tanto valores grandes (10 y 1) como valores pequeños (0.1 y 0.01), de tal manera de evaluar el cambio de la frontera y su precisión respecto al mismo. Como sabemos, la frontera cambiará más bruscamente o más precisamente de acuerdo al valor de la constante. Evaluaremos también ventajas y desventajas que trae cada valor.</p>"
   ]
  },
  {
   "cell_type": "code",
   "execution_count": 10,
   "metadata": {},
   "outputs": [],
   "source": [
    "epocas = [10, 20, 50]\n",
    "cAprendizajes = [10, 1, 0.1, 0.01]"
   ]
  },
  {
   "cell_type": "markdown",
   "metadata": {},
   "source": [
    "<h3> Validación Simple </h3>\n",
    "<p style=\"font-size: medium\">Ejecutaremos a continuación la estrategia de Validación Simple con las funciones programas en esta práctica. Obtendremos un resultado por constante de aprendizaje para cada una de las épocas.</p>"
   ]
  },
  {
   "cell_type": "markdown",
   "metadata": {},
   "source": [
    "<h4> Indians </h4>"
   ]
  },
  {
   "cell_type": "code",
   "execution_count": 11,
   "metadata": {},
   "outputs": [
    {
     "name": "stdout",
     "output_type": "stream",
     "text": [
      "[[0.30869565217391304, 0.2782608695652174, 0.25, 0.23043478260869565], [0.35, 0.3652173913043478, 0.22391304347826088, 0.22608695652173913], [0.29347826086956524, 0.30869565217391304, 0.2891304347826087, 0.2565217391304348]]\n"
     ]
    }
   ],
   "source": [
    "data_rl_vs_i = []\n",
    "error_vs_sin_laplace_i_faa_rl = [] \n",
    "for epoca in epocas:\n",
    "    for n in cAprendizajes:\n",
    "        estrategia = ValidacionSimple(0.4, 1)\n",
    "        clasificador = ClasificadorRegresionLogistica(epoca, n)\n",
    "        error_vs_sin_laplace_i_faa_rl.extend(clasificador.validacion(estrategia, dataset, clasificador))\n",
    "    data_rl_vs_i.append(error_vs_sin_laplace_i_faa_rl)\n",
    "    error_vs_sin_laplace_i_faa_rl = []\n",
    "print(data_rl_vs_i)"
   ]
  },
  {
   "cell_type": "markdown",
   "metadata": {},
   "source": [
    "<h4> WDBC </h4>"
   ]
  },
  {
   "cell_type": "code",
   "execution_count": 12,
   "metadata": {},
   "outputs": [
    {
     "name": "stdout",
     "output_type": "stream",
     "text": [
      "[[0.03823529411764706, 0.029411764705882353, 0.029411764705882353, 0.03235294117647059], [0.05588235294117647, 0.04411764705882353, 0.04411764705882353, 0.026470588235294117], [0.06470588235294118, 0.047058823529411764, 0.026470588235294117, 0.026470588235294117]]\n"
     ]
    }
   ],
   "source": [
    "data_rl_vs_g = []\n",
    "error_vs_sin_laplace_w_faa_rl = []\n",
    "for epoca in epocas:\n",
    "    for n in cAprendizajes:\n",
    "        estrategia = ValidacionSimple(0.4, 1)\n",
    "        clasificador = ClasificadorRegresionLogistica(epoca, n)\n",
    "        error_vs_sin_laplace_w_faa_rl.extend(clasificador.validacion(estrategia, dataset2, clasificador))\n",
    "    data_rl_vs_g.append(error_vs_sin_laplace_w_faa_rl)\n",
    "    error_vs_sin_laplace_w_faa_rl = [] \n",
    "print(data_rl_vs_g)"
   ]
  },
  {
   "cell_type": "markdown",
   "metadata": {},
   "source": [
    "<h4> Resumen de lo medido </h4>"
   ]
  },
  {
   "cell_type": "markdown",
   "metadata": {},
   "source": [
    "<p style=\"font-size: medium\">A continuación, hemos utilizados Dataframes con gradientes para representar los resultados para cada uno de los conjuntos de datos, en donde, mientras más oscuros estén más elevados serán sus valores y mientras menos oscuros estén, pasará lo contrario.</p>"
   ]
  },
  {
   "cell_type": "markdown",
   "metadata": {},
   "source": [
    "<h5> Indians </h5>"
   ]
  },
  {
   "cell_type": "code",
   "execution_count": 13,
   "metadata": {},
   "outputs": [
    {
     "data": {
      "text/html": [
       "<style  type=\"text/css\" >\n",
       "#T_3f6599b8_2f92_11eb_b020_6999629006a3row0_col0,#T_3f6599b8_2f92_11eb_b020_6999629006a3row1_col1,#T_3f6599b8_2f92_11eb_b020_6999629006a3row2_col1{\n",
       "            background-color:  #2575b7;\n",
       "            color:  #000000;\n",
       "        }#T_3f6599b8_2f92_11eb_b020_6999629006a3row0_col1{\n",
       "            background-color:  #61a7d2;\n",
       "            color:  #000000;\n",
       "        }#T_3f6599b8_2f92_11eb_b020_6999629006a3row0_col2{\n",
       "            background-color:  #a9cfe5;\n",
       "            color:  #000000;\n",
       "        }#T_3f6599b8_2f92_11eb_b020_6999629006a3row0_col3,#T_3f6599b8_2f92_11eb_b020_6999629006a3row1_col2,#T_3f6599b8_2f92_11eb_b020_6999629006a3row2_col3{\n",
       "            background-color:  #cee0f2;\n",
       "            color:  #000000;\n",
       "        }#T_3f6599b8_2f92_11eb_b020_6999629006a3row1_col0{\n",
       "            background-color:  #3484bf;\n",
       "            color:  #000000;\n",
       "        }#T_3f6599b8_2f92_11eb_b020_6999629006a3row1_col3{\n",
       "            background-color:  #cddff1;\n",
       "            color:  #000000;\n",
       "        }#T_3f6599b8_2f92_11eb_b020_6999629006a3row2_col0{\n",
       "            background-color:  #519ccc;\n",
       "            color:  #000000;\n",
       "        }#T_3f6599b8_2f92_11eb_b020_6999629006a3row2_col2{\n",
       "            background-color:  #5fa6d1;\n",
       "            color:  #000000;\n",
       "        }</style><table id=\"T_3f6599b8_2f92_11eb_b020_6999629006a3\" ><thead>    <tr>        <th class=\"blank level0\" ></th>        <th class=\"col_heading level0 col0\" >n = 10</th>        <th class=\"col_heading level0 col1\" >n = 1</th>        <th class=\"col_heading level0 col2\" >n = 0.1</th>        <th class=\"col_heading level0 col3\" > n = 0.01</th>    </tr></thead><tbody>\n",
       "                <tr>\n",
       "                        <th id=\"T_3f6599b8_2f92_11eb_b020_6999629006a3level0_row0\" class=\"row_heading level0 row0\" >epoca = 10</th>\n",
       "                        <td id=\"T_3f6599b8_2f92_11eb_b020_6999629006a3row0_col0\" class=\"data row0 col0\" >0.308696</td>\n",
       "                        <td id=\"T_3f6599b8_2f92_11eb_b020_6999629006a3row0_col1\" class=\"data row0 col1\" >0.278261</td>\n",
       "                        <td id=\"T_3f6599b8_2f92_11eb_b020_6999629006a3row0_col2\" class=\"data row0 col2\" >0.250000</td>\n",
       "                        <td id=\"T_3f6599b8_2f92_11eb_b020_6999629006a3row0_col3\" class=\"data row0 col3\" >0.230435</td>\n",
       "            </tr>\n",
       "            <tr>\n",
       "                        <th id=\"T_3f6599b8_2f92_11eb_b020_6999629006a3level0_row1\" class=\"row_heading level0 row1\" >epoca = 20</th>\n",
       "                        <td id=\"T_3f6599b8_2f92_11eb_b020_6999629006a3row1_col0\" class=\"data row1 col0\" >0.350000</td>\n",
       "                        <td id=\"T_3f6599b8_2f92_11eb_b020_6999629006a3row1_col1\" class=\"data row1 col1\" >0.365217</td>\n",
       "                        <td id=\"T_3f6599b8_2f92_11eb_b020_6999629006a3row1_col2\" class=\"data row1 col2\" >0.223913</td>\n",
       "                        <td id=\"T_3f6599b8_2f92_11eb_b020_6999629006a3row1_col3\" class=\"data row1 col3\" >0.226087</td>\n",
       "            </tr>\n",
       "            <tr>\n",
       "                        <th id=\"T_3f6599b8_2f92_11eb_b020_6999629006a3level0_row2\" class=\"row_heading level0 row2\" >epoca = 50</th>\n",
       "                        <td id=\"T_3f6599b8_2f92_11eb_b020_6999629006a3row2_col0\" class=\"data row2 col0\" >0.293478</td>\n",
       "                        <td id=\"T_3f6599b8_2f92_11eb_b020_6999629006a3row2_col1\" class=\"data row2 col1\" >0.308696</td>\n",
       "                        <td id=\"T_3f6599b8_2f92_11eb_b020_6999629006a3row2_col2\" class=\"data row2 col2\" >0.289130</td>\n",
       "                        <td id=\"T_3f6599b8_2f92_11eb_b020_6999629006a3row2_col3\" class=\"data row2 col3\" >0.256522</td>\n",
       "            </tr>\n",
       "    </tbody></table>"
      ],
      "text/plain": [
       "<pandas.io.formats.style.Styler at 0x7fcac5f85c50>"
      ]
     },
     "metadata": {},
     "output_type": "display_data"
    }
   ],
   "source": [
    "resumen = pd.DataFrame(data_rl_vs_i, columns=['n = 10', 'n = 1', 'n = 0.1',' n = 0.01'],index=['epoca = 10', 'epoca = 20', 'epoca = 50'])\n",
    "resumen = resumen.style.background_gradient(cmap='Blues', low=.4, high=0.51, axis=1)\n",
    "display(resumen)"
   ]
  },
  {
   "cell_type": "markdown",
   "metadata": {},
   "source": [
    "<p style=\"font-size: medium\"> Hemos obtenido como resultado valores bastante variados. Tenemos errores grandes, medios y pequeños. </p>\n",
    "<p style=\"font-size: medium\"> Para 10 y 20 épocas, vemos que los errores más grandes están para las constantes con valor 10, es decir la frontera se ajusta peor para la constante aprendizaje 10. El mejor caso sería, para ambas, el error para la constante de valor 0.01. Al ser un valor pequeños, quiere decir que la frontera va cambiando poco a poco, consiguiendo así un número mayor de coincidencias que los demás valores. Cabe destacar que, aunque el mejor valor sea ese, el resto también pueden ser consideranos como mejores, ya que el error es casi constante para estos números de épocas.</p>\n",
    "\n",
    "<p style=\"font-size: medium\"> Finalmente, para 50 épocas, el error más alto es en la constante de valor 1, siguiendole el error de n = 10, mientras que el clasificador tiene un número de errores bajos para n = 0.01 y n = 0.1.</p>\n",
    "\n",
    "<p style=\"font-size: medium\"> Podemos entonces concluir que para este conjunto de datos los valores para la constante de aprendizaje que más favorecen al modelo son los pequeños, es decir, en nuestro caso n = 0.1 y n = 0.01.</p>\n"
   ]
  },
  {
   "cell_type": "markdown",
   "metadata": {},
   "source": [
    "<h5> WDBC </h5>"
   ]
  },
  {
   "cell_type": "code",
   "execution_count": 14,
   "metadata": {},
   "outputs": [
    {
     "data": {
      "text/html": [
       "<style  type=\"text/css\" >\n",
       "#T_3f72c3c2_2f92_11eb_b020_6999629006a3row0_col0,#T_3f72c3c2_2f92_11eb_b020_6999629006a3row1_col0,#T_3f72c3c2_2f92_11eb_b020_6999629006a3row2_col0{\n",
       "            background-color:  #2575b7;\n",
       "            color:  #000000;\n",
       "        }#T_3f72c3c2_2f92_11eb_b020_6999629006a3row0_col1,#T_3f72c3c2_2f92_11eb_b020_6999629006a3row0_col2,#T_3f72c3c2_2f92_11eb_b020_6999629006a3row1_col3,#T_3f72c3c2_2f92_11eb_b020_6999629006a3row2_col2,#T_3f72c3c2_2f92_11eb_b020_6999629006a3row2_col3{\n",
       "            background-color:  #cee0f2;\n",
       "            color:  #000000;\n",
       "        }#T_3f72c3c2_2f92_11eb_b020_6999629006a3row0_col3{\n",
       "            background-color:  #9ac8e0;\n",
       "            color:  #000000;\n",
       "        }#T_3f72c3c2_2f92_11eb_b020_6999629006a3row1_col1,#T_3f72c3c2_2f92_11eb_b020_6999629006a3row1_col2{\n",
       "            background-color:  #63a8d3;\n",
       "            color:  #000000;\n",
       "        }#T_3f72c3c2_2f92_11eb_b020_6999629006a3row2_col1{\n",
       "            background-color:  #6fb0d7;\n",
       "            color:  #000000;\n",
       "        }</style><table id=\"T_3f72c3c2_2f92_11eb_b020_6999629006a3\" ><thead>    <tr>        <th class=\"blank level0\" ></th>        <th class=\"col_heading level0 col0\" >n = 10</th>        <th class=\"col_heading level0 col1\" >n = 1</th>        <th class=\"col_heading level0 col2\" >n = 0.1</th>        <th class=\"col_heading level0 col3\" > n = 0.01</th>    </tr></thead><tbody>\n",
       "                <tr>\n",
       "                        <th id=\"T_3f72c3c2_2f92_11eb_b020_6999629006a3level0_row0\" class=\"row_heading level0 row0\" >epoca = 10</th>\n",
       "                        <td id=\"T_3f72c3c2_2f92_11eb_b020_6999629006a3row0_col0\" class=\"data row0 col0\" >0.038235</td>\n",
       "                        <td id=\"T_3f72c3c2_2f92_11eb_b020_6999629006a3row0_col1\" class=\"data row0 col1\" >0.029412</td>\n",
       "                        <td id=\"T_3f72c3c2_2f92_11eb_b020_6999629006a3row0_col2\" class=\"data row0 col2\" >0.029412</td>\n",
       "                        <td id=\"T_3f72c3c2_2f92_11eb_b020_6999629006a3row0_col3\" class=\"data row0 col3\" >0.032353</td>\n",
       "            </tr>\n",
       "            <tr>\n",
       "                        <th id=\"T_3f72c3c2_2f92_11eb_b020_6999629006a3level0_row1\" class=\"row_heading level0 row1\" >epoca = 20</th>\n",
       "                        <td id=\"T_3f72c3c2_2f92_11eb_b020_6999629006a3row1_col0\" class=\"data row1 col0\" >0.055882</td>\n",
       "                        <td id=\"T_3f72c3c2_2f92_11eb_b020_6999629006a3row1_col1\" class=\"data row1 col1\" >0.044118</td>\n",
       "                        <td id=\"T_3f72c3c2_2f92_11eb_b020_6999629006a3row1_col2\" class=\"data row1 col2\" >0.044118</td>\n",
       "                        <td id=\"T_3f72c3c2_2f92_11eb_b020_6999629006a3row1_col3\" class=\"data row1 col3\" >0.026471</td>\n",
       "            </tr>\n",
       "            <tr>\n",
       "                        <th id=\"T_3f72c3c2_2f92_11eb_b020_6999629006a3level0_row2\" class=\"row_heading level0 row2\" >epoca = 50</th>\n",
       "                        <td id=\"T_3f72c3c2_2f92_11eb_b020_6999629006a3row2_col0\" class=\"data row2 col0\" >0.064706</td>\n",
       "                        <td id=\"T_3f72c3c2_2f92_11eb_b020_6999629006a3row2_col1\" class=\"data row2 col1\" >0.047059</td>\n",
       "                        <td id=\"T_3f72c3c2_2f92_11eb_b020_6999629006a3row2_col2\" class=\"data row2 col2\" >0.026471</td>\n",
       "                        <td id=\"T_3f72c3c2_2f92_11eb_b020_6999629006a3row2_col3\" class=\"data row2 col3\" >0.026471</td>\n",
       "            </tr>\n",
       "    </tbody></table>"
      ],
      "text/plain": [
       "<pandas.io.formats.style.Styler at 0x7fcac5f2c208>"
      ]
     },
     "metadata": {},
     "output_type": "display_data"
    }
   ],
   "source": [
    "resumen = pd.DataFrame(data_rl_vs_g, columns=['n = 10', 'n = 1', 'n = 0.1',' n = 0.01'],index=['epoca = 10', 'epoca = 20', 'epoca = 50'])\n",
    "resumen = resumen.style.background_gradient(cmap='Blues', low=.4, high=0.51, axis=1)\n",
    "display(resumen)"
   ]
  },
  {
   "cell_type": "markdown",
   "metadata": {},
   "source": [
    "<p style=\"font-size: medium\"> En comparación con el conjunto de datos anterior, hemos obtenido errores mucho más pequeños. Esto podría significar que el modelo de regresión lineal junto a la estrategia de particionado, se ajustan mejor a este dataset que al anterior.</p>\n",
    "<p style=\"font-size: medium\"> Podemos observar que se mantiene más o menos el mismo comportamiento que en el conjunto de datos de Indians. Sin embargo, en este caso los mejores valores no se encuentran en las constantes de menor valor, sino en las de la mitad, que son n =  1 y n = 0.1. Entonces, este grupo de datos necesita un ajuste de la frontera ni demasiado preciso, ni demasiado brusco.</p>"
   ]
  },
  {
   "cell_type": "markdown",
   "metadata": {},
   "source": [
    "<h3> Validación Cruzada </h3>\n",
    "<p style=\"font-size: medium\">Ejecutaremos a continuación la estrategia de Validación Cruzada cambiando los valores de las épocas y de las constantes al igual que en Validación Simple. Por cada constante de aprendizaje, guardaremos la media de los errores de las particiones para simplificar la representación de los mismos. Los valores elegidos para las épocas y para las constantes de aprendizaje serán los mismos que para el apartado anterior.</p>\n",
    "\n",
    "<h4> Indians </h4>"
   ]
  },
  {
   "cell_type": "code",
   "execution_count": 15,
   "metadata": {},
   "outputs": [
    {
     "name": "stdout",
     "output_type": "stream",
     "text": [
      "[[0.30338541666666663, 0.2786458333333333, 0.25390625, 0.22265625], [0.3684895833333333, 0.25520833333333337, 0.24088541666666666, 0.23177083333333334], [0.3046875, 0.3828125, 0.2513020833333333, 0.22526041666666666]]\n"
     ]
    }
   ],
   "source": [
    "data_rl_vc_i = []\n",
    "error_vc_sin_laplace_i_faa_rl = []\n",
    "for epoca in epocas:\n",
    "    for n in cAprendizajes:\n",
    "        estrategia = ValidacionCruzada(4)\n",
    "        clasificador = ClasificadorRegresionLogistica(epoca, n)\n",
    "        error_vc_sin_laplace_i_faa_rl.append(np.mean(clasificador.validacion(estrategia, dataset, clasificador)))\n",
    "    data_rl_vc_i.append(error_vc_sin_laplace_i_faa_rl)\n",
    "    error_vc_sin_laplace_i_faa_rl = []\n",
    "print(data_rl_vc_i)  "
   ]
  },
  {
   "cell_type": "markdown",
   "metadata": {},
   "source": [
    "<h4> WDBC </h4>"
   ]
  },
  {
   "cell_type": "code",
   "execution_count": 16,
   "metadata": {},
   "outputs": [
    {
     "name": "stdout",
     "output_type": "stream",
     "text": [
      "[[0.033401457697232344, 0.045676154831084406, 0.02808283266029745, 0.02985570767260908], [0.033401457697232344, 0.04568846646311435, 0.03867083620604748, 0.0475228996355757], [0.04570077809514429, 0.04919728159164778, 0.038658524574017535, 0.029880330936668965]]\n"
     ]
    }
   ],
   "source": [
    "data_rl_vc_w = []\n",
    "error_vc_sin_laplace_w_faa_rl = []\n",
    "for epoca in epocas:\n",
    "    for n in cAprendizajes:\n",
    "        estrategia = ValidacionCruzada(4)\n",
    "        clasificador = ClasificadorRegresionLogistica(epoca, n)\n",
    "        error_vc_sin_laplace_w_faa_rl.append(np.mean(clasificador.validacion(estrategia, dataset2, clasificador)))\n",
    "    data_rl_vc_w.append(error_vc_sin_laplace_w_faa_rl)\n",
    "    error_vc_sin_laplace_w_faa_rl = []\n",
    "print(data_rl_vc_w)  "
   ]
  },
  {
   "cell_type": "markdown",
   "metadata": {},
   "source": [
    "<h4> Resumen de lo medido </h4>\n",
    "<p style=\"font-size: medium\">A continuación, los datos agrupados en dataframes.</p>"
   ]
  },
  {
   "cell_type": "markdown",
   "metadata": {},
   "source": [
    "<h5> Indians </h5>"
   ]
  },
  {
   "cell_type": "code",
   "execution_count": 17,
   "metadata": {},
   "outputs": [
    {
     "data": {
      "text/html": [
       "<style  type=\"text/css\" >\n",
       "#T_409ef7a6_2f93_11eb_b020_6999629006a3row0_col0,#T_409ef7a6_2f93_11eb_b020_6999629006a3row1_col0,#T_409ef7a6_2f93_11eb_b020_6999629006a3row2_col1{\n",
       "            background-color:  #2575b7;\n",
       "            color:  #000000;\n",
       "        }#T_409ef7a6_2f93_11eb_b020_6999629006a3row0_col1{\n",
       "            background-color:  #539ecd;\n",
       "            color:  #000000;\n",
       "        }#T_409ef7a6_2f93_11eb_b020_6999629006a3row0_col2{\n",
       "            background-color:  #8fc2de;\n",
       "            color:  #000000;\n",
       "        }#T_409ef7a6_2f93_11eb_b020_6999629006a3row0_col3,#T_409ef7a6_2f93_11eb_b020_6999629006a3row1_col3,#T_409ef7a6_2f93_11eb_b020_6999629006a3row2_col3{\n",
       "            background-color:  #cee0f2;\n",
       "            color:  #000000;\n",
       "        }#T_409ef7a6_2f93_11eb_b020_6999629006a3row1_col1{\n",
       "            background-color:  #b7d4ea;\n",
       "            color:  #000000;\n",
       "        }#T_409ef7a6_2f93_11eb_b020_6999629006a3row1_col2{\n",
       "            background-color:  #c7dcef;\n",
       "            color:  #000000;\n",
       "        }#T_409ef7a6_2f93_11eb_b020_6999629006a3row2_col0{\n",
       "            background-color:  #75b4d8;\n",
       "            color:  #000000;\n",
       "        }#T_409ef7a6_2f93_11eb_b020_6999629006a3row2_col2{\n",
       "            background-color:  #b8d5ea;\n",
       "            color:  #000000;\n",
       "        }</style><table id=\"T_409ef7a6_2f93_11eb_b020_6999629006a3\" ><thead>    <tr>        <th class=\"blank level0\" ></th>        <th class=\"col_heading level0 col0\" >n = 10</th>        <th class=\"col_heading level0 col1\" >n = 1</th>        <th class=\"col_heading level0 col2\" >n = 0.1</th>        <th class=\"col_heading level0 col3\" > n = 0.01</th>    </tr></thead><tbody>\n",
       "                <tr>\n",
       "                        <th id=\"T_409ef7a6_2f93_11eb_b020_6999629006a3level0_row0\" class=\"row_heading level0 row0\" >epoca = 10</th>\n",
       "                        <td id=\"T_409ef7a6_2f93_11eb_b020_6999629006a3row0_col0\" class=\"data row0 col0\" >0.303385</td>\n",
       "                        <td id=\"T_409ef7a6_2f93_11eb_b020_6999629006a3row0_col1\" class=\"data row0 col1\" >0.278646</td>\n",
       "                        <td id=\"T_409ef7a6_2f93_11eb_b020_6999629006a3row0_col2\" class=\"data row0 col2\" >0.253906</td>\n",
       "                        <td id=\"T_409ef7a6_2f93_11eb_b020_6999629006a3row0_col3\" class=\"data row0 col3\" >0.222656</td>\n",
       "            </tr>\n",
       "            <tr>\n",
       "                        <th id=\"T_409ef7a6_2f93_11eb_b020_6999629006a3level0_row1\" class=\"row_heading level0 row1\" >epoca = 20</th>\n",
       "                        <td id=\"T_409ef7a6_2f93_11eb_b020_6999629006a3row1_col0\" class=\"data row1 col0\" >0.368490</td>\n",
       "                        <td id=\"T_409ef7a6_2f93_11eb_b020_6999629006a3row1_col1\" class=\"data row1 col1\" >0.255208</td>\n",
       "                        <td id=\"T_409ef7a6_2f93_11eb_b020_6999629006a3row1_col2\" class=\"data row1 col2\" >0.240885</td>\n",
       "                        <td id=\"T_409ef7a6_2f93_11eb_b020_6999629006a3row1_col3\" class=\"data row1 col3\" >0.231771</td>\n",
       "            </tr>\n",
       "            <tr>\n",
       "                        <th id=\"T_409ef7a6_2f93_11eb_b020_6999629006a3level0_row2\" class=\"row_heading level0 row2\" >epoca = 50</th>\n",
       "                        <td id=\"T_409ef7a6_2f93_11eb_b020_6999629006a3row2_col0\" class=\"data row2 col0\" >0.304688</td>\n",
       "                        <td id=\"T_409ef7a6_2f93_11eb_b020_6999629006a3row2_col1\" class=\"data row2 col1\" >0.382812</td>\n",
       "                        <td id=\"T_409ef7a6_2f93_11eb_b020_6999629006a3row2_col2\" class=\"data row2 col2\" >0.251302</td>\n",
       "                        <td id=\"T_409ef7a6_2f93_11eb_b020_6999629006a3row2_col3\" class=\"data row2 col3\" >0.225260</td>\n",
       "            </tr>\n",
       "    </tbody></table>"
      ],
      "text/plain": [
       "<pandas.io.formats.style.Styler at 0x7fcac5e9a898>"
      ]
     },
     "metadata": {},
     "output_type": "display_data"
    }
   ],
   "source": [
    "resumen = pd.DataFrame(data_rl_vc_i, columns=['n = 10', 'n = 1', 'n = 0.1',' n = 0.01'],index=['epoca = 10', 'epoca = 20', 'epoca = 50'])\n",
    "resumen = resumen.style.background_gradient(cmap='Blues', low=.4, high=0.51, axis=1)\n",
    "display(resumen)"
   ]
  },
  {
   "cell_type": "markdown",
   "metadata": {},
   "source": [
    "<p style=\"font-size: medium\"> El comportamiento de los errores es similar al comportamiento del mismo dataset pero en validación simple. Los errores más altos se correspondes con los valores más altos de constante, y los mínimos se corresponden a los valores mínimos de n. </p>\n",
    "\n",
    "<p style=\"font-size: medium\"> Por otro lado, como esperábamos, los errores máximos son más pequeños que los errores máximos de Validación Simple, ya que Validación Cruzada hace una separación de los datos más exhaustiva que permite que la evaluación sea más certera que en la estrategia de particionado anterior. </p>"
   ]
  },
  {
   "cell_type": "markdown",
   "metadata": {},
   "source": [
    "<h5> WDBC </h5>"
   ]
  },
  {
   "cell_type": "code",
   "execution_count": 18,
   "metadata": {},
   "outputs": [
    {
     "data": {
      "text/html": [
       "<style  type=\"text/css\" >\n",
       "#T_40a5bac8_2f93_11eb_b020_6999629006a3row0_col0{\n",
       "            background-color:  #a0cbe2;\n",
       "            color:  #000000;\n",
       "        }#T_40a5bac8_2f93_11eb_b020_6999629006a3row0_col1,#T_40a5bac8_2f93_11eb_b020_6999629006a3row1_col3,#T_40a5bac8_2f93_11eb_b020_6999629006a3row2_col1{\n",
       "            background-color:  #2575b7;\n",
       "            color:  #000000;\n",
       "        }#T_40a5bac8_2f93_11eb_b020_6999629006a3row0_col2,#T_40a5bac8_2f93_11eb_b020_6999629006a3row1_col0,#T_40a5bac8_2f93_11eb_b020_6999629006a3row2_col3{\n",
       "            background-color:  #cee0f2;\n",
       "            color:  #000000;\n",
       "        }#T_40a5bac8_2f93_11eb_b020_6999629006a3row0_col3{\n",
       "            background-color:  #c2d9ee;\n",
       "            color:  #000000;\n",
       "        }#T_40a5bac8_2f93_11eb_b020_6999629006a3row1_col1{\n",
       "            background-color:  #3787c0;\n",
       "            color:  #000000;\n",
       "        }#T_40a5bac8_2f93_11eb_b020_6999629006a3row1_col2{\n",
       "            background-color:  #92c4de;\n",
       "            color:  #000000;\n",
       "        }#T_40a5bac8_2f93_11eb_b020_6999629006a3row2_col0{\n",
       "            background-color:  #3e8ec4;\n",
       "            color:  #000000;\n",
       "        }#T_40a5bac8_2f93_11eb_b020_6999629006a3row2_col2{\n",
       "            background-color:  #81badb;\n",
       "            color:  #000000;\n",
       "        }</style><table id=\"T_40a5bac8_2f93_11eb_b020_6999629006a3\" ><thead>    <tr>        <th class=\"blank level0\" ></th>        <th class=\"col_heading level0 col0\" >n = 10</th>        <th class=\"col_heading level0 col1\" >n = 1</th>        <th class=\"col_heading level0 col2\" >n = 0.1</th>        <th class=\"col_heading level0 col3\" > n = 0.01</th>    </tr></thead><tbody>\n",
       "                <tr>\n",
       "                        <th id=\"T_40a5bac8_2f93_11eb_b020_6999629006a3level0_row0\" class=\"row_heading level0 row0\" >epoca = 10</th>\n",
       "                        <td id=\"T_40a5bac8_2f93_11eb_b020_6999629006a3row0_col0\" class=\"data row0 col0\" >0.033401</td>\n",
       "                        <td id=\"T_40a5bac8_2f93_11eb_b020_6999629006a3row0_col1\" class=\"data row0 col1\" >0.045676</td>\n",
       "                        <td id=\"T_40a5bac8_2f93_11eb_b020_6999629006a3row0_col2\" class=\"data row0 col2\" >0.028083</td>\n",
       "                        <td id=\"T_40a5bac8_2f93_11eb_b020_6999629006a3row0_col3\" class=\"data row0 col3\" >0.029856</td>\n",
       "            </tr>\n",
       "            <tr>\n",
       "                        <th id=\"T_40a5bac8_2f93_11eb_b020_6999629006a3level0_row1\" class=\"row_heading level0 row1\" >epoca = 20</th>\n",
       "                        <td id=\"T_40a5bac8_2f93_11eb_b020_6999629006a3row1_col0\" class=\"data row1 col0\" >0.033401</td>\n",
       "                        <td id=\"T_40a5bac8_2f93_11eb_b020_6999629006a3row1_col1\" class=\"data row1 col1\" >0.045688</td>\n",
       "                        <td id=\"T_40a5bac8_2f93_11eb_b020_6999629006a3row1_col2\" class=\"data row1 col2\" >0.038671</td>\n",
       "                        <td id=\"T_40a5bac8_2f93_11eb_b020_6999629006a3row1_col3\" class=\"data row1 col3\" >0.047523</td>\n",
       "            </tr>\n",
       "            <tr>\n",
       "                        <th id=\"T_40a5bac8_2f93_11eb_b020_6999629006a3level0_row2\" class=\"row_heading level0 row2\" >epoca = 50</th>\n",
       "                        <td id=\"T_40a5bac8_2f93_11eb_b020_6999629006a3row2_col0\" class=\"data row2 col0\" >0.045701</td>\n",
       "                        <td id=\"T_40a5bac8_2f93_11eb_b020_6999629006a3row2_col1\" class=\"data row2 col1\" >0.049197</td>\n",
       "                        <td id=\"T_40a5bac8_2f93_11eb_b020_6999629006a3row2_col2\" class=\"data row2 col2\" >0.038659</td>\n",
       "                        <td id=\"T_40a5bac8_2f93_11eb_b020_6999629006a3row2_col3\" class=\"data row2 col3\" >0.029880</td>\n",
       "            </tr>\n",
       "    </tbody></table>"
      ],
      "text/plain": [
       "<pandas.io.formats.style.Styler at 0x7fcac5f2ceb8>"
      ]
     },
     "metadata": {},
     "output_type": "display_data"
    }
   ],
   "source": [
    "resumen = pd.DataFrame(data_rl_vc_w, columns=['n = 10', 'n = 1', 'n = 0.1',' n = 0.01'],index=['epoca = 10', 'epoca = 20', 'epoca = 50'])\n",
    "resumen = resumen.style.background_gradient(cmap='Blues', low=.4, high=0.51, axis=1)\n",
    "display(resumen)"
   ]
  },
  {
   "cell_type": "markdown",
   "metadata": {},
   "source": [
    "<p style=\"font-size: medium\"> El comportamiento de los errores cambia un poco en comparación al de validación simple. La magnitud de los errores está dispersa por los distintos valores, es decir, no hay un patrón claro. </p>\n",
    "\n",
    "<p style=\"font-size: medium\"> La mayor concentración de errores grandes está para las constantes de valor elevado. Sin embargo, para las épocas de 20 y de 50, el error más pequeño se da para n = 0.01, en donde este es casi nulo. Mientras que, para la época de 10, este valor casi nulo se da para n = 0.1. </p>"
   ]
  },
  {
   "cell_type": "markdown",
   "metadata": {},
   "source": [
    "<h2> Vecinos próximos </h2>\n",
    "\n",
    "<p style=\"font-size: medium\">A continuación, mostraremos los valores que hemos seleccionado para probar el clasficador con valores distintos número de vecinos, algoritmo de distancia y normalización</p>\n",
    "<p style=\"font-size: medium\">Como tenemos que hacerlo para 3 distancias, mínimo 2 k, con normalización y sin ella, con las distintas estrategias de particionado y para ambas bases de datos deberíamos ejecutar la práctica mínimo 48 veces. Como esto nos llevaría demasiado tiempo, ejecutaremos solo algunos de los casos, reduciendo asi en gran medida el tiempo de ejecución."
   ]
  },
  {
   "cell_type": "code",
   "execution_count": 19,
   "metadata": {},
   "outputs": [],
   "source": [
    "ksKnn = [1 ,3, 5]\n",
    "distanciasKnn = [\"euclidea\", \"manhattan\", \"mahalanobis\"]\n",
    "normalizacionKnn = [True, False]"
   ]
  },
  {
   "cell_type": "markdown",
   "metadata": {},
   "source": [
    "<h3> Validación Simple </h3>\n",
    "<p style=\"font-size: medium\">Ejecutaremos a continuación la estrategia de Validación Simple para ambas k, con la distancia euclidea, con normalización y sin ella\n",
    "</p>"
   ]
  },
  {
   "cell_type": "markdown",
   "metadata": {},
   "source": [
    "<h4> Indians </h4>"
   ]
  },
  {
   "cell_type": "code",
   "execution_count": 20,
   "metadata": {},
   "outputs": [
    {
     "name": "stdout",
     "output_type": "stream",
     "text": [
      "[[0.29694323144104806, 0.25327510917030566, 0.2314410480349345], [0.35807860262008734, 0.31004366812227074, 0.2576419213973799]]\n"
     ]
    }
   ],
   "source": [
    "data_knn_vs_i = []\n",
    "error_vs_i_knn = [] \n",
    "for n in normalizacionKnn:\n",
    "    for k in ksKnn:\n",
    "        estrategia = ValidacionSimple(0.7, 1)\n",
    "        clasificador = ClasificadorVecinosProximos(k=k, normalizacion=n)\n",
    "        error_vs_i_knn.extend(clasificador.validacion(estrategia, dataset, clasificador))\n",
    "    data_knn_vs_i.append(error_vs_i_knn)\n",
    "    error_vs_i_knn = [] \n",
    "print(data_knn_vs_i)"
   ]
  },
  {
   "cell_type": "markdown",
   "metadata": {},
   "source": [
    "<h4> WDBC </h4>"
   ]
  },
  {
   "cell_type": "code",
   "execution_count": 21,
   "metadata": {},
   "outputs": [
    {
     "name": "stdout",
     "output_type": "stream",
     "text": [
      "[[0.03529411764705882, 0.041176470588235294, 0.023529411764705882], [0.08823529411764706, 0.07647058823529412, 0.08235294117647059]]\n"
     ]
    }
   ],
   "source": [
    "data_knn_vs_wdbc = []\n",
    "error_vs_wdbc_knn = [] \n",
    "for n in normalizacionKnn:\n",
    "    for k in ksKnn:\n",
    "        estrategia = ValidacionSimple(0.7, 1)\n",
    "        clasificador = ClasificadorVecinosProximos(k=k, normalizacion=n)\n",
    "        error_vs_wdbc_knn.extend(clasificador.validacion(estrategia, dataset2, clasificador))\n",
    "    data_knn_vs_wdbc.append(error_vs_wdbc_knn)\n",
    "    error_vs_wdbc_knn = [] \n",
    "print(data_knn_vs_wdbc)"
   ]
  },
  {
   "cell_type": "markdown",
   "metadata": {},
   "source": [
    "<h4> Resumen de lo medido </h4>"
   ]
  },
  {
   "cell_type": "markdown",
   "metadata": {},
   "source": [
    "<p style=\"font-size: medium\">A continuación, los datos agrupados en Dataframes. Cabe destacar, que hemos hecho pruebas con datos normalizados y no normalizados, con diferentes valores para k, pero solo para la distancia euclídea, puesto que si ejecutabamos las tres distancias el tiempo de ejecución sería muy alto.</p>"
   ]
  },
  {
   "cell_type": "markdown",
   "metadata": {},
   "source": [
    "<h5> Indians distancia euclidea</h5>"
   ]
  },
  {
   "cell_type": "code",
   "execution_count": 22,
   "metadata": {},
   "outputs": [
    {
     "data": {
      "text/html": [
       "<style  type=\"text/css\" >\n",
       "#T_dc4ec5f0_2f93_11eb_b020_6999629006a3row0_col0,#T_dc4ec5f0_2f93_11eb_b020_6999629006a3row1_col0{\n",
       "            background-color:  #2575b7;\n",
       "            color:  #000000;\n",
       "        }#T_dc4ec5f0_2f93_11eb_b020_6999629006a3row0_col1{\n",
       "            background-color:  #9ac8e0;\n",
       "            color:  #000000;\n",
       "        }#T_dc4ec5f0_2f93_11eb_b020_6999629006a3row0_col2,#T_dc4ec5f0_2f93_11eb_b020_6999629006a3row1_col2{\n",
       "            background-color:  #cee0f2;\n",
       "            color:  #000000;\n",
       "        }#T_dc4ec5f0_2f93_11eb_b020_6999629006a3row1_col1{\n",
       "            background-color:  #72b2d8;\n",
       "            color:  #000000;\n",
       "        }</style><table id=\"T_dc4ec5f0_2f93_11eb_b020_6999629006a3\" ><thead>    <tr>        <th class=\"blank level0\" ></th>        <th class=\"col_heading level0 col0\" >k = 1</th>        <th class=\"col_heading level0 col1\" >k = 3</th>        <th class=\"col_heading level0 col2\" >k = 5</th>    </tr></thead><tbody>\n",
       "                <tr>\n",
       "                        <th id=\"T_dc4ec5f0_2f93_11eb_b020_6999629006a3level0_row0\" class=\"row_heading level0 row0\" >Normalizado</th>\n",
       "                        <td id=\"T_dc4ec5f0_2f93_11eb_b020_6999629006a3row0_col0\" class=\"data row0 col0\" >0.296943</td>\n",
       "                        <td id=\"T_dc4ec5f0_2f93_11eb_b020_6999629006a3row0_col1\" class=\"data row0 col1\" >0.253275</td>\n",
       "                        <td id=\"T_dc4ec5f0_2f93_11eb_b020_6999629006a3row0_col2\" class=\"data row0 col2\" >0.231441</td>\n",
       "            </tr>\n",
       "            <tr>\n",
       "                        <th id=\"T_dc4ec5f0_2f93_11eb_b020_6999629006a3level0_row1\" class=\"row_heading level0 row1\" >No normalizado</th>\n",
       "                        <td id=\"T_dc4ec5f0_2f93_11eb_b020_6999629006a3row1_col0\" class=\"data row1 col0\" >0.358079</td>\n",
       "                        <td id=\"T_dc4ec5f0_2f93_11eb_b020_6999629006a3row1_col1\" class=\"data row1 col1\" >0.310044</td>\n",
       "                        <td id=\"T_dc4ec5f0_2f93_11eb_b020_6999629006a3row1_col2\" class=\"data row1 col2\" >0.257642</td>\n",
       "            </tr>\n",
       "    </tbody></table>"
      ],
      "text/plain": [
       "<pandas.io.formats.style.Styler at 0x7fcac6062320>"
      ]
     },
     "metadata": {},
     "output_type": "display_data"
    }
   ],
   "source": [
    "resumen = pd.DataFrame(data_knn_vs_i, columns=['k = 1','k = 3', 'k = 5'],index=['Normalizado', 'No normalizado'])\n",
    "resumen = resumen.style.background_gradient(cmap='Blues', low=.4, high=0.51, axis=1)\n",
    "display(resumen)"
   ]
  },
  {
   "cell_type": "markdown",
   "metadata": {},
   "source": [
    "<p style=\"font-size: medium\">Como primera observación tenemos que los valores son parecidos entre sí, independientemente de si los datos estén normalizados o no. En cuanto a las diferencias de acuerdo al tamaño de vecindario escogido, tenemos que el modelo es ligeramente más efectivo para k = 3. Es un poco peor para k = 1, lo cual tiene sentido ya que al ser un valor de k bajo, podría haber ruído en los resultados. Sin embargo, todos los valores son bastante buenos y casi no hay diferencia. </p>"
   ]
  },
  {
   "cell_type": "markdown",
   "metadata": {},
   "source": [
    "<h5> WDBC distancia euclidea</h5>"
   ]
  },
  {
   "cell_type": "code",
   "execution_count": 23,
   "metadata": {},
   "outputs": [
    {
     "data": {
      "text/html": [
       "<style  type=\"text/css\" >\n",
       "#T_dc531394_2f93_11eb_b020_6999629006a3row0_col0{\n",
       "            background-color:  #58a1cf;\n",
       "            color:  #000000;\n",
       "        }#T_dc531394_2f93_11eb_b020_6999629006a3row0_col1,#T_dc531394_2f93_11eb_b020_6999629006a3row1_col0{\n",
       "            background-color:  #2575b7;\n",
       "            color:  #000000;\n",
       "        }#T_dc531394_2f93_11eb_b020_6999629006a3row0_col2,#T_dc531394_2f93_11eb_b020_6999629006a3row1_col1{\n",
       "            background-color:  #cee0f2;\n",
       "            color:  #000000;\n",
       "        }#T_dc531394_2f93_11eb_b020_6999629006a3row1_col2{\n",
       "            background-color:  #77b5d9;\n",
       "            color:  #000000;\n",
       "        }</style><table id=\"T_dc531394_2f93_11eb_b020_6999629006a3\" ><thead>    <tr>        <th class=\"blank level0\" ></th>        <th class=\"col_heading level0 col0\" >k = 1</th>        <th class=\"col_heading level0 col1\" >k = 3</th>        <th class=\"col_heading level0 col2\" >k = 5</th>    </tr></thead><tbody>\n",
       "                <tr>\n",
       "                        <th id=\"T_dc531394_2f93_11eb_b020_6999629006a3level0_row0\" class=\"row_heading level0 row0\" >Normalizado</th>\n",
       "                        <td id=\"T_dc531394_2f93_11eb_b020_6999629006a3row0_col0\" class=\"data row0 col0\" >0.035294</td>\n",
       "                        <td id=\"T_dc531394_2f93_11eb_b020_6999629006a3row0_col1\" class=\"data row0 col1\" >0.041176</td>\n",
       "                        <td id=\"T_dc531394_2f93_11eb_b020_6999629006a3row0_col2\" class=\"data row0 col2\" >0.023529</td>\n",
       "            </tr>\n",
       "            <tr>\n",
       "                        <th id=\"T_dc531394_2f93_11eb_b020_6999629006a3level0_row1\" class=\"row_heading level0 row1\" >No normalizado</th>\n",
       "                        <td id=\"T_dc531394_2f93_11eb_b020_6999629006a3row1_col0\" class=\"data row1 col0\" >0.088235</td>\n",
       "                        <td id=\"T_dc531394_2f93_11eb_b020_6999629006a3row1_col1\" class=\"data row1 col1\" >0.076471</td>\n",
       "                        <td id=\"T_dc531394_2f93_11eb_b020_6999629006a3row1_col2\" class=\"data row1 col2\" >0.082353</td>\n",
       "            </tr>\n",
       "    </tbody></table>"
      ],
      "text/plain": [
       "<pandas.io.formats.style.Styler at 0x7fcac5ef8ba8>"
      ]
     },
     "metadata": {},
     "output_type": "display_data"
    }
   ],
   "source": [
    "resumen = pd.DataFrame(data_knn_vs_wdbc, columns=['k = 1','k = 3', 'k = 5'],index=['Normalizado', 'No normalizado'])\n",
    "resumen = resumen.style.background_gradient(cmap='Blues', low=.4, high=0.51, axis=1)\n",
    "display(resumen)"
   ]
  },
  {
   "cell_type": "markdown",
   "metadata": {},
   "source": [
    "<p style=\"font-size: medium\"> Para este dataset podemos ver claramente como si hay una diferencia considerable entre los errores de los datos normalizados y los no normalizados. El modelo falla menos con datos normalizados para cada uno de los valores de k escogidos. </p>\n",
    "\n",
    "<p style=\"font-size: medium\"> Dentro de los datos normalizados, vemos como nuevamente el resultado óptimo, y con diferencia, lo tenemos para k = 3, siendo casi nulo. Para el resto de k's, tenemos valores bastante parecidos. Por otra parte, dentro de los datos normalizados, destaca que el error más alto sea de k = 3 también. Esto puede deberse a que el ruído mencionado en el apartado anterior afecte más las clasificaciones de los datos no normalizados que a los normalizados y por ello los valores de los errores se distancien entre ellos y sean más elevados. </p>"
   ]
  },
  {
   "cell_type": "markdown",
   "metadata": {},
   "source": [
    "<h3> Validación Cruzada </h3>\n",
    "<p style=\"font-size: medium\">Para la estrategia de Validación Cruzada utilizaremos dos tamaños de k, con normalización de los datos para los 3 algoritmos de distancias, debido al tiempo de ejecución elevado que tiene.\n",
    "</p>"
   ]
  },
  {
   "cell_type": "code",
   "execution_count": 24,
   "metadata": {},
   "outputs": [],
   "source": [
    "ksKnn = [1, 5]\n",
    "distanciasKnn = [\"euclidea\", \"manhattan\", \"mahalanobis\"]"
   ]
  },
  {
   "cell_type": "markdown",
   "metadata": {},
   "source": [
    "<h4> Indians </h4>"
   ]
  },
  {
   "cell_type": "code",
   "execution_count": 25,
   "metadata": {},
   "outputs": [
    {
     "name": "stdout",
     "output_type": "stream",
     "text": [
      "[0.2708333333333333]\n",
      "[0.2708333333333333, 0.2890625]\n",
      "[0.29036458333333337]\n",
      "[0.29036458333333337, 0.3059895833333333]\n",
      "[0.26822916666666663]\n",
      "[0.26822916666666663, 0.28125]\n",
      "[[0.2708333333333333, 0.2890625], [0.29036458333333337, 0.3059895833333333], [0.26822916666666663, 0.28125]]\n"
     ]
    }
   ],
   "source": [
    "data_knn_vc_i = []\n",
    "error_vc_i_knn = [] \n",
    "for dist in distanciasKnn:\n",
    "    for k in ksKnn:\n",
    "        estrategia = ValidacionCruzada(4)\n",
    "        clasificador = ClasificadorVecinosProximos(k=3, distancia=dist)\n",
    "        error_vc_i_knn.append(np.mean(clasificador.validacion(estrategia, dataset, clasificador)))\n",
    "        print(error_vc_i_knn)\n",
    "    data_knn_vc_i.append(error_vc_i_knn)\n",
    "    error_vc_i_knn = []\n",
    "print(data_knn_vc_i)"
   ]
  },
  {
   "cell_type": "markdown",
   "metadata": {},
   "source": [
    "<h4> WDBC </h4>"
   ]
  },
  {
   "cell_type": "code",
   "execution_count": 26,
   "metadata": {},
   "outputs": [
    {
     "name": "stdout",
     "output_type": "stream",
     "text": [
      "[0.03160395942086083]\n",
      "[0.03160395942086083, 0.03513739781345415]\n",
      "[0.026371515808135525]\n",
      "[0.026371515808135525, 0.028132079188417217]\n",
      "[0.17924505072392394]\n",
      "[0.17924505072392394, 0.19332955776617744]\n",
      "[[0.03160395942086083, 0.03513739781345415], [0.026371515808135525, 0.028132079188417217], [0.17924505072392394, 0.19332955776617744]]\n"
     ]
    }
   ],
   "source": [
    "data_knn_vc_wdbc = []\n",
    "error_vc_wdbc_knn = [] \n",
    "for dist in distanciasKnn:\n",
    "    for k in ksKnn:\n",
    "        estrategia = ValidacionCruzada(4)\n",
    "        clasificador = ClasificadorVecinosProximos(k=3, distancia=dist)\n",
    "        error_vc_wdbc_knn.append(np.mean(clasificador.validacion(estrategia, dataset2, clasificador)))\n",
    "        print(error_vc_wdbc_knn)\n",
    "    data_knn_vc_wdbc.append(error_vc_wdbc_knn)\n",
    "    error_vc_wdbc_knn = []\n",
    "print(data_knn_vc_wdbc)"
   ]
  },
  {
   "cell_type": "markdown",
   "metadata": {},
   "source": [
    "<h4> Resumen de lo medido </h4>"
   ]
  },
  {
   "cell_type": "markdown",
   "metadata": {},
   "source": [
    "<h5> Indians</h5>"
   ]
  },
  {
   "cell_type": "code",
   "execution_count": 27,
   "metadata": {},
   "outputs": [
    {
     "data": {
      "text/html": [
       "<style  type=\"text/css\" >\n",
       "#T_ea3c375c_2f97_11eb_b020_6999629006a3row0_col0,#T_ea3c375c_2f97_11eb_b020_6999629006a3row1_col0,#T_ea3c375c_2f97_11eb_b020_6999629006a3row2_col0{\n",
       "            background-color:  #cee0f2;\n",
       "            color:  #000000;\n",
       "        }#T_ea3c375c_2f97_11eb_b020_6999629006a3row0_col1,#T_ea3c375c_2f97_11eb_b020_6999629006a3row1_col1,#T_ea3c375c_2f97_11eb_b020_6999629006a3row2_col1{\n",
       "            background-color:  #2575b7;\n",
       "            color:  #000000;\n",
       "        }</style><table id=\"T_ea3c375c_2f97_11eb_b020_6999629006a3\" ><thead>    <tr>        <th class=\"blank level0\" ></th>        <th class=\"col_heading level0 col0\" >k = 1</th>        <th class=\"col_heading level0 col1\" >k = 5</th>    </tr></thead><tbody>\n",
       "                <tr>\n",
       "                        <th id=\"T_ea3c375c_2f97_11eb_b020_6999629006a3level0_row0\" class=\"row_heading level0 row0\" >Euclídea</th>\n",
       "                        <td id=\"T_ea3c375c_2f97_11eb_b020_6999629006a3row0_col0\" class=\"data row0 col0\" >0.270833</td>\n",
       "                        <td id=\"T_ea3c375c_2f97_11eb_b020_6999629006a3row0_col1\" class=\"data row0 col1\" >0.289062</td>\n",
       "            </tr>\n",
       "            <tr>\n",
       "                        <th id=\"T_ea3c375c_2f97_11eb_b020_6999629006a3level0_row1\" class=\"row_heading level0 row1\" >Manhattan</th>\n",
       "                        <td id=\"T_ea3c375c_2f97_11eb_b020_6999629006a3row1_col0\" class=\"data row1 col0\" >0.290365</td>\n",
       "                        <td id=\"T_ea3c375c_2f97_11eb_b020_6999629006a3row1_col1\" class=\"data row1 col1\" >0.305990</td>\n",
       "            </tr>\n",
       "            <tr>\n",
       "                        <th id=\"T_ea3c375c_2f97_11eb_b020_6999629006a3level0_row2\" class=\"row_heading level0 row2\" >Mahalanobis</th>\n",
       "                        <td id=\"T_ea3c375c_2f97_11eb_b020_6999629006a3row2_col0\" class=\"data row2 col0\" >0.268229</td>\n",
       "                        <td id=\"T_ea3c375c_2f97_11eb_b020_6999629006a3row2_col1\" class=\"data row2 col1\" >0.281250</td>\n",
       "            </tr>\n",
       "    </tbody></table>"
      ],
      "text/plain": [
       "<pandas.io.formats.style.Styler at 0x7fcac5ef8940>"
      ]
     },
     "metadata": {},
     "output_type": "display_data"
    }
   ],
   "source": [
    "resumen = pd.DataFrame(data_knn_vc_i, index=['Euclídea', 'Manhattan', 'Mahalanobis'],columns=['k = 1', 'k = 5'])\n",
    "resumen = resumen.style.background_gradient(cmap='Blues', low=.4, high=0.51, axis=1)\n",
    "display(resumen)"
   ]
  },
  {
   "cell_type": "markdown",
   "metadata": {},
   "source": [
    "<p style=\"font-size: medium\"> Como podemos observar en la tabla, para las tres distancias escogidas, el error óptimo lo conseguimos casi siempre en k = 1, es decir, en el vecino más próximo. Sin embargo, las diferencias entre la anterior y k = 5 son casi nulas, podría considerarse incluso que son igual de efectivas.</p>\n",
    "\n",
    "<p style=\"font-size: medium\"> En cuanto a la distancia que mejor clasifica, podríamos decir que está entre Mahalanobis y Euclídea, pero tenemos que tomar en cuenta que Mahalanobis es mucho más costosa que la distancia euclídea, por lo que, en nuestra opinión, le otorgaría el 'premio' a la distancia Euclídea.</p>"
   ]
  },
  {
   "cell_type": "markdown",
   "metadata": {},
   "source": [
    "<h5> WDBC</h5>"
   ]
  },
  {
   "cell_type": "code",
   "execution_count": 28,
   "metadata": {},
   "outputs": [
    {
     "data": {
      "text/html": [
       "<style  type=\"text/css\" >\n",
       "#T_ea41c3ac_2f97_11eb_b020_6999629006a3row0_col0,#T_ea41c3ac_2f97_11eb_b020_6999629006a3row1_col0,#T_ea41c3ac_2f97_11eb_b020_6999629006a3row2_col0{\n",
       "            background-color:  #cee0f2;\n",
       "            color:  #000000;\n",
       "        }#T_ea41c3ac_2f97_11eb_b020_6999629006a3row0_col1,#T_ea41c3ac_2f97_11eb_b020_6999629006a3row1_col1,#T_ea41c3ac_2f97_11eb_b020_6999629006a3row2_col1{\n",
       "            background-color:  #2575b7;\n",
       "            color:  #000000;\n",
       "        }</style><table id=\"T_ea41c3ac_2f97_11eb_b020_6999629006a3\" ><thead>    <tr>        <th class=\"blank level0\" ></th>        <th class=\"col_heading level0 col0\" >k = 1</th>        <th class=\"col_heading level0 col1\" >k = 5</th>    </tr></thead><tbody>\n",
       "                <tr>\n",
       "                        <th id=\"T_ea41c3ac_2f97_11eb_b020_6999629006a3level0_row0\" class=\"row_heading level0 row0\" >Euclídea</th>\n",
       "                        <td id=\"T_ea41c3ac_2f97_11eb_b020_6999629006a3row0_col0\" class=\"data row0 col0\" >0.031604</td>\n",
       "                        <td id=\"T_ea41c3ac_2f97_11eb_b020_6999629006a3row0_col1\" class=\"data row0 col1\" >0.035137</td>\n",
       "            </tr>\n",
       "            <tr>\n",
       "                        <th id=\"T_ea41c3ac_2f97_11eb_b020_6999629006a3level0_row1\" class=\"row_heading level0 row1\" >Manhattan</th>\n",
       "                        <td id=\"T_ea41c3ac_2f97_11eb_b020_6999629006a3row1_col0\" class=\"data row1 col0\" >0.026372</td>\n",
       "                        <td id=\"T_ea41c3ac_2f97_11eb_b020_6999629006a3row1_col1\" class=\"data row1 col1\" >0.028132</td>\n",
       "            </tr>\n",
       "            <tr>\n",
       "                        <th id=\"T_ea41c3ac_2f97_11eb_b020_6999629006a3level0_row2\" class=\"row_heading level0 row2\" >Mahalanobis</th>\n",
       "                        <td id=\"T_ea41c3ac_2f97_11eb_b020_6999629006a3row2_col0\" class=\"data row2 col0\" >0.179245</td>\n",
       "                        <td id=\"T_ea41c3ac_2f97_11eb_b020_6999629006a3row2_col1\" class=\"data row2 col1\" >0.193330</td>\n",
       "            </tr>\n",
       "    </tbody></table>"
      ],
      "text/plain": [
       "<pandas.io.formats.style.Styler at 0x7fcac5ef88d0>"
      ]
     },
     "metadata": {},
     "output_type": "display_data"
    }
   ],
   "source": [
    "resumen = pd.DataFrame(data_knn_vc_wdbc, index=['Euclídea', 'Manhattan', 'Mahalanobis'],columns=['k = 1', 'k = 5'])\n",
    "resumen = resumen.style.background_gradient(cmap='Blues', low=.4, high=0.51, axis=1)\n",
    "display(resumen)"
   ]
  },
  {
   "cell_type": "markdown",
   "metadata": {},
   "source": [
    "<p style=\"font-size: medium\"> Una vez más, si observamos la tabla, podemos observar que los errores mínimos están en la columna de k = 1, similiarmente al dataset de indians.</p>\n",
    "\n",
    "<p style=\"font-size: medium\"> Sin embargo, a diferencia de indians, la distancia más efectiva sería la de Manhattan y con una separación sustancial de los valores, es decir, nos definitvamente mejor sobre las otras dos distancias.</p>\n",
    "\n",
    "<p style=\"font-size: medium\"> En general, este modelo se ajusta más al dataset de WDBC ya que sus errores son casi nulos en comparación a los errores obtenidos en el dataset de indians. </p>"
   ]
  },
  {
   "cell_type": "markdown",
   "metadata": {},
   "source": [
    "<h2> Scikit-learn </h2>"
   ]
  },
  {
   "cell_type": "markdown",
   "metadata": {},
   "source": [
    "<h3> Obtención de los datos </h3>"
   ]
  },
  {
   "cell_type": "code",
   "execution_count": 29,
   "metadata": {},
   "outputs": [],
   "source": [
    "dataset = pd.read_csv('data/pima-indians-diabetes.data')\n",
    "dataset2 = pd.read_csv('data/wdbc.data')"
   ]
  },
  {
   "cell_type": "markdown",
   "metadata": {},
   "source": [
    "<p style=\"font-size: medium\">Preparamos los datos.</p>"
   ]
  },
  {
   "cell_type": "code",
   "execution_count": 30,
   "metadata": {},
   "outputs": [],
   "source": [
    "encodedDataset = preprocessing.OneHotEncoder(sparse=False)\n",
    "x = dataset.iloc[:,:-1]\n",
    "x2 = dataset2.iloc[:,:-1]\n",
    "\n",
    "encodedDataset.fit(x)\n",
    "x_indians = encodedDataset.transform(x) #Cogemos todos los datos menos la columna de Class\n",
    "y_indians = dataset.iloc[:,-1]\n",
    "\n",
    "encodedDataset.fit(x2)\n",
    "x_wdbc = encodedDataset.transform(x2) #Cogemos todos los datos menos la columna de Class\n",
    "y_wdbc = dataset2.iloc[:,-1]\n",
    "\n",
    "epocas = [10, 20, 50]\n",
    "cAprendizajes = [10, 1, 0.1, 0.01]"
   ]
  },
  {
   "cell_type": "markdown",
   "metadata": {},
   "source": [
    "<h3> Regresión Logística </h3>\n",
    "<p style=\"font-size: medium\"> Para la segunda parte de regresión logística, ejecutaremos los métodos que nos proporciona Scikit-learn para este modelo lineal: LogisticRegression y SGDClassifier. Al igual que en nuestra implementación, ejecuataremos para cada método distintos valores de las épocas y constante de aprendizaje, que serán los mismos que en el apartado anterior.  </p>"
   ]
  },
  {
   "cell_type": "markdown",
   "metadata": {},
   "source": [
    "<h4> Validación Simple </h4>\n",
    "<p style=\"font-size: medium\">Ejecutaremos a continuación la estrategia de Validación Simple con las funciones proporcionadas en scikit-learn, tanto LogisticRegression como SGDClassifier. </p>\n",
    "\n",
    "<h5> Indians </h5>\n",
    "<p style=\"font-size: medium\">A continuación, utilizaremos el método LogisticRegression. En este método iremos cambiando solo el valor de las épocas puesto que LogisticRegression tiene su propio optimizador para las constantes de aprendizaje y va ajustándolas según considere. </p>"
   ]
  },
  {
   "cell_type": "code",
   "execution_count": 31,
   "metadata": {},
   "outputs": [],
   "source": [
    "error_vs_i_lg = []\n",
    "# Comprobaremos los métodos para distintos valores de N y de épocas\n",
    "for epoca in epocas:\n",
    "        clasificador = linear_model.LogisticRegression(max_iter = epoca)\n",
    "        x_train, x_test, y_train, y_test = model_selection.train_test_split(x_indians, y_indians, test_size=0.4)\n",
    "        clasificador.fit(x_train, y_train)\n",
    "        predicciones = clasificador.predict(x_test)\n",
    "        error_vs_i_lg.append(1 - accuracy_score(y_test, predicciones))"
   ]
  },
  {
   "cell_type": "markdown",
   "metadata": {},
   "source": [
    "<h5> Resumen de lo medido </h5>"
   ]
  },
  {
   "cell_type": "code",
   "execution_count": 32,
   "metadata": {},
   "outputs": [
    {
     "name": "stdout",
     "output_type": "stream",
     "text": [
      "Error de la época  10  =  0.32792207792207795\n",
      "Error de la época  20  =  0.2857142857142857\n",
      "Error de la época  50  =  0.3441558441558441\n"
     ]
    }
   ],
   "source": [
    "for index, i in enumerate(epocas):\n",
    "    print('Error de la época ', i, ' = ', error_vs_i_lg[index])"
   ]
  },
  {
   "cell_type": "markdown",
   "metadata": {},
   "source": [
    "<p style=\"font-size: medium\"> En este caso, no podemos comentar sobre los valores de constante de aprendizaje adecuados, pero sí podemos ver claramente que tenemos un porcentaje de fallo menor con unos valores de 20 y 50 en las épocas que en el resto. Es curioso como el error se mantiene en ambas, esto podría deberse al optimizador de constante de aprendizaje del método.</p>\n",
    "    \n",
    "<p style=\"font-size: medium\">\n",
    "Por otro lado, no podemos comparar LogisticRegression con nuestra implementación ya que no manejamos las mismas variables y no tendría sentido intentar analizar cual funciona mejor. Sin embargo, más abajo lo compararemos con SGDClassifier.</p>"
   ]
  },
  {
   "cell_type": "markdown",
   "metadata": {},
   "source": [
    "<p style=\"font-size: medium\">A continuación, utilizaremos el método SGDClassifier. Aquí si que incluiremos tanto las épocas como las constantes de aprendizaje.</p>"
   ]
  },
  {
   "cell_type": "code",
   "execution_count": 33,
   "metadata": {},
   "outputs": [],
   "source": [
    "data = []\n",
    "error_vs_i_sgd = []\n",
    "# Comprobaremos los métodos para distintos valores de N y de épocas\n",
    "for epoca in epocas:\n",
    "    for n in cAprendizajes:\n",
    "        clasificador = linear_model.SGDClassifier(max_iter = epoca, learning_rate = 'constant', eta0 = n)\n",
    "        x_train, x_test, y_train, y_test = model_selection.train_test_split(x_indians, y_indians, test_size=0.4)\n",
    "        clasificador.fit(x_train, y_train)\n",
    "        predicciones = clasificador.predict(x_test)\n",
    "        error_vs_i_sgd.append(1 - accuracy_score(y_test, predicciones))\n",
    "    data.append(error_vs_i_sgd)\n",
    "    error_vs_i_sgd = [] "
   ]
  },
  {
   "cell_type": "markdown",
   "metadata": {},
   "source": [
    "<h6> Resumen de lo medido </h6>"
   ]
  },
  {
   "cell_type": "code",
   "execution_count": 34,
   "metadata": {},
   "outputs": [
    {
     "data": {
      "text/html": [
       "<style  type=\"text/css\" >\n",
       "#T_eae2de40_2f97_11eb_b020_6999629006a3row0_col0,#T_eae2de40_2f97_11eb_b020_6999629006a3row1_col3,#T_eae2de40_2f97_11eb_b020_6999629006a3row2_col1{\n",
       "            background-color:  #2575b7;\n",
       "            color:  #000000;\n",
       "        }#T_eae2de40_2f97_11eb_b020_6999629006a3row0_col1{\n",
       "            background-color:  #4594c7;\n",
       "            color:  #000000;\n",
       "        }#T_eae2de40_2f97_11eb_b020_6999629006a3row0_col2{\n",
       "            background-color:  #4d99ca;\n",
       "            color:  #000000;\n",
       "        }#T_eae2de40_2f97_11eb_b020_6999629006a3row0_col3,#T_eae2de40_2f97_11eb_b020_6999629006a3row1_col1,#T_eae2de40_2f97_11eb_b020_6999629006a3row2_col2{\n",
       "            background-color:  #cee0f2;\n",
       "            color:  #000000;\n",
       "        }#T_eae2de40_2f97_11eb_b020_6999629006a3row1_col0{\n",
       "            background-color:  #b3d3e8;\n",
       "            color:  #000000;\n",
       "        }#T_eae2de40_2f97_11eb_b020_6999629006a3row1_col2{\n",
       "            background-color:  #c7dbef;\n",
       "            color:  #000000;\n",
       "        }#T_eae2de40_2f97_11eb_b020_6999629006a3row2_col0{\n",
       "            background-color:  #539ecd;\n",
       "            color:  #000000;\n",
       "        }#T_eae2de40_2f97_11eb_b020_6999629006a3row2_col3{\n",
       "            background-color:  #4695c8;\n",
       "            color:  #000000;\n",
       "        }</style><table id=\"T_eae2de40_2f97_11eb_b020_6999629006a3\" ><thead>    <tr>        <th class=\"blank level0\" ></th>        <th class=\"col_heading level0 col0\" >n = 10</th>        <th class=\"col_heading level0 col1\" >n = 1</th>        <th class=\"col_heading level0 col2\" >n = 0.1</th>        <th class=\"col_heading level0 col3\" > n = 0.01</th>    </tr></thead><tbody>\n",
       "                <tr>\n",
       "                        <th id=\"T_eae2de40_2f97_11eb_b020_6999629006a3level0_row0\" class=\"row_heading level0 row0\" >epoca = 10</th>\n",
       "                        <td id=\"T_eae2de40_2f97_11eb_b020_6999629006a3row0_col0\" class=\"data row0 col0\" >0.383117</td>\n",
       "                        <td id=\"T_eae2de40_2f97_11eb_b020_6999629006a3row0_col1\" class=\"data row0 col1\" >0.366883</td>\n",
       "                        <td id=\"T_eae2de40_2f97_11eb_b020_6999629006a3row0_col2\" class=\"data row0 col2\" >0.363636</td>\n",
       "                        <td id=\"T_eae2de40_2f97_11eb_b020_6999629006a3row0_col3\" class=\"data row0 col3\" >0.311688</td>\n",
       "            </tr>\n",
       "            <tr>\n",
       "                        <th id=\"T_eae2de40_2f97_11eb_b020_6999629006a3level0_row1\" class=\"row_heading level0 row1\" >epoca = 20</th>\n",
       "                        <td id=\"T_eae2de40_2f97_11eb_b020_6999629006a3row1_col0\" class=\"data row1 col0\" >0.360390</td>\n",
       "                        <td id=\"T_eae2de40_2f97_11eb_b020_6999629006a3row1_col1\" class=\"data row1 col1\" >0.344156</td>\n",
       "                        <td id=\"T_eae2de40_2f97_11eb_b020_6999629006a3row1_col2\" class=\"data row1 col2\" >0.350649</td>\n",
       "                        <td id=\"T_eae2de40_2f97_11eb_b020_6999629006a3row1_col3\" class=\"data row1 col3\" >0.428571</td>\n",
       "            </tr>\n",
       "            <tr>\n",
       "                        <th id=\"T_eae2de40_2f97_11eb_b020_6999629006a3level0_row2\" class=\"row_heading level0 row2\" >epoca = 50</th>\n",
       "                        <td id=\"T_eae2de40_2f97_11eb_b020_6999629006a3row2_col0\" class=\"data row2 col0\" >0.357143</td>\n",
       "                        <td id=\"T_eae2de40_2f97_11eb_b020_6999629006a3row2_col1\" class=\"data row2 col1\" >0.370130</td>\n",
       "                        <td id=\"T_eae2de40_2f97_11eb_b020_6999629006a3row2_col2\" class=\"data row2 col2\" >0.327922</td>\n",
       "                        <td id=\"T_eae2de40_2f97_11eb_b020_6999629006a3row2_col3\" class=\"data row2 col3\" >0.360390</td>\n",
       "            </tr>\n",
       "    </tbody></table>"
      ],
      "text/plain": [
       "<pandas.io.formats.style.Styler at 0x7fcaf4294ba8>"
      ]
     },
     "metadata": {},
     "output_type": "display_data"
    }
   ],
   "source": [
    "resumen = pd.DataFrame(data, columns=['n = 10', 'n = 1', 'n = 0.1',' n = 0.01'],index=['epoca = 10', 'epoca = 20', 'epoca = 50'])\n",
    "resumen = resumen.style.background_gradient(cmap='Blues', low=.4, high=0.51, axis=1)\n",
    "display(resumen)"
   ]
  },
  {
   "cell_type": "markdown",
   "metadata": {},
   "source": [
    "<p style=\"font-size: medium\"> En el caso de SGD, podemos observar como, a pesar de que algunos datos varíen, la concentración de errores grandes está en constantes de valor alto, similar a como ocurre en nuestra implementación y con valores parecidos. No ha mejorado ni empeorado nuestra implementación para este conjunto de datos.  </p>\n",
    "\n",
    "<p style=\"font-size: medium\"> Los porcentajes de error bajos están más dispersos, y en general, se podría decir que el modelo se ajusta mejor en la época de 10 en las constantes pequeñas, y el resto en las n del medio (n = 1 y n = 0.1). </p>\n",
    "\n",
    "<p style=\"font-size: medium\"> En comparación con LogisticRegression, no hay una mejora evidente. En este método, tenemos muchas más medidas que en el método anterior, sin embargo, parecen estar en el mismo rango de valores. El único inconveniente que puede tener SGD con respecto a Logistic es que tenemos que elegir manualmente la constante de aprendizaje lo cual, si la elegimos bien, puede ser muy bueno o, si la elegimos mal, puede ser muy malo. Con LogisticRegression no correríamos ese riesgo ya que genera su propia constante hasta mantener un error óptimo, como fue mencionado anteriormente.</p>"
   ]
  },
  {
   "cell_type": "markdown",
   "metadata": {},
   "source": [
    "<h5> WDBC </h5>\n",
    "<p style=\"font-size: medium\"><p style=\"font-size: medium\">A continuación, utilizaremos el método LogisticRegression. Recordemos que en este método no utilizaremos distintos valores de constante de aprendizaje puesto que utiliza su propio optimizador. </p>"
   ]
  },
  {
   "cell_type": "code",
   "execution_count": 35,
   "metadata": {},
   "outputs": [],
   "source": [
    "error_vs_w_lg = []\n",
    "# Comprobaremos los métodos para distintos valores de N y de épocas\n",
    "for epoca in epocas:\n",
    "        clasificador = linear_model.LogisticRegression(max_iter = epoca, fit_intercept=True)\n",
    "        x_train, x_test, y_train, y_test = model_selection.train_test_split(x_wdbc, y_wdbc, test_size=0.4)\n",
    "        clasificador.fit(x_train, y_train)\n",
    "        predicciones = clasificador.predict(x_test)\n",
    "        error_vs_w_lg.append(1 - accuracy_score(y_test, predicciones))"
   ]
  },
  {
   "cell_type": "markdown",
   "metadata": {},
   "source": [
    "<h5>Resumen de lo medido</h5>"
   ]
  },
  {
   "cell_type": "code",
   "execution_count": 36,
   "metadata": {
    "scrolled": true
   },
   "outputs": [
    {
     "name": "stdout",
     "output_type": "stream",
     "text": [
      "Error de la época  10  =  0.3464912280701754\n",
      "Error de la época  20  =  0.368421052631579\n",
      "Error de la época  50  =  0.3728070175438597\n"
     ]
    }
   ],
   "source": [
    "for index, i in enumerate(epocas):\n",
    "    print('Error de la época ', i, ' = ', error_vs_w_lg[index])"
   ]
  },
  {
   "cell_type": "markdown",
   "metadata": {},
   "source": [
    "<p style=\"font-size: medium\"> En este método, como fue mencionado anteriormente, no podemos realizar muchas comparaciones debido a que va decidiendo sus propias constantes de aprendizaje según vaya viendo el algoritmo. Sin embargo, podemos mencionar que los errores son mucho más altos en comparación a nuestra implementación. En nuestro algoritmo obtenemos errores de 0.03 o menos, mientras que aquí los mismos se elevan a 0.3.</p>"
   ]
  },
  {
   "cell_type": "markdown",
   "metadata": {},
   "source": [
    "<p style=\"font-size: medium\">A continuación, utilizaremos de nuevo el método SGDClassifier. Aquí si que incluiremos tanto las épocas como las constantes de aprendizaje.</p>"
   ]
  },
  {
   "cell_type": "code",
   "execution_count": 37,
   "metadata": {},
   "outputs": [
    {
     "name": "stdout",
     "output_type": "stream",
     "text": [
      "[[0.3026315789473685, 0.33333333333333337, 0.32456140350877194, 0.381578947368421], [0.39473684210526316, 0.35526315789473684, 0.39035087719298245, 0.368421052631579], [0.3464912280701754, 0.368421052631579, 0.3157894736842105, 0.36403508771929827]]\n"
     ]
    }
   ],
   "source": [
    "data_w = []\n",
    "error_vs_w_sgd = []\n",
    "# Comprobaremos los métodos para distintos valores de N y de épocas\n",
    "for epoca in epocas:\n",
    "    for n in cAprendizajes:\n",
    "        clasificador = linear_model.SGDClassifier(max_iter = epoca, learning_rate = 'constant', eta0 = n)\n",
    "        x_train, x_test, y_train, y_test = model_selection.train_test_split(x_wdbc, y_wdbc, test_size=0.4)\n",
    "        clasificador.fit(x_train, y_train)\n",
    "        predicciones = clasificador.predict(x_test)\n",
    "        error_vs_w_sgd.append(1 - accuracy_score(y_test, predicciones))\n",
    "    data_w.append(error_vs_w_sgd)\n",
    "    error_vs_w_sgd = []\n",
    "print(data_w)"
   ]
  },
  {
   "cell_type": "markdown",
   "metadata": {},
   "source": [
    "<h6> Resumen de lo medido </h6>"
   ]
  },
  {
   "cell_type": "code",
   "execution_count": 38,
   "metadata": {},
   "outputs": [
    {
     "data": {
      "text/html": [
       "<style  type=\"text/css\" >\n",
       "#T_ec99fc46_2f97_11eb_b020_6999629006a3row0_col0,#T_ec99fc46_2f97_11eb_b020_6999629006a3row1_col1,#T_ec99fc46_2f97_11eb_b020_6999629006a3row2_col2{\n",
       "            background-color:  #cee0f2;\n",
       "            color:  #000000;\n",
       "        }#T_ec99fc46_2f97_11eb_b020_6999629006a3row0_col1{\n",
       "            background-color:  #8fc2de;\n",
       "            color:  #000000;\n",
       "        }#T_ec99fc46_2f97_11eb_b020_6999629006a3row0_col2{\n",
       "            background-color:  #a5cde3;\n",
       "            color:  #000000;\n",
       "        }#T_ec99fc46_2f97_11eb_b020_6999629006a3row0_col3,#T_ec99fc46_2f97_11eb_b020_6999629006a3row1_col0,#T_ec99fc46_2f97_11eb_b020_6999629006a3row2_col1{\n",
       "            background-color:  #2575b7;\n",
       "            color:  #000000;\n",
       "        }#T_ec99fc46_2f97_11eb_b020_6999629006a3row1_col2{\n",
       "            background-color:  #3585bf;\n",
       "            color:  #000000;\n",
       "        }#T_ec99fc46_2f97_11eb_b020_6999629006a3row1_col3{\n",
       "            background-color:  #9ac8e0;\n",
       "            color:  #000000;\n",
       "        }#T_ec99fc46_2f97_11eb_b020_6999629006a3row2_col0{\n",
       "            background-color:  #66abd4;\n",
       "            color:  #000000;\n",
       "        }#T_ec99fc46_2f97_11eb_b020_6999629006a3row2_col3{\n",
       "            background-color:  #3181bd;\n",
       "            color:  #000000;\n",
       "        }</style><table id=\"T_ec99fc46_2f97_11eb_b020_6999629006a3\" ><thead>    <tr>        <th class=\"blank level0\" ></th>        <th class=\"col_heading level0 col0\" >n = 10</th>        <th class=\"col_heading level0 col1\" >n = 1</th>        <th class=\"col_heading level0 col2\" >n = 0.1</th>        <th class=\"col_heading level0 col3\" > n = 0.01</th>    </tr></thead><tbody>\n",
       "                <tr>\n",
       "                        <th id=\"T_ec99fc46_2f97_11eb_b020_6999629006a3level0_row0\" class=\"row_heading level0 row0\" >epoca = 10</th>\n",
       "                        <td id=\"T_ec99fc46_2f97_11eb_b020_6999629006a3row0_col0\" class=\"data row0 col0\" >0.302632</td>\n",
       "                        <td id=\"T_ec99fc46_2f97_11eb_b020_6999629006a3row0_col1\" class=\"data row0 col1\" >0.333333</td>\n",
       "                        <td id=\"T_ec99fc46_2f97_11eb_b020_6999629006a3row0_col2\" class=\"data row0 col2\" >0.324561</td>\n",
       "                        <td id=\"T_ec99fc46_2f97_11eb_b020_6999629006a3row0_col3\" class=\"data row0 col3\" >0.381579</td>\n",
       "            </tr>\n",
       "            <tr>\n",
       "                        <th id=\"T_ec99fc46_2f97_11eb_b020_6999629006a3level0_row1\" class=\"row_heading level0 row1\" >epoca = 20</th>\n",
       "                        <td id=\"T_ec99fc46_2f97_11eb_b020_6999629006a3row1_col0\" class=\"data row1 col0\" >0.394737</td>\n",
       "                        <td id=\"T_ec99fc46_2f97_11eb_b020_6999629006a3row1_col1\" class=\"data row1 col1\" >0.355263</td>\n",
       "                        <td id=\"T_ec99fc46_2f97_11eb_b020_6999629006a3row1_col2\" class=\"data row1 col2\" >0.390351</td>\n",
       "                        <td id=\"T_ec99fc46_2f97_11eb_b020_6999629006a3row1_col3\" class=\"data row1 col3\" >0.368421</td>\n",
       "            </tr>\n",
       "            <tr>\n",
       "                        <th id=\"T_ec99fc46_2f97_11eb_b020_6999629006a3level0_row2\" class=\"row_heading level0 row2\" >epoca = 50</th>\n",
       "                        <td id=\"T_ec99fc46_2f97_11eb_b020_6999629006a3row2_col0\" class=\"data row2 col0\" >0.346491</td>\n",
       "                        <td id=\"T_ec99fc46_2f97_11eb_b020_6999629006a3row2_col1\" class=\"data row2 col1\" >0.368421</td>\n",
       "                        <td id=\"T_ec99fc46_2f97_11eb_b020_6999629006a3row2_col2\" class=\"data row2 col2\" >0.315789</td>\n",
       "                        <td id=\"T_ec99fc46_2f97_11eb_b020_6999629006a3row2_col3\" class=\"data row2 col3\" >0.364035</td>\n",
       "            </tr>\n",
       "    </tbody></table>"
      ],
      "text/plain": [
       "<pandas.io.formats.style.Styler at 0x7fcac5f26e48>"
      ]
     },
     "metadata": {},
     "output_type": "display_data"
    }
   ],
   "source": [
    "resumen = pd.DataFrame(data_w, columns=['n = 10', 'n = 1', 'n = 0.1',' n = 0.01'],index=['epoca = 10', 'epoca = 20', 'epoca = 50'])\n",
    "resumen = resumen.style.background_gradient(cmap='Blues', low=.4, high=0.51, axis=1)\n",
    "display(resumen)"
   ]
  },
  {
   "cell_type": "markdown",
   "metadata": {},
   "source": [
    "<p style=\"font-size: medium\"> En este caso, podemos observar como los porcentajes de error eleavados se encuentran más que todo en las n pequeñas, es decir, quizás la frontera que se ajusta a este modelo cambie bruscamente y por ello las n de menor valor se queden atrás.</p>\n",
    "\n",
    "<p style=\"font-size: medium\"> Cabe destacar también, al igual que en LogisticRegression, los valores de error son mucho más grandes que en nuestra implementación. Esto podría deberse a que no estamos utilizando un valor de épocas lo suficientemente grande como para que el modelo pueda ajustarse correctamente. En otras palabras, puede que nuestra implementación se ajuste más rápidamente al modelo, mientras que el algoritmo de Sckit necesite más épocas para llegar a un error lo más mínimo posible.</p>"
   ]
  },
  {
   "cell_type": "markdown",
   "metadata": {},
   "source": [
    "<h4> Validación Cruzada </h4>\n",
    "<p style=\"font-size: medium\">Ejecutaremos a continuación la estrategia de Validación Cruzada con las funciones proporcionadas en scikit-learn. </p>\n",
    "\n",
    "\n",
    "<h5> Indians </h5>\n",
    "<p style=\"font-size: medium\">A continuación, lo haremos con el método LogisticRegression.</p>"
   ]
  },
  {
   "cell_type": "code",
   "execution_count": 39,
   "metadata": {},
   "outputs": [],
   "source": [
    "epocas = [10, 20, 50]"
   ]
  },
  {
   "cell_type": "code",
   "execution_count": 40,
   "metadata": {},
   "outputs": [],
   "source": [
    "for epoca in epocas:\n",
    "    clasificador = linear_model.LogisticRegression(max_iter = epoca, fit_intercept=True)\n",
    "    cv = model_selection.ShuffleSplit(n_splits=4)\n",
    "    error_vc_i_lr = 1 - model_selection.cross_val_score(clasificador, x_indians, y_indians, cv=cv)"
   ]
  },
  {
   "cell_type": "markdown",
   "metadata": {},
   "source": [
    "<h5> Resumen de lo medido </h5>"
   ]
  },
  {
   "cell_type": "code",
   "execution_count": 41,
   "metadata": {},
   "outputs": [
    {
     "name": "stdout",
     "output_type": "stream",
     "text": [
      "Error de la época  10  =  0.3246753246753247\n",
      "Error de la época  20  =  0.3116883116883117\n",
      "Error de la época  50  =  0.3116883116883117\n"
     ]
    }
   ],
   "source": [
    "for index, i in enumerate(epocas):\n",
    "    print('Error de la época ', i, ' = ', error_vc_i_lr[index])"
   ]
  },
  {
   "cell_type": "markdown",
   "metadata": {},
   "source": [
    "<p style=\"font-size: medium\"> Los errores obtenidos para cada época son ligeramente más elevados que en nuestra implementación, pero están en el mismo rango y no hay diferencias que sean triviales.</p>"
   ]
  },
  {
   "cell_type": "markdown",
   "metadata": {},
   "source": [
    "<p style=\"font-size: medium\">Ahora, utilizaremos SGDClassifier.</p>"
   ]
  },
  {
   "cell_type": "code",
   "execution_count": 42,
   "metadata": {},
   "outputs": [],
   "source": [
    "data_i_vc = []\n",
    "error_vc_i_sgd = []\n",
    "# Comprobaremos los métodos para distintos valores de N y de épocas\n",
    "for epoca in epocas:\n",
    "    for n in cAprendizajes:\n",
    "        clasificador = linear_model.SGDClassifier(max_iter = epoca, learning_rate = 'constant', eta0 = n)\n",
    "        cv = model_selection.ShuffleSplit(n_splits=4)\n",
    "        error = 1 - model_selection.cross_val_score(clasificador, x_indians, y_indians, cv=cv)\n",
    "        error_vc_i_sgd.append(np.mean(error.tolist())) # Hacemos la media para poder resumir los resultados facilmente\n",
    "    data_i_vc.append(error_vc_i_sgd)\n",
    "    error_vc_i_sgd = [] "
   ]
  },
  {
   "cell_type": "markdown",
   "metadata": {},
   "source": [
    "<h5> Resumen de lo medido </h5>"
   ]
  },
  {
   "cell_type": "code",
   "execution_count": 43,
   "metadata": {},
   "outputs": [
    {
     "data": {
      "text/html": [
       "<style  type=\"text/css\" >\n",
       "#T_ee6c7db4_2f97_11eb_b020_6999629006a3row0_col0{\n",
       "            background-color:  #add0e6;\n",
       "            color:  #000000;\n",
       "        }#T_ee6c7db4_2f97_11eb_b020_6999629006a3row0_col1{\n",
       "            background-color:  #7fb9da;\n",
       "            color:  #000000;\n",
       "        }#T_ee6c7db4_2f97_11eb_b020_6999629006a3row0_col2,#T_ee6c7db4_2f97_11eb_b020_6999629006a3row1_col0,#T_ee6c7db4_2f97_11eb_b020_6999629006a3row2_col1{\n",
       "            background-color:  #2575b7;\n",
       "            color:  #000000;\n",
       "        }#T_ee6c7db4_2f97_11eb_b020_6999629006a3row0_col3,#T_ee6c7db4_2f97_11eb_b020_6999629006a3row1_col2,#T_ee6c7db4_2f97_11eb_b020_6999629006a3row2_col2{\n",
       "            background-color:  #cee0f2;\n",
       "            color:  #000000;\n",
       "        }#T_ee6c7db4_2f97_11eb_b020_6999629006a3row1_col1{\n",
       "            background-color:  #87bddc;\n",
       "            color:  #000000;\n",
       "        }#T_ee6c7db4_2f97_11eb_b020_6999629006a3row1_col3{\n",
       "            background-color:  #a8cee4;\n",
       "            color:  #000000;\n",
       "        }#T_ee6c7db4_2f97_11eb_b020_6999629006a3row2_col0{\n",
       "            background-color:  #a6cee4;\n",
       "            color:  #000000;\n",
       "        }#T_ee6c7db4_2f97_11eb_b020_6999629006a3row2_col3{\n",
       "            background-color:  #77b5d9;\n",
       "            color:  #000000;\n",
       "        }</style><table id=\"T_ee6c7db4_2f97_11eb_b020_6999629006a3\" ><thead>    <tr>        <th class=\"blank level0\" ></th>        <th class=\"col_heading level0 col0\" >n = 10</th>        <th class=\"col_heading level0 col1\" >n = 1</th>        <th class=\"col_heading level0 col2\" >n = 0.1</th>        <th class=\"col_heading level0 col3\" > n = 0.01</th>    </tr></thead><tbody>\n",
       "                <tr>\n",
       "                        <th id=\"T_ee6c7db4_2f97_11eb_b020_6999629006a3level0_row0\" class=\"row_heading level0 row0\" >epoca = 10</th>\n",
       "                        <td id=\"T_ee6c7db4_2f97_11eb_b020_6999629006a3row0_col0\" class=\"data row0 col0\" >0.331169</td>\n",
       "                        <td id=\"T_ee6c7db4_2f97_11eb_b020_6999629006a3row0_col1\" class=\"data row0 col1\" >0.350649</td>\n",
       "                        <td id=\"T_ee6c7db4_2f97_11eb_b020_6999629006a3row0_col2\" class=\"data row0 col2\" >0.396104</td>\n",
       "                        <td id=\"T_ee6c7db4_2f97_11eb_b020_6999629006a3row0_col3\" class=\"data row0 col3\" >0.311688</td>\n",
       "            </tr>\n",
       "            <tr>\n",
       "                        <th id=\"T_ee6c7db4_2f97_11eb_b020_6999629006a3level0_row1\" class=\"row_heading level0 row1\" >epoca = 20</th>\n",
       "                        <td id=\"T_ee6c7db4_2f97_11eb_b020_6999629006a3row1_col0\" class=\"data row1 col0\" >0.379870</td>\n",
       "                        <td id=\"T_ee6c7db4_2f97_11eb_b020_6999629006a3row1_col1\" class=\"data row1 col1\" >0.344156</td>\n",
       "                        <td id=\"T_ee6c7db4_2f97_11eb_b020_6999629006a3row1_col2\" class=\"data row1 col2\" >0.318182</td>\n",
       "                        <td id=\"T_ee6c7db4_2f97_11eb_b020_6999629006a3row1_col3\" class=\"data row1 col3\" >0.334416</td>\n",
       "            </tr>\n",
       "            <tr>\n",
       "                        <th id=\"T_ee6c7db4_2f97_11eb_b020_6999629006a3level0_row2\" class=\"row_heading level0 row2\" >epoca = 50</th>\n",
       "                        <td id=\"T_ee6c7db4_2f97_11eb_b020_6999629006a3row2_col0\" class=\"data row2 col0\" >0.337662</td>\n",
       "                        <td id=\"T_ee6c7db4_2f97_11eb_b020_6999629006a3row2_col1\" class=\"data row2 col1\" >0.399351</td>\n",
       "                        <td id=\"T_ee6c7db4_2f97_11eb_b020_6999629006a3row2_col2\" class=\"data row2 col2\" >0.314935</td>\n",
       "                        <td id=\"T_ee6c7db4_2f97_11eb_b020_6999629006a3row2_col3\" class=\"data row2 col3\" >0.357143</td>\n",
       "            </tr>\n",
       "    </tbody></table>"
      ],
      "text/plain": [
       "<pandas.io.formats.style.Styler at 0x7fcac5f95240>"
      ]
     },
     "metadata": {},
     "output_type": "display_data"
    }
   ],
   "source": [
    "resumen = pd.DataFrame(data_i_vc, columns=['n = 10', 'n = 1', 'n = 0.1',' n = 0.01'],index=['epoca = 10', 'epoca = 20', 'epoca = 50'])\n",
    "resumen = resumen.style.background_gradient(cmap='Blues', low=.4, high=0.51, axis=1)\n",
    "display(resumen)"
   ]
  },
  {
   "cell_type": "markdown",
   "metadata": {},
   "source": [
    "<p style=\"font-size: medium\"> En este caso, vemos como los errores óptimos ocurren solo para el valor de 0.01 de la constante de aprendizaje. Se ajustan bastante a los valores obtenidos en nuestra implementación. La única diferencia sería que el tiempo de ejecución es ligeramente mayor en scikit, pero no demasiado como para influir de alguna manera.</p>"
   ]
  },
  {
   "cell_type": "markdown",
   "metadata": {},
   "source": [
    "<h4> WDBC </h4>\n",
    "<p style=\"font-size: medium\">A continuación, lo haremos con el método LogisticRegression.</p>"
   ]
  },
  {
   "cell_type": "code",
   "execution_count": 44,
   "metadata": {},
   "outputs": [],
   "source": [
    "for epoca in epocas:\n",
    "    clasificador = linear_model.LogisticRegression(max_iter = epoca, fit_intercept=True)\n",
    "    cv = model_selection.ShuffleSplit(n_splits=4)\n",
    "    error_vc_w_lr = 1 - model_selection.cross_val_score(clasificador, x_wdbc, y_wdbc, cv=cv)"
   ]
  },
  {
   "cell_type": "markdown",
   "metadata": {},
   "source": [
    "<h5> Resumen de lo medido </h5>"
   ]
  },
  {
   "cell_type": "code",
   "execution_count": 45,
   "metadata": {},
   "outputs": [
    {
     "name": "stdout",
     "output_type": "stream",
     "text": [
      "Error de la época  10  =  0.42105263157894735\n",
      "Error de la época  20  =  0.368421052631579\n",
      "Error de la época  50  =  0.2807017543859649\n"
     ]
    }
   ],
   "source": [
    "for index, i in enumerate(epocas):\n",
    "    print('Error de la época ', i, ' = ', error_vc_w_lr[index])"
   ]
  },
  {
   "cell_type": "markdown",
   "metadata": {},
   "source": [
    "<p style=\"font-size: medium\"> Podemos observar que en validación cruzada también se obtienen valores sustancialmente grandes en comparación con nuestro algoritmo.</p>"
   ]
  },
  {
   "cell_type": "markdown",
   "metadata": {},
   "source": [
    "<p style=\"font-size: medium\">Ahora, lo haremos con el método SGDClassifier.</p>"
   ]
  },
  {
   "cell_type": "code",
   "execution_count": 46,
   "metadata": {},
   "outputs": [],
   "source": [
    "data_w_vc = []\n",
    "error_vc_w_sgd = []\n",
    "# Comprobaremos los métodos para distintos valores de N y de épocas\n",
    "for epoca in epocas:\n",
    "    for n in cAprendizajes:\n",
    "        clasificador = linear_model.SGDClassifier(max_iter = epoca, learning_rate = 'constant', eta0 = n)\n",
    "        cv = model_selection.ShuffleSplit(n_splits=4)\n",
    "        error = 1 - model_selection.cross_val_score(clasificador, x_wdbc, y_wdbc, cv=cv)\n",
    "        error_vc_w_sgd.append(np.mean(error.tolist())) # Hacemos la media para poder resumir los resultados facilmente\n",
    "    data_w_vc.append(error_vc_w_sgd)\n",
    "    error_vc_w_sgd = [] "
   ]
  },
  {
   "cell_type": "markdown",
   "metadata": {},
   "source": [
    "<h5> Resumen de lo medido </h5>"
   ]
  },
  {
   "cell_type": "code",
   "execution_count": 47,
   "metadata": {},
   "outputs": [
    {
     "data": {
      "text/html": [
       "<style  type=\"text/css\" >\n",
       "#T_f794340e_2f97_11eb_b020_6999629006a3row0_col0,#T_f794340e_2f97_11eb_b020_6999629006a3row0_col2,#T_f794340e_2f97_11eb_b020_6999629006a3row1_col3,#T_f794340e_2f97_11eb_b020_6999629006a3row2_col3{\n",
       "            background-color:  #2575b7;\n",
       "            color:  #000000;\n",
       "        }#T_f794340e_2f97_11eb_b020_6999629006a3row0_col1,#T_f794340e_2f97_11eb_b020_6999629006a3row1_col0,#T_f794340e_2f97_11eb_b020_6999629006a3row2_col1{\n",
       "            background-color:  #cee0f2;\n",
       "            color:  #000000;\n",
       "        }#T_f794340e_2f97_11eb_b020_6999629006a3row0_col3{\n",
       "            background-color:  #5ba3d0;\n",
       "            color:  #000000;\n",
       "        }#T_f794340e_2f97_11eb_b020_6999629006a3row1_col1{\n",
       "            background-color:  #4695c8;\n",
       "            color:  #000000;\n",
       "        }#T_f794340e_2f97_11eb_b020_6999629006a3row1_col2{\n",
       "            background-color:  #2e7ebc;\n",
       "            color:  #000000;\n",
       "        }#T_f794340e_2f97_11eb_b020_6999629006a3row2_col0,#T_f794340e_2f97_11eb_b020_6999629006a3row2_col2{\n",
       "            background-color:  #58a1cf;\n",
       "            color:  #000000;\n",
       "        }</style><table id=\"T_f794340e_2f97_11eb_b020_6999629006a3\" ><thead>    <tr>        <th class=\"blank level0\" ></th>        <th class=\"col_heading level0 col0\" >n = 10</th>        <th class=\"col_heading level0 col1\" >n = 1</th>        <th class=\"col_heading level0 col2\" >n = 0.1</th>        <th class=\"col_heading level0 col3\" > n = 0.01</th>    </tr></thead><tbody>\n",
       "                <tr>\n",
       "                        <th id=\"T_f794340e_2f97_11eb_b020_6999629006a3level0_row0\" class=\"row_heading level0 row0\" >epoca = 10</th>\n",
       "                        <td id=\"T_f794340e_2f97_11eb_b020_6999629006a3row0_col0\" class=\"data row0 col0\" >0.390351</td>\n",
       "                        <td id=\"T_f794340e_2f97_11eb_b020_6999629006a3row0_col1\" class=\"data row0 col1\" >0.315789</td>\n",
       "                        <td id=\"T_f794340e_2f97_11eb_b020_6999629006a3row0_col2\" class=\"data row0 col2\" >0.390351</td>\n",
       "                        <td id=\"T_f794340e_2f97_11eb_b020_6999629006a3row0_col3\" class=\"data row0 col3\" >0.364035</td>\n",
       "            </tr>\n",
       "            <tr>\n",
       "                        <th id=\"T_f794340e_2f97_11eb_b020_6999629006a3level0_row1\" class=\"row_heading level0 row1\" >epoca = 20</th>\n",
       "                        <td id=\"T_f794340e_2f97_11eb_b020_6999629006a3row1_col0\" class=\"data row1 col0\" >0.320175</td>\n",
       "                        <td id=\"T_f794340e_2f97_11eb_b020_6999629006a3row1_col1\" class=\"data row1 col1\" >0.377193</td>\n",
       "                        <td id=\"T_f794340e_2f97_11eb_b020_6999629006a3row1_col2\" class=\"data row1 col2\" >0.390351</td>\n",
       "                        <td id=\"T_f794340e_2f97_11eb_b020_6999629006a3row1_col3\" class=\"data row1 col3\" >0.394737</td>\n",
       "            </tr>\n",
       "            <tr>\n",
       "                        <th id=\"T_f794340e_2f97_11eb_b020_6999629006a3level0_row2\" class=\"row_heading level0 row2\" >epoca = 50</th>\n",
       "                        <td id=\"T_f794340e_2f97_11eb_b020_6999629006a3row2_col0\" class=\"data row2 col0\" >0.377193</td>\n",
       "                        <td id=\"T_f794340e_2f97_11eb_b020_6999629006a3row2_col1\" class=\"data row2 col1\" >0.350877</td>\n",
       "                        <td id=\"T_f794340e_2f97_11eb_b020_6999629006a3row2_col2\" class=\"data row2 col2\" >0.377193</td>\n",
       "                        <td id=\"T_f794340e_2f97_11eb_b020_6999629006a3row2_col3\" class=\"data row2 col3\" >0.390351</td>\n",
       "            </tr>\n",
       "    </tbody></table>"
      ],
      "text/plain": [
       "<pandas.io.formats.style.Styler at 0x7fcac5ef8320>"
      ]
     },
     "metadata": {},
     "output_type": "display_data"
    }
   ],
   "source": [
    "resumen = pd.DataFrame(data_w_vc, columns=['n = 10', 'n = 1', 'n = 0.1',' n = 0.01'],index=['epoca = 10', 'epoca = 20', 'epoca = 50'])\n",
    "resumen = resumen.style.background_gradient(cmap='Blues', low=.4, high=0.51, axis=1)\n",
    "display(resumen)"
   ]
  },
  {
   "cell_type": "markdown",
   "metadata": {},
   "source": [
    "<p style=\"font-size: medium\"> En este caso, de nuevo no hay ningún patrón establecido, pero podemos destacar que los errores bajos aparecen mayoritariamente paras la n de mayor valor. Una vez más, observamos que los valores son mucho mayores a los de nuestra implementación.</p>\n",
    "\n",
    "<p style=\"font-size: medium\"> Para las n pequeñas, el error se dispara un poco y llega hasta 0.4. Esto podría también deberse a lo mencionado anteriormente del tamaño de las épocas.</p>"
   ]
  },
  {
   "cell_type": "markdown",
   "metadata": {},
   "source": [
    "<h3> Vecinos próximos </h3>\n",
    "<p style=\"font-size: medium\"> Para la segunda parte de vecinos próximos, ejecutaremos el método que nos proporciona Scikit-learn para este modelo: KNeighborsClassifier. Lo ejecutaremos para los mismos parametros que en nuestra implementación para poder compararlo.</p>"
   ]
  },
  {
   "cell_type": "markdown",
   "metadata": {},
   "source": [
    "<h4> Validación Simple </h4>\n",
    "<p style=\"font-size: medium\">Ejecutaremos a continuación la estrategia de Validación Simple. </p>\n",
    "<p style=\"font-size: medium\">A continuación, utilizaremos el método KNeighborsClassifier. En este método iremos cambiando solo el valor de k, y utilizaremos solo las distancias euclídea y manhattan.</p>\n",
    "\n",
    "<h5> Indians </h5>"
   ]
  },
  {
   "cell_type": "code",
   "execution_count": 48,
   "metadata": {},
   "outputs": [],
   "source": [
    "ksKnn = [3, 5]\n",
    "distanciasKnn = [\"euclidean\", \"manhattan\"]\n",
    "error_vs_i_knn = []\n",
    "data_vs_i_knn = []\n",
    "for dist in distanciasKnn:\n",
    "    for k in ksKnn:\n",
    "        clasificador = neighbors.KNeighborsClassifier(n_neighbors = k, metric = dist)\n",
    "        x_train, x_test, y_train, y_test = model_selection.train_test_split(x_indians, y_indians, test_size=0.7)\n",
    "        clasificador.fit(x_train, y_train)\n",
    "        predicciones = clasificador.predict(x_test)\n",
    "        error_vs_i_knn.append(1 - accuracy_score(y_test, predicciones))\n",
    "    data_vs_i_knn.append(error_vs_i_knn)\n",
    "    error_vs_i_knn = []"
   ]
  },
  {
   "cell_type": "markdown",
   "metadata": {},
   "source": [
    "<h5> Resumen de lo medido </h5>"
   ]
  },
  {
   "cell_type": "code",
   "execution_count": 49,
   "metadata": {},
   "outputs": [
    {
     "data": {
      "text/html": [
       "<style  type=\"text/css\" >\n",
       "#T_f84fa0ae_2f97_11eb_b020_6999629006a3row0_col0,#T_f84fa0ae_2f97_11eb_b020_6999629006a3row1_col1{\n",
       "            background-color:  #cee0f2;\n",
       "            color:  #000000;\n",
       "        }#T_f84fa0ae_2f97_11eb_b020_6999629006a3row0_col1,#T_f84fa0ae_2f97_11eb_b020_6999629006a3row1_col0{\n",
       "            background-color:  #2575b7;\n",
       "            color:  #000000;\n",
       "        }</style><table id=\"T_f84fa0ae_2f97_11eb_b020_6999629006a3\" ><thead>    <tr>        <th class=\"blank level0\" ></th>        <th class=\"col_heading level0 col0\" >k = 3</th>        <th class=\"col_heading level0 col1\" >k = 5</th>    </tr></thead><tbody>\n",
       "                <tr>\n",
       "                        <th id=\"T_f84fa0ae_2f97_11eb_b020_6999629006a3level0_row0\" class=\"row_heading level0 row0\" >Euclídea</th>\n",
       "                        <td id=\"T_f84fa0ae_2f97_11eb_b020_6999629006a3row0_col0\" class=\"data row0 col0\" >0.351301</td>\n",
       "                        <td id=\"T_f84fa0ae_2f97_11eb_b020_6999629006a3row0_col1\" class=\"data row0 col1\" >0.382900</td>\n",
       "            </tr>\n",
       "            <tr>\n",
       "                        <th id=\"T_f84fa0ae_2f97_11eb_b020_6999629006a3level0_row1\" class=\"row_heading level0 row1\" >Manhattan</th>\n",
       "                        <td id=\"T_f84fa0ae_2f97_11eb_b020_6999629006a3row1_col0\" class=\"data row1 col0\" >0.386617</td>\n",
       "                        <td id=\"T_f84fa0ae_2f97_11eb_b020_6999629006a3row1_col1\" class=\"data row1 col1\" >0.351301</td>\n",
       "            </tr>\n",
       "    </tbody></table>"
      ],
      "text/plain": [
       "<pandas.io.formats.style.Styler at 0x7fcac5ebc438>"
      ]
     },
     "metadata": {},
     "output_type": "display_data"
    }
   ],
   "source": [
    "resumen = pd.DataFrame(data_vs_i_knn, columns=['k = 3', 'k = 5'],index=['Euclídea', 'Manhattan'])\n",
    "resumen = resumen.style.background_gradient(cmap='Blues', low=.4, high=0.51, axis=1)\n",
    "display(resumen)"
   ]
  },
  {
   "cell_type": "markdown",
   "metadata": {},
   "source": [
    "<p style=\"font-size: medium\"> En este caso, los resultados están bastante igualados entre los valores de k, diría que entre esos dos valores cualquiera de los dos sería apropiado. Sin embargo, se debería escoger una k mayor para disminuir el error actual.</p>\n",
    "\n",
    "<p style=\"font-size: medium\"> En cuanto a las distancias, podemos fácilmente ver que la euclídea es ligeramente mejor que la Manhattan.</p>"
   ]
  },
  {
   "cell_type": "markdown",
   "metadata": {},
   "source": [
    "<h5> WDBC </h5>\n",
    "<p style=\"font-size: medium\">A continuación, utilizaremos el método KNeighborsClassifier. En este método iremos cambiando solo el valor de k.</p>"
   ]
  },
  {
   "cell_type": "code",
   "execution_count": 50,
   "metadata": {},
   "outputs": [],
   "source": [
    "error_vs_wdbc_knn = []\n",
    "data_vs_wdbc_knn = []\n",
    "for dist in distanciasKnn:\n",
    "    for k in ksKnn:\n",
    "        clasificador = neighbors.KNeighborsClassifier(n_neighbors = k, metric = dist)\n",
    "        x_train, x_test, y_train, y_test = model_selection.train_test_split(x_wdbc, y_wdbc, test_size=0.7)\n",
    "        clasificador.fit(x_train, y_train)\n",
    "        predicciones = clasificador.predict(x_test)\n",
    "        error_vs_wdbc_knn.append(1 - accuracy_score(y_test, predicciones))\n",
    "    data_vs_wdbc_knn.append(error_vs_wdbc_knn)\n",
    "    error_vs_wdbc_knn = []"
   ]
  },
  {
   "cell_type": "markdown",
   "metadata": {},
   "source": [
    "<h5> Resumen de lo medido </h5>"
   ]
  },
  {
   "cell_type": "code",
   "execution_count": 51,
   "metadata": {},
   "outputs": [
    {
     "data": {
      "text/html": [
       "<style  type=\"text/css\" >\n",
       "#T_fd34d508_2f97_11eb_b020_6999629006a3row0_col0,#T_fd34d508_2f97_11eb_b020_6999629006a3row1_col0{\n",
       "            background-color:  #cee0f2;\n",
       "            color:  #000000;\n",
       "        }#T_fd34d508_2f97_11eb_b020_6999629006a3row0_col1,#T_fd34d508_2f97_11eb_b020_6999629006a3row1_col1{\n",
       "            background-color:  #2575b7;\n",
       "            color:  #000000;\n",
       "        }</style><table id=\"T_fd34d508_2f97_11eb_b020_6999629006a3\" ><thead>    <tr>        <th class=\"blank level0\" ></th>        <th class=\"col_heading level0 col0\" >k = 3</th>        <th class=\"col_heading level0 col1\" >k = 5</th>    </tr></thead><tbody>\n",
       "                <tr>\n",
       "                        <th id=\"T_fd34d508_2f97_11eb_b020_6999629006a3level0_row0\" class=\"row_heading level0 row0\" >Euclídea</th>\n",
       "                        <td id=\"T_fd34d508_2f97_11eb_b020_6999629006a3row0_col0\" class=\"data row0 col0\" >0.368421</td>\n",
       "                        <td id=\"T_fd34d508_2f97_11eb_b020_6999629006a3row0_col1\" class=\"data row0 col1\" >0.380952</td>\n",
       "            </tr>\n",
       "            <tr>\n",
       "                        <th id=\"T_fd34d508_2f97_11eb_b020_6999629006a3level0_row1\" class=\"row_heading level0 row1\" >Manhattan</th>\n",
       "                        <td id=\"T_fd34d508_2f97_11eb_b020_6999629006a3row1_col0\" class=\"data row1 col0\" >0.365915</td>\n",
       "                        <td id=\"T_fd34d508_2f97_11eb_b020_6999629006a3row1_col1\" class=\"data row1 col1\" >0.408521</td>\n",
       "            </tr>\n",
       "    </tbody></table>"
      ],
      "text/plain": [
       "<pandas.io.formats.style.Styler at 0x7fcac60576d8>"
      ]
     },
     "metadata": {},
     "output_type": "display_data"
    }
   ],
   "source": [
    "resumen = pd.DataFrame(data_vs_wdbc_knn, columns=['k = 3', 'k = 5'],index=['Euclídea', 'Manhattan'])\n",
    "resumen = resumen.style.background_gradient(cmap='Blues', low=.4, high=0.51, axis=1)\n",
    "display(resumen)"
   ]
  },
  {
   "cell_type": "markdown",
   "metadata": {},
   "source": [
    "<p style=\"font-size: medium\"> En primer lugar, podemos ver como los mejores resultados lo obtendríamos para un tamaño de vecindario de 5, con poca diferencia, pero definitivamente mejores. Para este caso, se podría coger una k mayor, pero no haría falta debido a que los errores ya son lo suficientemente bajos como para ser aceptables.</p>\n",
    "\n",
    "<p style=\"font-size: medium\"> Finalmente, la distancia con mejores resultados sería, al igual que en indians, la euclídea. </p>"
   ]
  },
  {
   "cell_type": "markdown",
   "metadata": {},
   "source": [
    "<h4> Validación Cruzada </h4>\n",
    "<p style=\"font-size: medium\">Ejecutaremos a continuación la estrategia de Validación Cruzada. </p>\n",
    "<p style=\"font-size: medium\">A continuación, utilizaremos el método KNeighborsClassifier. En este método iremos cambiando el valor de las disrancias, dejando un valor estable de k = 3</p>\n",
    "\n",
    "<h5> Indians </h5>"
   ]
  },
  {
   "cell_type": "code",
   "execution_count": 52,
   "metadata": {},
   "outputs": [],
   "source": [
    "distanciasKnn = [\"euclidean\", \"manhattan\"]\n",
    "data_vc_i_knn = []\n",
    "error_vc_i_knn = []\n",
    "for dist in distanciasKnn:\n",
    "    for k in ksKnn:\n",
    "        clasificador = neighbors.KNeighborsClassifier(n_neighbors = k, metric = dist)\n",
    "        cv = model_selection.ShuffleSplit(n_splits=4)\n",
    "        error_vc_i_knn.append(np.mean(1 - model_selection.cross_val_score(clasificador, x_indians, y_indians, cv=cv)))\n",
    "    data_vc_i_knn.append(error_vc_i_knn)\n",
    "    error_vc_i_knn = []"
   ]
  },
  {
   "cell_type": "code",
   "execution_count": 53,
   "metadata": {},
   "outputs": [],
   "source": [
    "error_vc_i_knn_mh = []\n",
    "for k in ksKnn:    \n",
    "    clasificador = neighbors.KNeighborsClassifier(n_neighbors = k, algorithm=\"brute\", metric = \"mahalanobis\", metric_params={'V': dataset.iloc[:,:-1].cov()})\n",
    "    cv = model_selection.ShuffleSplit(n_splits=4)\n",
    "    error_vc_i_knn_mh.append(np.mean(1 - model_selection.cross_val_score(clasificador, x, y_indians, cv=cv)))\n",
    "\n",
    "data_vc_i_knn.append(error_vc_i_knn_mh)"
   ]
  },
  {
   "cell_type": "markdown",
   "metadata": {},
   "source": [
    "<h5> Resumen de lo medido </h5>"
   ]
  },
  {
   "cell_type": "code",
   "execution_count": 54,
   "metadata": {},
   "outputs": [
    {
     "data": {
      "text/html": [
       "<style  type=\"text/css\" >\n",
       "#T_ff94643a_2f97_11eb_b020_6999629006a3row0_col0,#T_ff94643a_2f97_11eb_b020_6999629006a3row1_col1,#T_ff94643a_2f97_11eb_b020_6999629006a3row2_col1{\n",
       "            background-color:  #2575b7;\n",
       "            color:  #000000;\n",
       "        }#T_ff94643a_2f97_11eb_b020_6999629006a3row0_col1,#T_ff94643a_2f97_11eb_b020_6999629006a3row1_col0,#T_ff94643a_2f97_11eb_b020_6999629006a3row2_col0{\n",
       "            background-color:  #cee0f2;\n",
       "            color:  #000000;\n",
       "        }</style><table id=\"T_ff94643a_2f97_11eb_b020_6999629006a3\" ><thead>    <tr>        <th class=\"blank level0\" ></th>        <th class=\"col_heading level0 col0\" >k = 3</th>        <th class=\"col_heading level0 col1\" >k = 5</th>    </tr></thead><tbody>\n",
       "                <tr>\n",
       "                        <th id=\"T_ff94643a_2f97_11eb_b020_6999629006a3level0_row0\" class=\"row_heading level0 row0\" >Euclídea</th>\n",
       "                        <td id=\"T_ff94643a_2f97_11eb_b020_6999629006a3row0_col0\" class=\"data row0 col0\" >0.363636</td>\n",
       "                        <td id=\"T_ff94643a_2f97_11eb_b020_6999629006a3row0_col1\" class=\"data row0 col1\" >0.334416</td>\n",
       "            </tr>\n",
       "            <tr>\n",
       "                        <th id=\"T_ff94643a_2f97_11eb_b020_6999629006a3level0_row1\" class=\"row_heading level0 row1\" >Manhattan</th>\n",
       "                        <td id=\"T_ff94643a_2f97_11eb_b020_6999629006a3row1_col0\" class=\"data row1 col0\" >0.379870</td>\n",
       "                        <td id=\"T_ff94643a_2f97_11eb_b020_6999629006a3row1_col1\" class=\"data row1 col1\" >0.392857</td>\n",
       "            </tr>\n",
       "            <tr>\n",
       "                        <th id=\"T_ff94643a_2f97_11eb_b020_6999629006a3level0_row2\" class=\"row_heading level0 row2\" >Mahalanobis</th>\n",
       "                        <td id=\"T_ff94643a_2f97_11eb_b020_6999629006a3row2_col0\" class=\"data row2 col0\" >0.269481</td>\n",
       "                        <td id=\"T_ff94643a_2f97_11eb_b020_6999629006a3row2_col1\" class=\"data row2 col1\" >0.272727</td>\n",
       "            </tr>\n",
       "    </tbody></table>"
      ],
      "text/plain": [
       "<pandas.io.formats.style.Styler at 0x7fcac5ebf860>"
      ]
     },
     "metadata": {},
     "output_type": "display_data"
    }
   ],
   "source": [
    "resumen = pd.DataFrame(data_vc_i_knn, columns=['k = 3', 'k = 5'],index=['Euclídea', 'Manhattan', 'Mahalanobis'])\n",
    "resumen = resumen.style.background_gradient(cmap='Blues', low=.4, high=0.51, axis=1)\n",
    "display(resumen)"
   ]
  },
  {
   "cell_type": "markdown",
   "metadata": {},
   "source": [
    "<p style=\"font-size: medium\"> Observando el dataframe anterior, podemos ver fácilmente que el error más bajo está para k = 5. Nuevamente las diferencias entre las k son casi insignificantes y podrían considerarse nulas. Sin embargo, siendo estrictos, k = 5 es mejor sin duda que k = 3. </p>\n",
    "\n",
    "<p style=\"font-size: medium\"> En cuanto a las distancias, Mahalanobis parece tener una menor cantidad de errores en general. A diferencia de nuestra implementación, esta tarda muchísimo menos y no es tan costosa como lo es en nuestro código. </p>"
   ]
  },
  {
   "cell_type": "markdown",
   "metadata": {},
   "source": [
    "<h5> WDBC </h5>"
   ]
  },
  {
   "cell_type": "code",
   "execution_count": 55,
   "metadata": {},
   "outputs": [],
   "source": [
    "distanciasKnn = [\"euclidean\", \"manhattan\"]\n",
    "error_vc_wdbc_knn = []\n",
    "data_vc_wdbc_knn = []\n",
    "error_vc_wdbc_knn_mh = []\n",
    "for dist in distanciasKnn:\n",
    "    for k in ksKnn:\n",
    "        clasificador = neighbors.KNeighborsClassifier(n_neighbors = 3, metric = dist)\n",
    "        cv = model_selection.ShuffleSplit(n_splits=4)\n",
    "        error_vc_wdbc_knn.append(np.mean(1 - model_selection.cross_val_score(clasificador, x_wdbc, y_wdbc, cv=cv)))\n",
    "    data_vc_wdbc_knn.append(error_vc_wdbc_knn)\n",
    "    error_vc_wdbc_knn = []\n",
    "    \n",
    "for k in ksKnn:\n",
    "    clasificador = neighbors.KNeighborsClassifier(n_neighbors = 3, metric = \"mahalanobis\", metric_params={'V': dataset2.iloc[:,:-1].cov()})\n",
    "    cv = model_selection.ShuffleSplit(n_splits=4)\n",
    "    error_vc_wdbc_knn_mh.append(np.mean(1 - model_selection.cross_val_score(clasificador, x2, y_wdbc, cv=cv)))\n",
    "data_vc_wdbc_knn.append(error_vc_wdbc_knn_mh)"
   ]
  },
  {
   "cell_type": "markdown",
   "metadata": {},
   "source": [
    "<h5> Resumen de lo medido </h5>"
   ]
  },
  {
   "cell_type": "code",
   "execution_count": 56,
   "metadata": {},
   "outputs": [
    {
     "data": {
      "text/html": [
       "<style  type=\"text/css\" >\n",
       "#T_0d8c29ba_2f98_11eb_b020_6999629006a3row0_col0,#T_0d8c29ba_2f98_11eb_b020_6999629006a3row1_col1,#T_0d8c29ba_2f98_11eb_b020_6999629006a3row2_col0{\n",
       "            background-color:  #2575b7;\n",
       "            color:  #000000;\n",
       "        }#T_0d8c29ba_2f98_11eb_b020_6999629006a3row0_col1,#T_0d8c29ba_2f98_11eb_b020_6999629006a3row1_col0,#T_0d8c29ba_2f98_11eb_b020_6999629006a3row2_col1{\n",
       "            background-color:  #cee0f2;\n",
       "            color:  #000000;\n",
       "        }</style><table id=\"T_0d8c29ba_2f98_11eb_b020_6999629006a3\" ><thead>    <tr>        <th class=\"blank level0\" ></th>        <th class=\"col_heading level0 col0\" >k = 3</th>        <th class=\"col_heading level0 col1\" >k = 5</th>    </tr></thead><tbody>\n",
       "                <tr>\n",
       "                        <th id=\"T_0d8c29ba_2f98_11eb_b020_6999629006a3level0_row0\" class=\"row_heading level0 row0\" >Euclídea</th>\n",
       "                        <td id=\"T_0d8c29ba_2f98_11eb_b020_6999629006a3row0_col0\" class=\"data row0 col0\" >0.333333</td>\n",
       "                        <td id=\"T_0d8c29ba_2f98_11eb_b020_6999629006a3row0_col1\" class=\"data row0 col1\" >0.311404</td>\n",
       "            </tr>\n",
       "            <tr>\n",
       "                        <th id=\"T_0d8c29ba_2f98_11eb_b020_6999629006a3level0_row1\" class=\"row_heading level0 row1\" >Manhattan</th>\n",
       "                        <td id=\"T_0d8c29ba_2f98_11eb_b020_6999629006a3row1_col0\" class=\"data row1 col0\" >0.289474</td>\n",
       "                        <td id=\"T_0d8c29ba_2f98_11eb_b020_6999629006a3row1_col1\" class=\"data row1 col1\" >0.333333</td>\n",
       "            </tr>\n",
       "            <tr>\n",
       "                        <th id=\"T_0d8c29ba_2f98_11eb_b020_6999629006a3level0_row2\" class=\"row_heading level0 row2\" >Mahalanobis</th>\n",
       "                        <td id=\"T_0d8c29ba_2f98_11eb_b020_6999629006a3row2_col0\" class=\"data row2 col0\" >0.197368</td>\n",
       "                        <td id=\"T_0d8c29ba_2f98_11eb_b020_6999629006a3row2_col1\" class=\"data row2 col1\" >0.144737</td>\n",
       "            </tr>\n",
       "    </tbody></table>"
      ],
      "text/plain": [
       "<pandas.io.formats.style.Styler at 0x7fcac6057ac8>"
      ]
     },
     "metadata": {},
     "output_type": "display_data"
    }
   ],
   "source": [
    "resumen = pd.DataFrame(data_vc_wdbc_knn, columns=['k = 3', 'k = 5'],index=['Euclídea', 'Manhattan', 'Mahalanobis'])\n",
    "resumen = resumen.style.background_gradient(cmap='Blues', low=.4, high=0.51, axis=1)\n",
    "display(resumen)"
   ]
  },
  {
   "cell_type": "markdown",
   "metadata": {},
   "source": [
    "<p style=\"font-size: medium\"> En primer lugar, podemos observar como la mayoría de valores mínimos de error se dan para k =  3, a diferencia del dataset de Indians. Esto quiere decir que este dataset no necesita quitar del todo el ruído, o que, en realidad, no tiene tanto ruído y con un k ligeramente mayor a 1 puede clasificar correctamente. </p>\n",
    "\n",
    "<p style=\"font-size: medium\"> En segundo lugar, si miramos las distancias podemos observar que nuevamente Mahalanobis vuelve a obtener menor error que el resto. </p>"
   ]
  },
  {
   "cell_type": "markdown",
   "metadata": {},
   "source": [
    "<h2> Análisis ROC </h2>\n",
    "<p style=\"font-size: medium\"> Para el análisis ROC utilizaremos nuestra implementación pero sin utilizar ningún tipo de estrategia de particionado. Incluiremos FPR y TPR de cada uno de los clasificadores discutidos en los apartados anteriores.</p>"
   ]
  },
  {
   "cell_type": "markdown",
   "metadata": {},
   "source": [
    "<h3> Obtención de los datos </h3>"
   ]
  },
  {
   "cell_type": "code",
   "execution_count": 57,
   "metadata": {},
   "outputs": [],
   "source": [
    "dataset = Datos('data/pima-indians-diabetes.data')\n",
    "dataset2 = Datos('data/wdbc.data')"
   ]
  },
  {
   "cell_type": "markdown",
   "metadata": {},
   "source": [
    "<p style=\"font-size: medium\"> A continuación, los cálculos pertinentes.</p>"
   ]
  },
  {
   "cell_type": "markdown",
   "metadata": {},
   "source": [
    "<h3> Naive Bayes </h3>"
   ]
  },
  {
   "cell_type": "markdown",
   "metadata": {},
   "source": [
    "<h4> Indians dataset </h4>\n",
    "<p style=\"font-size: medium\">A continuación, calcularemos la matriz de confusión.</p>"
   ]
  },
  {
   "cell_type": "code",
   "execution_count": 58,
   "metadata": {},
   "outputs": [
    {
     "name": "stdout",
     "output_type": "stream",
     "text": [
      "[[421  79]\n",
      " [103 165]]\n"
     ]
    }
   ],
   "source": [
    "clasificador = ClasificadorNaiveBayes(False)\n",
    "clasificador.entrenamiento(dataset.datos, dataset.nominalAtributos, dataset.diccionario)\n",
    "predicciones = clasificador.clasifica(dataset.datos, dataset.nominalAtributos, dataset.diccionario)\n",
    "clases = list(dataset.datos.iloc[:, -1])\n",
    "matrix_i_nb = confusion_matrix(y_true=clases, y_pred=predicciones)\n",
    "print(matrix_i_nb)"
   ]
  },
  {
   "cell_type": "markdown",
   "metadata": {},
   "source": [
    "<p style=\"font-size: medium\">A continuación, calcularemos las tasas de FPR y TPR, que irán en el eje de las abscisas y eje de las ordenadas respectivamente. </p>"
   ]
  },
  {
   "cell_type": "code",
   "execution_count": 59,
   "metadata": {},
   "outputs": [],
   "source": [
    "FPR_i_nb = matrix_i_nb[0][1] / (matrix_i_nb[0][1] + matrix_i_nb[1][1])\n",
    "TPR_i_nb = matrix_i_nb[0][0] /(matrix_i_nb[0][0] + matrix_i_nb[1][0])"
   ]
  },
  {
   "cell_type": "markdown",
   "metadata": {},
   "source": [
    "<h4> WDBC dataset </h4>\n",
    "<p style=\"font-size: medium\">A continuación, calcularemos la matriz de confusión.</p>"
   ]
  },
  {
   "cell_type": "code",
   "execution_count": 60,
   "metadata": {},
   "outputs": [
    {
     "name": "stdout",
     "output_type": "stream",
     "text": [
      "[[344  13]\n",
      " [ 21 191]]\n"
     ]
    }
   ],
   "source": [
    "clasificador = ClasificadorNaiveBayes(False)\n",
    "clasificador.entrenamiento(dataset2.datos, dataset2.nominalAtributos, dataset2.diccionario)\n",
    "predicciones = clasificador.clasifica(dataset2.datos, dataset2.nominalAtributos, dataset2.diccionario)\n",
    "clases = list(dataset2.datos.iloc[:, -1])\n",
    "matrix_w_nb = confusion_matrix(y_true=clases, y_pred=predicciones)\n",
    "print(matrix_w_nb)"
   ]
  },
  {
   "cell_type": "markdown",
   "metadata": {},
   "source": [
    "<p style=\"font-size: medium\">A continuación, calcularemos las tasas de FPR y TPR, que irán en el eje de las abscisas y eje de las ordenadas respectivamente. </p>"
   ]
  },
  {
   "cell_type": "code",
   "execution_count": 61,
   "metadata": {},
   "outputs": [],
   "source": [
    "FPR_w_nb = matrix_w_nb[0][1] / (matrix_w_nb[0][1] + matrix_w_nb[1][1])\n",
    "TPR_w_nb = matrix_w_nb[0][0] /(matrix_w_nb[0][0] + matrix_w_nb[1][0])"
   ]
  },
  {
   "cell_type": "markdown",
   "metadata": {},
   "source": [
    "<h3> Regresión Logística </h3>"
   ]
  },
  {
   "cell_type": "markdown",
   "metadata": {},
   "source": [
    "<h4> Indians dataset </h4>"
   ]
  },
  {
   "cell_type": "code",
   "execution_count": 62,
   "metadata": {},
   "outputs": [
    {
     "name": "stdout",
     "output_type": "stream",
     "text": [
      "[[371 129]\n",
      " [ 84 184]]\n"
     ]
    }
   ],
   "source": [
    "clasificador = ClasificadorRegresionLogistica(10, 5)\n",
    "clasificador.entrenamiento(dataset.datos, dataset.nominalAtributos, dataset.diccionario)\n",
    "predicciones = clasificador.clasifica(dataset.datos, dataset.nominalAtributos, dataset.diccionario)\n",
    "clases = list(dataset.datos.iloc[:, -1])\n",
    "matrix_i_rl = confusion_matrix(y_true=clases, y_pred=predicciones)\n",
    "print(matrix_i_rl)"
   ]
  },
  {
   "cell_type": "markdown",
   "metadata": {},
   "source": [
    "<p style=\"font-size: medium\">A continuación, calcularemos las tasas de FPR y TPR, que irán en el eje de las abscisas y eje de las ordenadas respectivamente. </p>"
   ]
  },
  {
   "cell_type": "code",
   "execution_count": 63,
   "metadata": {},
   "outputs": [],
   "source": [
    "FPR_i_rl = matrix_i_rl[0][1] / (matrix_i_rl[0][1] + matrix_i_rl[1][1])\n",
    "TPR_i_rl = matrix_i_rl[0][0] /(matrix_i_rl[0][0] + matrix_i_rl[1][0])"
   ]
  },
  {
   "cell_type": "markdown",
   "metadata": {},
   "source": [
    "<h4> WDBC dataset </h4>"
   ]
  },
  {
   "cell_type": "code",
   "execution_count": 64,
   "metadata": {},
   "outputs": [
    {
     "name": "stdout",
     "output_type": "stream",
     "text": [
      "[[355   2]\n",
      " [  8 204]]\n"
     ]
    }
   ],
   "source": [
    "clasificador = ClasificadorRegresionLogistica(10, 5)\n",
    "clasificador.entrenamiento(dataset2.datos, dataset2.nominalAtributos, dataset2.diccionario)\n",
    "predicciones = clasificador.clasifica(dataset2.datos, dataset2.nominalAtributos, dataset2.diccionario)\n",
    "clases = list(dataset2.datos.iloc[:, -1])\n",
    "matrix_w_rl = confusion_matrix(y_true=clases, y_pred=predicciones)\n",
    "print(matrix_w_rl)"
   ]
  },
  {
   "cell_type": "markdown",
   "metadata": {},
   "source": [
    "<p style=\"font-size: medium\">A continuación, calcularemos las tasas de FPR y TPR, que irán en el eje de las abscisas y eje de las ordenadas respectivamente. </p>"
   ]
  },
  {
   "cell_type": "code",
   "execution_count": 65,
   "metadata": {},
   "outputs": [],
   "source": [
    "FPR_w_rl = matrix_w_rl[0][1] / (matrix_w_rl[0][1] + matrix_w_rl[1][1])\n",
    "TPR_w_rl = matrix_w_rl[0][0] /(matrix_w_rl[0][0] + matrix_w_rl[1][0])"
   ]
  },
  {
   "cell_type": "markdown",
   "metadata": {},
   "source": [
    "<h3> Vecinos Próximos</h3>"
   ]
  },
  {
   "cell_type": "markdown",
   "metadata": {},
   "source": [
    "<h4> Indians dataset </h4>"
   ]
  },
  {
   "cell_type": "code",
   "execution_count": 66,
   "metadata": {},
   "outputs": [
    {
     "name": "stdout",
     "output_type": "stream",
     "text": [
      "[[458  42]\n",
      " [ 72 196]]\n",
      "[[460  40]\n",
      " [ 76 192]]\n",
      "[[456  44]\n",
      " [ 76 192]]\n"
     ]
    }
   ],
   "source": [
    "# Euclídea\n",
    "clasificador = ClasificadorVecinosProximos(k=3, normalizacion=True)\n",
    "clasificador.entrenamiento(dataset.datos, dataset.nominalAtributos, dataset.diccionario)\n",
    "predicciones = clasificador.clasifica(dataset.datos, dataset.nominalAtributos, dataset.diccionario)\n",
    "clases = list(dataset.datos.iloc[:, -1])\n",
    "matrix_i_vp_e = confusion_matrix(y_true=clases, y_pred=predicciones)\n",
    "print(matrix_i_vp_e)\n",
    "\n",
    "# Manhattan\n",
    "clasificador = ClasificadorVecinosProximos(distancia=\"manhattan\", k=3, normalizacion=True)\n",
    "clasificador.entrenamiento(dataset.datos, dataset.nominalAtributos, dataset.diccionario)\n",
    "predicciones = clasificador.clasifica(dataset.datos, dataset.nominalAtributos, dataset.diccionario)\n",
    "clases = list(dataset.datos.iloc[:, -1])\n",
    "matrix_i_vp_man = confusion_matrix(y_true=clases, y_pred=predicciones)\n",
    "print(matrix_i_vp_man)\n",
    "\n",
    "# Mahalanobis\n",
    "clasificador = ClasificadorVecinosProximos(distancia=\"mahalanobis\", k=3, normalizacion=True)\n",
    "clasificador.entrenamiento(dataset.datos, dataset.nominalAtributos, dataset.diccionario)\n",
    "predicciones = clasificador.clasifica(dataset.datos, dataset.nominalAtributos, dataset.diccionario)\n",
    "clases = list(dataset.datos.iloc[:, -1])\n",
    "matrix_i_vp_mah = confusion_matrix(y_true=clases, y_pred=predicciones)\n",
    "print(matrix_i_vp_mah)"
   ]
  },
  {
   "cell_type": "markdown",
   "metadata": {},
   "source": [
    "<p style=\"font-size: medium\">A continuación, calcularemos las tasas de FPR y TPR, que irán en el eje de las abscisas y eje de las ordenadas respectivamente. </p>"
   ]
  },
  {
   "cell_type": "code",
   "execution_count": 67,
   "metadata": {},
   "outputs": [],
   "source": [
    "# Euclídea\n",
    "FPR_i_vp_e = matrix_i_vp_e[0][1] / (matrix_i_vp_e[0][1] + matrix_i_vp_e[1][1])\n",
    "TPR_i_vp_e = matrix_i_vp_e[0][0] /(matrix_i_vp_e[0][0] + matrix_i_vp_e[1][0])\n",
    "\n",
    "# Manhattan\n",
    "FPR_i_vp_man = matrix_i_vp_man[0][1] / (matrix_i_vp_man[0][1] + matrix_i_vp_man[1][1])\n",
    "TPR_i_vp_man = matrix_i_vp_man[0][0] /(matrix_i_vp_man[0][0] + matrix_i_vp_man[1][0])\n",
    "\n",
    "# Mahalanobis\n",
    "FPR_i_vp_mah = matrix_i_vp_mah[0][1] / (matrix_i_vp_mah[0][1] + matrix_i_vp_mah[1][1])\n",
    "TPR_i_vp_mah = matrix_i_vp_mah[0][0] /(matrix_i_vp_mah[0][0] + matrix_i_vp_mah[1][0])"
   ]
  },
  {
   "cell_type": "markdown",
   "metadata": {},
   "source": [
    "<h4> WDBC dataset </h4>"
   ]
  },
  {
   "cell_type": "code",
   "execution_count": 68,
   "metadata": {},
   "outputs": [
    {
     "name": "stdout",
     "output_type": "stream",
     "text": [
      "[[356   1]\n",
      " [ 10 202]]\n",
      "[[357   0]\n",
      " [  8 204]]\n",
      "[[355   2]\n",
      " [ 57 155]]\n"
     ]
    }
   ],
   "source": [
    "# Euclídea\n",
    "clasificador = ClasificadorVecinosProximos(k=3, normalizacion=True)\n",
    "clasificador.entrenamiento(dataset2.datos, dataset2.nominalAtributos, dataset2.diccionario)\n",
    "predicciones = clasificador.clasifica(dataset2.datos, dataset2.nominalAtributos, dataset2.diccionario)\n",
    "clases = list(dataset2.datos.iloc[:, -1])\n",
    "matrix_w_vp_e = confusion_matrix(y_true=clases, y_pred=predicciones)\n",
    "print(matrix_w_vp_e)\n",
    "\n",
    "# Manhattan\n",
    "clasificador = ClasificadorVecinosProximos(distancia=\"manhattan\", k=3, normalizacion=True)\n",
    "clasificador.entrenamiento(dataset2.datos, dataset2.nominalAtributos, dataset2.diccionario)\n",
    "predicciones = clasificador.clasifica(dataset2.datos, dataset2.nominalAtributos, dataset2.diccionario)\n",
    "clases = list(dataset2.datos.iloc[:, -1])\n",
    "matrix_w_vp_man = confusion_matrix(y_true=clases, y_pred=predicciones)\n",
    "print(matrix_w_vp_man)\n",
    "\n",
    "# Mahalanobis\n",
    "clasificador = ClasificadorVecinosProximos(distancia=\"mahalanobis\", k=3, normalizacion=True)\n",
    "clasificador.entrenamiento(dataset2.datos, dataset2.nominalAtributos, dataset2.diccionario)\n",
    "predicciones = clasificador.clasifica(dataset2.datos, dataset2.nominalAtributos, dataset2.diccionario)\n",
    "clases = list(dataset2.datos.iloc[:, -1])\n",
    "matrix_w_vp_mah = confusion_matrix(y_true=clases, y_pred=predicciones)\n",
    "print(matrix_w_vp_mah)"
   ]
  },
  {
   "cell_type": "markdown",
   "metadata": {},
   "source": [
    "<p style=\"font-size: medium\">A continuación, calcularemos las tasas de FPR y TPR, que irán en el eje de las abscisas y eje de las ordenadas respectivamente. </p>"
   ]
  },
  {
   "cell_type": "code",
   "execution_count": 69,
   "metadata": {},
   "outputs": [],
   "source": [
    "# Euclídea\n",
    "FPR_w_vp_e = matrix_w_vp_e[0][1] / (matrix_w_vp_e[0][1] + matrix_w_vp_e[1][1])\n",
    "TPR_w_vp_e = matrix_w_vp_e[0][0] /(matrix_w_vp_e[0][0] + matrix_w_vp_e[1][0])\n",
    "\n",
    "# Manhattan\n",
    "FPR_w_vp_man = matrix_w_vp_man[0][1] / (matrix_w_vp_man[0][1] + matrix_w_vp_man[1][1])\n",
    "TPR_w_vp_man = matrix_w_vp_man[0][0] /(matrix_w_vp_man[0][0] + matrix_w_vp_man[1][0])\n",
    "\n",
    "# Mahalanobis\n",
    "FPR_w_vp_mah = matrix_w_vp_mah[0][1] / (matrix_w_vp_mah[0][1] + matrix_w_vp_mah[1][1])\n",
    "TPR_w_vp_mah = matrix_w_vp_mah[0][0] /(matrix_w_vp_mah[0][0] + matrix_w_vp_mah[1][0])"
   ]
  },
  {
   "cell_type": "markdown",
   "metadata": {},
   "source": [
    "<h3> Dibujamos el espacio ROC</h3>"
   ]
  },
  {
   "cell_type": "markdown",
   "metadata": {},
   "source": [
    "<p style=\"font-size: medium\">A continuación, calcularemos las tasas de FPR y TPR, que irán en el eje de las abscisas y eje de las ordenadas respectivamente. </p>"
   ]
  },
  {
   "cell_type": "code",
   "execution_count": 70,
   "metadata": {},
   "outputs": [
    {
     "data": {
      "image/png": "[encoded data removed]",
      "text/plain": [
       "<Figure size 432x288 with 1 Axes>"
      ]
     },
     "metadata": {
      "needs_background": "light"
     },
     "output_type": "display_data"
    }
   ],
   "source": [
    "#Plotteamos las gráficas\n",
    "\n",
    "plt.plot(FPR_i_nb, TPR_i_nb, color='red', marker='o', label='Indians (NB)')\n",
    "plt.plot(FPR_w_nb, TPR_w_nb, color='green', marker='o', label='WDBC (NB)')\n",
    "\n",
    "plt.plot(FPR_i_rl, TPR_i_rl, color='blue', marker='o', label='Indians (RL)')\n",
    "plt.plot(FPR_w_rl, TPR_w_rl, color='gray', marker='o', label='WDBC (RL)')\n",
    "\n",
    "plt.plot(FPR_i_vp_e, TPR_i_vp_e, color='purple', marker='o', label='Indians (VP-Euclídea)')\n",
    "plt.plot(FPR_i_vp_man, TPR_i_vp_man, color='cyan', marker='o', label='Indians (VP-Manhattan)')\n",
    "plt.plot(FPR_i_vp_mah, TPR_i_vp_mah, color='pink', marker='o', label='Indians (VP-Mahalanobis)')\n",
    "\n",
    "plt.plot(FPR_w_vp_e, TPR_w_vp_e, color='brown', marker='o', label='WDBC (VP-Euclídea)')\n",
    "plt.plot(FPR_w_vp_man, TPR_w_vp_man, color='black', marker='o', label='WDBC (VP-Manhattan)')\n",
    "plt.plot(FPR_w_vp_mah, TPR_w_vp_mah, color='magenta', marker='o', label='WDBC (VP-Mahalanobis)')\n",
    "\n",
    "plt.plot( [0,1],[0,1], ls='--') #Linea diagonal\n",
    "\n",
    "plt.xlim(0, 1)\n",
    "plt.ylim(0, 1)\n",
    "plt.xlabel('FPR')\n",
    "plt.ylabel('TPR')\n",
    "plt.legend(loc='center left', bbox_to_anchor=(1, 0.5))\n",
    "plt.show()"
   ]
  },
  {
   "cell_type": "markdown",
   "metadata": {},
   "source": [
    "<p style=\"font-size: medium\"> Podemos observar que para el dataset de indians se obtienen peores resultados que para el dataset de WDBC. Dentro de los Indians, tanto Naive Bayes y Regresión Logística tienen aproximadamente el mismo porcentaje de verdaderos positivos, pero el clasificador de Naive Bayes obtiene menos cantidad de falsos positivos que el de Regresión Logística. Por lo que podría decirse que Naive Bayes ligeramente más certero que Regresión Logística para este dataset. En cuanto a Vecinos Próximos, vemos que tiene muchísimos menos falsos positivos que los calsificadores anteriores. No cabe duda que el mismo se ajusta mucho mejor al dataset que Bayes y que Regresión.</p>\n",
    "\n",
    "<p style=\"font-size: medium\"> En el caso del WDBC, observamos que el clasificador de Regresión Logística no solo obtiene más verdaderos positivos, sino que consigue menos falsos positivos, consiguiendo casi una clasificación perfecta, que el de Naive Bayes. Sin embargo, si comparamos regresión con vecinos próximos, vemos que este segundo es ligeramente mejor que el primero. Tiene menos falsos positivos que regresión y aparente estar ligeramente más alejado de la diagonal.</p>\n",
    "\n",
    "<p style=\"font-size: medium\"> En general, los tres modelos podrían considerarse adecuados para clasificar estos datasets, puesto que se posicionan por encima y alejados de la recta. Esto es debido a que mientras más alejados de la recta, más aumenta la sensibilidad y la especificidad del modelo. En el caso de caer sobre la recta significaría una clasificación completamente aleatoria, por lo que, al caer debajo de la recta significaría una clasificación peor que el azar.</p>"
   ]
  }
 ],
 "metadata": {
  "kernelspec": {
   "display_name": "Python 3",
   "language": "python",
   "name": "python3"
  },
  "language_info": {
   "codemirror_mode": {
    "name": "ipython",
    "version": 3
   },
   "file_extension": ".py",
   "mimetype": "text/x-python",
   "name": "python",
   "nbconvert_exporter": "python",
   "pygments_lexer": "ipython3",
   "version": "3.6.8"
  }
 },
 "nbformat": 4,
 "nbformat_minor": 4
}
