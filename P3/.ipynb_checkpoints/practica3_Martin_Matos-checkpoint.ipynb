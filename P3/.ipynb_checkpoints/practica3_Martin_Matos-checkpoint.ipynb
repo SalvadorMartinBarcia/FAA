{
 "cells": [
  {
   "cell_type": "markdown",
   "metadata": {
    "id": "3wBcY6RwsAA_"
   },
   "source": [
    "\n",
    "<h2 style=\"text-align:center;\" class=\"centrado\"> Prácticas FAA: Salvador Martín Barcia y Patricia Matos Meza </h2>\n",
    "<h3 style=\"text-align:center;\" class=\"centrado\"> Práctica 3: Algoritmos Genéticos, Análisis ROC </h3>\n"
   ]
  },
  {
   "cell_type": "markdown",
   "metadata": {
    "id": "HZWUQtcrsABJ"
   },
   "source": [
    "<p style=\"font-size: medium;\"> A continuación, distribuiremos este cuaderno en los diferentes apartados que se nos pide. Estos son: Descripción del diseño, Resultados de distintas ejecuciones y análisis de los resultados, Gráficas de fitness y mejores individuos y Análisis ROC. </p>\n",
    "\n",
    "<p style=\"font-size: medium;\"> Ahora, importaremos todas las librerías necesarias para la ejecución. </p>"
   ]
  },
  {
   "cell_type": "code",
   "execution_count": 1,
   "metadata": {
    "id": "Fh0WzG0-sABK"
   },
   "outputs": [],
   "source": [
    "from Datos import Datos\n",
    "from ValidacionCruzada import ValidacionCruzada\n",
    "from ValidacionSimple import ValidacionSimple\n",
    "from ClasificadorNaiveBayes import ClasificadorNaiveBayes\n",
    "from ClasificadorVecinosProximos import ClasificadorVecinosProximos\n",
    "from ClasificadorRegresionLogistica import ClasificadorRegresionLogistica\n",
    "from ClasificadorAlgoritmoGenetico import ClasificadorAlgoritmoGenetico\n",
    "from sklearn import preprocessing, naive_bayes, model_selection, linear_model, neighbors, metrics\n",
    "import pandas as pd\n",
    "import time\n",
    "import numpy as np\n",
    "from sklearn.metrics import accuracy_score, confusion_matrix\n",
    "import matplotlib.pyplot as plt\n",
    "from IPython.display import display"
   ]
  },
  {
   "cell_type": "markdown",
   "metadata": {
    "id": "alhaXoFlsABN"
   },
   "source": [
    "<h2> Obtención de los datos </h2>"
   ]
  },
  {
   "cell_type": "markdown",
   "metadata": {
    "id": "4MPM3L9ksABN"
   },
   "source": [
    "<p style=\"font-size: medium\"> Para esta primera parte de la práctica, cogeremos los datos de nuestra implementación de la clase Datos. A diferencia de la práctica 1, utilizaremos dos nuevos conjuntos de datos proporcionados.</p>"
   ]
  },
  {
   "cell_type": "code",
   "execution_count": 29,
   "metadata": {
    "id": "6SNfZhg2sABO"
   },
   "outputs": [],
   "source": [
    "dataset = Datos('data/tic-tac-toe.data')\n",
    "dataset2 = Datos('data/titanic.data')"
   ]
  },
  {
   "cell_type": "markdown",
   "metadata": {
    "id": "mU5c3Q2PsABO"
   },
   "source": [
    "<h2> Naive-Bayes </h2>\n",
    "<p style=\"font-size: medium\"> Empezaremos con el clasificador Naive Bayes programado la práctica pasada. Ejecutaremos este clasificiador con las distintas estrategias de particionado también programadas en la práctica 1: Validación Simple y Validación Cruzada. No haremos hincapié en los comentarios de los resultados, puesto que este clasificador fue ya discutido en la práctica anterior. La única diferencia serán los datasets, que vendrán en este caso de tic-tac-toe y de titanic.</p>\n",
    "<h3> Validación Simple </h3>\n",
    "<p style=\"font-size: medium\">Ejecutaremos a continuación la estrategia de Validación Simple con las funciones de la práctica anterior. </p>\n",
    "\n",
    "<h4> Tic-Tac-Toe </h4>"
   ]
  },
  {
   "cell_type": "code",
   "execution_count": 30,
   "metadata": {
    "colab": {
     "base_uri": "https://localhost:8080/"
    },
    "id": "M5zJaugasABO",
    "outputId": "37e3e0a5-dac7-494c-bd5b-61c9ddd2d956"
   },
   "outputs": [
    {
     "name": "stdout",
     "output_type": "stream",
     "text": [
      "0.313588850174216\n"
     ]
    }
   ],
   "source": [
    "estrategia = ValidacionSimple(0.4, 1)\n",
    "clasificador = ClasificadorNaiveBayes(False)\n",
    "error_vs_sin_laplace_i_faa = clasificador.validacion(estrategia, dataset, clasificador)\n",
    "print(error_vs_sin_laplace_i_faa[0])"
   ]
  },
  {
   "cell_type": "markdown",
   "metadata": {
    "id": "Sz2_-hJesABP"
   },
   "source": [
    "<h4> Titanic </h4>"
   ]
  },
  {
   "cell_type": "code",
   "execution_count": 31,
   "metadata": {
    "colab": {
     "base_uri": "https://localhost:8080/"
    },
    "id": "eR3GHK0ksABP",
    "outputId": "df852f53-10ec-4ed9-8a91-0ae1f09045cd"
   },
   "outputs": [
    {
     "name": "stdout",
     "output_type": "stream",
     "text": [
      "0.24242424242424243\n"
     ]
    }
   ],
   "source": [
    "estrategia = ValidacionSimple(0.4, 1)\n",
    "clasificador = ClasificadorNaiveBayes(False)\n",
    "error_vs_sin_laplace_w_faa = clasificador.validacion(estrategia, dataset2, clasificador)\n",
    "print(error_vs_sin_laplace_w_faa[0])"
   ]
  },
  {
   "cell_type": "markdown",
   "metadata": {
    "id": "GDuBB5wrsABQ"
   },
   "source": [
    "<h4> Resumen de lo medido </h4>"
   ]
  },
  {
   "cell_type": "code",
   "execution_count": 32,
   "metadata": {
    "colab": {
     "base_uri": "https://localhost:8080/"
    },
    "id": "WcwNEvAcsABQ",
    "outputId": "c93ce172-738b-4c10-c044-562cb1798d98"
   },
   "outputs": [
    {
     "name": "stdout",
     "output_type": "stream",
     "text": [
      "          Indians      WDBC\n",
      "Errores  0.313589  0.242424\n"
     ]
    }
   ],
   "source": [
    "datos = [[error_vs_sin_laplace_i_faa[0], error_vs_sin_laplace_w_faa[0] ]]\n",
    "resumen = pd.DataFrame(datos, index=['Errores'],columns=['Indians', 'WDBC'])\n",
    "print(resumen)"
   ]
  },
  {
   "cell_type": "markdown",
   "metadata": {
    "id": "gP3MV7IPsABR"
   },
   "source": [
    "<h3> Validación Cruzada </h3>\n",
    "<p style=\"font-size: medium\">Ejecutaremos a continuación la estrategia de Validación Cruzada con las funciones programas en esta práctica. </p>\n",
    "\n",
    "<h4> Tic-Tac-Toe </h4>"
   ]
  },
  {
   "cell_type": "code",
   "execution_count": 33,
   "metadata": {
    "colab": {
     "base_uri": "https://localhost:8080/"
    },
    "id": "cUMIDPZbsABR",
    "outputId": "9a279713-5a86-4153-9efe-8bd91d1840e2"
   },
   "outputs": [
    {
     "name": "stdout",
     "output_type": "stream",
     "text": [
      "Particion 1 : 0.32217573221757323\n",
      "Particion 2 : 0.34309623430962344\n",
      "Particion 3 : 0.26778242677824265\n",
      "Particion 4 : 0.27385892116182575\n"
     ]
    }
   ],
   "source": [
    "estrategia = ValidacionCruzada(4)\n",
    "clasificador = ClasificadorNaiveBayes(False)\n",
    "error_vc_sin_laplace_i_faa = clasificador.validacion(estrategia, dataset, clasificador)\n",
    "\n",
    "for i, error in enumerate(error_vc_sin_laplace_i_faa):\n",
    "    print('Particion', i+1, ':', error)"
   ]
  },
  {
   "cell_type": "markdown",
   "metadata": {
    "id": "9cKTU7CtsABR"
   },
   "source": [
    "<h4> Titanic </h4>"
   ]
  },
  {
   "cell_type": "code",
   "execution_count": 34,
   "metadata": {
    "colab": {
     "base_uri": "https://localhost:8080/"
    },
    "id": "au9YK6TUsABS",
    "outputId": "8147f565-70ff-4a09-99e9-3aa9ea7fe0a1"
   },
   "outputs": [
    {
     "name": "stdout",
     "output_type": "stream",
     "text": [
      "Particion 1 : 0.19923371647509577\n",
      "Particion 2 : 0.1839080459770115\n",
      "Particion 3 : 0.26436781609195403\n",
      "Particion 4 : 0.24714828897338403\n"
     ]
    }
   ],
   "source": [
    "estrategia = ValidacionCruzada(4)\n",
    "clasificador = ClasificadorNaiveBayes(False)\n",
    "error_vc_sin_laplace_w_faa = clasificador.validacion(estrategia, dataset2, clasificador)\n",
    "\n",
    "for i, error in enumerate(error_vc_sin_laplace_w_faa):\n",
    "    print('Particion', i+1, ':', error)"
   ]
  },
  {
   "cell_type": "markdown",
   "metadata": {
    "id": "IbzWvNAMsABS"
   },
   "source": [
    "<h4> Resumen de lo medido </h4>"
   ]
  },
  {
   "cell_type": "code",
   "execution_count": 35,
   "metadata": {
    "colab": {
     "base_uri": "https://localhost:8080/"
    },
    "id": "HUokCQjTsABS",
    "outputId": "00a8254e-a7a3-44c8-e642-759f88e4a529"
   },
   "outputs": [
    {
     "name": "stdout",
     "output_type": "stream",
     "text": [
      "         Particion 1  Particion 2  Particion 3   Particion 4\n",
      "Indians     0.322176     0.343096     0.267782      0.273859\n",
      "WDBC        0.199234     0.183908     0.264368      0.247148\n"
     ]
    }
   ],
   "source": [
    "datos = [error_vc_sin_laplace_i_faa, error_vc_sin_laplace_w_faa]\n",
    "resumen = pd.DataFrame(datos, columns=['Particion 1', 'Particion 2', 'Particion 3',' Particion 4'],index=['Indians', 'WDBC'])\n",
    "print(resumen)"
   ]
  },
  {
   "cell_type": "markdown",
   "metadata": {
    "id": "3iiES7U7xyQA"
   },
   "source": [
    "<h2> Descripción del diseño </h2>\n",
    "\n",
    "A continuación, ejecutaremos, para los mismos conjuntos de datos, el clasificador de los algoritmos genéticos. \n",
    "\n",
    "En primer lugar, queríamos comentar algunos detalles acerca de las decisiones de diseño empleadas en la implementación de este algoritmo.\n",
    "\n",
    "\n",
    "\n",
    "1.   <b>Población inicial</b> En cuanto a la población inicial, se deben especificar los siguientes parámetros en el constructor:\n",
    "\n",
    "\n",
    "\n",
    "> *   Probabilidad de cruce (pCruce).\n",
    "*   Probabilidad de mutación (pMutacion).\n",
    "* Probabilidad de elitismo (pElitismo), la cual tiene como valor predefinido un 0.05.\n",
    "* Número de generaciones (nGeneraciones), cuyo valor predefinido es 1.\n",
    "* Número de reglas por individuo (nReglas), cuyo valor predefinido es 1.\n",
    "* Número de individuos epor generación (nPoblacion), su valor default es 100.\n",
    "* Método empleado para el cruce (intra), su valor predefinido es True y ejecutará un cruce intrareglas y cruce interreglas cuando False.\n",
    "* Método empleado para la mutación (todas), su valor predefinido es True y ejecutará una mutación estándar para todas las reglas y para solo una cuando False.\n",
    "* Modo Debug (debug), si es True imprime información para ayudar al debuggear y si es False no imprime nada.\n",
    "\n",
    "2. <b>Mecanismos de cruce</b> Hemos implementado dos mecanismos de cruce: Intrareglas e Interreglas. El primero hace un cruce de bits entre dos reglas, mientras que el segundo intercambia, a partir de un punto, reglas enteras.\n",
    "\n",
    "3. <b>Mecanismos de mutación</b> Hemos implementado dos métodos para la mutación estándar: Mutar solo una regla por individuo y Mutar todas las reglas del individuo. Ambas realizan bit flips.\n",
    "\n",
    "4. <b>Mecanismo de clasificación</b>  Las predicciones de las clases se obtienen de aquellas reglas que marcan 'acierto' a la hora de calcular el fitness del <i> mejor individuo </i> obtenido del entrenamiento (mayor fitness). En el caso de que ninguna regla marque acierto, escogemos aleatoriamente una clase entre 0 y 1, y la tomamos como predicción.  \n",
    "\n",
    "5. <b>Empate de reglas</b> En cuanto a la situación de empate a la hora de contar aciertos, se ha tomado la decisión de coger la clase que más se repite, es decir, la moda de las clases.\n",
    "\n",
    "6. <b>Descarte de reglas</b> A la hora de generar nuevas reglas, lo hacemos por atributos y según su longitud. De tal manera que, al generar las secuencias de 0s y de 1s, podamos descartar aquellas de todas ceros y todos unos (000 y 111), que no podrían ocurrir nunca, puesto que, no se puede seleccionar todos los valores posibles de los atributos a la vez.\n",
    "\n",
    "<h2> Resultados </h2>\n",
    "\n",
    "<p style=\"font-size: medium\">Para ejecutar, utilizaremos los siguientes valores para los parámetros:</p>"
   ]
  },
  {
   "cell_type": "code",
   "execution_count": 36,
   "metadata": {
    "id": "-InSCg0J7vFS"
   },
   "outputs": [],
   "source": [
    "generaciones = [100, 200]\n",
    "poblaciones = [50, 150]"
   ]
  },
  {
   "cell_type": "markdown",
   "metadata": {
    "id": "GV6lhvnj7PcX"
   },
   "source": [
    "<p style=\"font-size: medium\">Cabe destacar que cogeremos como probabilidades fijas para el cruce y la mutación 0.5 y 0.1 respectivamente. Para el número de reglas hemos escogido 3 y 5 (estos valores son pequeños debido al tiempo de ejecución, que se puede ver en cada una de las casillas de código). Finalmente, iremos probando todas las posibles combinaciones para los tipos de cruce y de mutación. </p>\n",
    "\n",
    "<p style=\"font-size: medium\">Por otro lado, hemos decidido hacer las ejecuciones solo con Validación Simple debido a que el tiempo de ejecución es demasiado elevado, y nos sería imposible aún cuando lo hemos ejecutado en el entorno de Google Colaboratory.</p>\n",
    "\n",
    "<p style=\"font-size: medium\">Aviso importante: <b>Debido al gran factor de aleatoriedad que tiene este algoritmo, es probable que los errores cambien radicalmente a los presentados en el notebook si se vuelven a ejecutar. Trabajaremos con los resultados presentados a continuación.</b></p>"
   ]
  },
  {
   "cell_type": "markdown",
   "metadata": {
    "id": "iKN2TdtI7vaZ"
   },
   "source": [
    "\n",
    "<h3> Tic-Tac-Toe </h3>\n",
    "\n",
    "<h4> Con 3 reglas </h4>"
   ]
  },
  {
   "cell_type": "markdown",
   "metadata": {
    "id": "Xt7xWXG7X_qU"
   },
   "source": [
    "<p style=\"font-size: medium\">Ejecutaremos el algoritmo con un cruce intrareglas y mutación estándar y, además, imprimiremos el tiempo de ejecución de cada una.</p>"
   ]
  },
  {
   "cell_type": "code",
   "execution_count": 37,
   "metadata": {
    "colab": {
     "base_uri": "https://localhost:8080/"
    },
    "id": "mNSyDbk3TLus",
    "outputId": "cfd236b7-e9a3-4a10-aed6-7b235705d72a"
   },
   "outputs": [
    {
     "name": "stdout",
     "output_type": "stream",
     "text": [
      "Tiempo de ejecución:  2310.02592587471\n"
     ]
    }
   ],
   "source": [
    "error_ttt_tres_1 = []\n",
    "\n",
    "start = time.time()\n",
    "\n",
    "for nGeneraciones in generaciones:\n",
    "  error_p = []\n",
    "\n",
    "  for nPoblacion in poblaciones:\n",
    "    estrategia = ValidacionSimple(0.7, 1)\n",
    "    clasificador = ClasificadorAlgoritmoGenetico(pCruce=0.5, pMutacion=0.1, nGeneraciones=nGeneraciones, nReglas=3, nPoblacion=nPoblacion, intra=True, todas=True)\n",
    "    error_p.append(clasificador.validacion(estrategia, dataset, clasificador)[0])\n",
    "    \n",
    "  error_ttt_tres_1.append(error_p)\n",
    "\n",
    "end = time.time()\n",
    "\n",
    "print('Tiempo de ejecución: ', end-start)"
   ]
  },
  {
   "cell_type": "code",
   "execution_count": 38,
   "metadata": {
    "colab": {
     "base_uri": "https://localhost:8080/",
     "height": 82
    },
    "id": "_tCD7MEG0J9d",
    "outputId": "3a015dd5-9e1e-4326-f028-8f9967a9ff86"
   },
   "outputs": [
    {
     "data": {
      "text/html": [
       "<style  type=\"text/css\" >\n",
       "#T_5810b764_3fcc_11eb_b716_c869cdaf8e24row0_col0,#T_5810b764_3fcc_11eb_b716_c869cdaf8e24row1_col1{\n",
       "            background-color:  #e0ecf8;\n",
       "            color:  #000000;\n",
       "        }#T_5810b764_3fcc_11eb_b716_c869cdaf8e24row0_col1,#T_5810b764_3fcc_11eb_b716_c869cdaf8e24row1_col0{\n",
       "            background-color:  #2e7ebc;\n",
       "            color:  #000000;\n",
       "        }</style><table id=\"T_5810b764_3fcc_11eb_b716_c869cdaf8e24\" ><thead>    <tr>        <th class=\"blank level0\" ></th>        <th class=\"col_heading level0 col0\" >nPoblacion = 50</th>        <th class=\"col_heading level0 col1\" >nPoblacion = 150</th>    </tr></thead><tbody>\n",
       "                <tr>\n",
       "                        <th id=\"T_5810b764_3fcc_11eb_b716_c869cdaf8e24level0_row0\" class=\"row_heading level0 row0\" >nGeneracion = 100</th>\n",
       "                        <td id=\"T_5810b764_3fcc_11eb_b716_c869cdaf8e24row0_col0\" class=\"data row0 col0\" >0.489510</td>\n",
       "                        <td id=\"T_5810b764_3fcc_11eb_b716_c869cdaf8e24row0_col1\" class=\"data row0 col1\" >0.510490</td>\n",
       "            </tr>\n",
       "            <tr>\n",
       "                        <th id=\"T_5810b764_3fcc_11eb_b716_c869cdaf8e24level0_row1\" class=\"row_heading level0 row1\" >nGeneracion = 200</th>\n",
       "                        <td id=\"T_5810b764_3fcc_11eb_b716_c869cdaf8e24row1_col0\" class=\"data row1 col0\" >0.500000</td>\n",
       "                        <td id=\"T_5810b764_3fcc_11eb_b716_c869cdaf8e24row1_col1\" class=\"data row1 col1\" >0.451049</td>\n",
       "            </tr>\n",
       "    </tbody></table>"
      ],
      "text/plain": [
       "<pandas.io.formats.style.Styler at 0x11d3fe890>"
      ]
     },
     "metadata": {},
     "output_type": "display_data"
    }
   ],
   "source": [
    "resumen_error = pd.DataFrame(error_ttt_tres_1, columns=['nPoblacion = 50', 'nPoblacion = 150'],index=['nGeneracion = 100', 'nGeneracion = 200'])\n",
    "resumen_error = resumen_error.style.background_gradient(cmap='Blues', low=.2, high=0.51, axis=1)\n",
    "display(resumen_error)"
   ]
  },
  {
   "cell_type": "markdown",
   "metadata": {
    "id": "eKIVOcktbjxL"
   },
   "source": [
    "<p style=\"font-size: medium\"> En este caso hemos intercambiado una regla entre dos progenitores por generación y hemos mutado todas las reglas, según las probabilidades respectivas. Podemos ver que hemos obtenido unos resultados aceptables que rondan la mitad de errores y la mitad de aciertos. Los dos casos que destacan son, 100 generaciones con 50 individuos y 200 generaciones con 150 individuos, que obtienen unos resultados ligeramente mejores que el resto.</p>\n",
    "\n",
    "\n",
    "<p style=\"font-size: medium\">A continuación, ejecutaremos cruce intrareglas y mutación aplicada a una regla aleatoria del conjunto de reglas.</p>"
   ]
  },
  {
   "cell_type": "code",
   "execution_count": 39,
   "metadata": {
    "colab": {
     "base_uri": "https://localhost:8080/"
    },
    "id": "sQL8HoVg2H9k",
    "outputId": "989bb7e1-c53c-468f-8e14-11b5157c0c8a"
   },
   "outputs": [
    {
     "name": "stdout",
     "output_type": "stream",
     "text": [
      "Tiempo de ejecución:  2207.4672520160675\n"
     ]
    }
   ],
   "source": [
    "error_ttt_tres_2 = []\n",
    "\n",
    "start = time.time()\n",
    "\n",
    "for nGeneraciones in generaciones:\n",
    "  error_p = []\n",
    "\n",
    "  for nPoblacion in poblaciones:\n",
    "    estrategia = ValidacionSimple(0.7, 1)\n",
    "    clasificador = ClasificadorAlgoritmoGenetico(pCruce=0.5, pMutacion=0.1, nGeneraciones=nGeneraciones, nReglas=3, nPoblacion=nPoblacion, intra=True, todas=False)\n",
    "    error_p.append(clasificador.validacion(estrategia, dataset, clasificador)[0])\n",
    "\n",
    "  error_ttt_tres_2.append(error_p)\n",
    "\n",
    "end = time.time()\n",
    "\n",
    "print('Tiempo de ejecución: ', end-start)"
   ]
  },
  {
   "cell_type": "code",
   "execution_count": 40,
   "metadata": {
    "colab": {
     "base_uri": "https://localhost:8080/",
     "height": 82
    },
    "id": "74V29495d6wL",
    "outputId": "4660f8d6-4e39-4d7c-b364-d36d10da2c5b"
   },
   "outputs": [
    {
     "data": {
      "text/html": [
       "<style  type=\"text/css\" >\n",
       "#T_7bd6f064_3fd1_11eb_b716_c869cdaf8e24row0_col0,#T_7bd6f064_3fd1_11eb_b716_c869cdaf8e24row1_col1{\n",
       "            background-color:  #2e7ebc;\n",
       "            color:  #000000;\n",
       "        }#T_7bd6f064_3fd1_11eb_b716_c869cdaf8e24row0_col1,#T_7bd6f064_3fd1_11eb_b716_c869cdaf8e24row1_col0{\n",
       "            background-color:  #e0ecf8;\n",
       "            color:  #000000;\n",
       "        }</style><table id=\"T_7bd6f064_3fd1_11eb_b716_c869cdaf8e24\" ><thead>    <tr>        <th class=\"blank level0\" ></th>        <th class=\"col_heading level0 col0\" >nPoblacion = 50</th>        <th class=\"col_heading level0 col1\" >nPoblacion = 150</th>    </tr></thead><tbody>\n",
       "                <tr>\n",
       "                        <th id=\"T_7bd6f064_3fd1_11eb_b716_c869cdaf8e24level0_row0\" class=\"row_heading level0 row0\" >nGeneracion = 100</th>\n",
       "                        <td id=\"T_7bd6f064_3fd1_11eb_b716_c869cdaf8e24row0_col0\" class=\"data row0 col0\" >0.513986</td>\n",
       "                        <td id=\"T_7bd6f064_3fd1_11eb_b716_c869cdaf8e24row0_col1\" class=\"data row0 col1\" >0.468531</td>\n",
       "            </tr>\n",
       "            <tr>\n",
       "                        <th id=\"T_7bd6f064_3fd1_11eb_b716_c869cdaf8e24level0_row1\" class=\"row_heading level0 row1\" >nGeneracion = 200</th>\n",
       "                        <td id=\"T_7bd6f064_3fd1_11eb_b716_c869cdaf8e24row1_col0\" class=\"data row1 col0\" >0.402098</td>\n",
       "                        <td id=\"T_7bd6f064_3fd1_11eb_b716_c869cdaf8e24row1_col1\" class=\"data row1 col1\" >0.423077</td>\n",
       "            </tr>\n",
       "    </tbody></table>"
      ],
      "text/plain": [
       "<pandas.io.formats.style.Styler at 0x1204a9290>"
      ]
     },
     "metadata": {},
     "output_type": "display_data"
    }
   ],
   "source": [
    "resumen_error = pd.DataFrame(error_ttt_tres_2, columns=['nPoblacion = 50', 'nPoblacion = 150'],index=['nGeneracion = 100', 'nGeneracion = 200'])\n",
    "resumen_error = resumen_error.style.background_gradient(cmap='Blues', low=.2, high=0.51, axis=1)\n",
    "display(resumen_error)"
   ]
  },
  {
   "cell_type": "markdown",
   "metadata": {
    "id": "e0wwlseydo3i"
   },
   "source": [
    "<p style=\"font-size: medium\"> En esta segunda ejecución, seguimos teniendo un cruce intrareglas pero mutamos solo una regla por generación. Seguimos obteniendo resultados cercamos a, mitad aciertos y mitad errores, pero con la diferencia de que las situaciones que antes tenían menos error, ahora son las que más. Obtenemos menos error para generaciones de 100 y 150 individuos y generaciones de 200 con 50 individuos.</p>\n",
    "\n",
    "<p style=\"font-size: medium\"> Ahora, haremos un cruce interreglas y mutación estándar aplicada a todas las reglas.</p>"
   ]
  },
  {
   "cell_type": "code",
   "execution_count": 41,
   "metadata": {
    "colab": {
     "base_uri": "https://localhost:8080/"
    },
    "id": "zH7od6sFcVus",
    "outputId": "c37acab5-7252-47b5-ad23-7930ab0b4fc3"
   },
   "outputs": [
    {
     "name": "stdout",
     "output_type": "stream",
     "text": [
      "Tiempo de ejecución:  1784.4318301677704\n"
     ]
    }
   ],
   "source": [
    "error_ttt_tres_3 = []\n",
    "\n",
    "start = time.time()\n",
    "\n",
    "for nGeneraciones in generaciones:\n",
    "  error_p = []\n",
    "\n",
    "  for nPoblacion in poblaciones:\n",
    "    estrategia = ValidacionSimple(0.7, 1)\n",
    "    clasificador = ClasificadorAlgoritmoGenetico(pCruce=0.5, pMutacion=0.1, nGeneraciones=nGeneraciones, nReglas=3, nPoblacion=nPoblacion, intra=False, todas=True)\n",
    "    error_p.append(clasificador.validacion(estrategia, dataset, clasificador)[0])\n",
    "\n",
    "  error_ttt_tres_3.append(error_p)\n",
    "\n",
    "end = time.time()\n",
    "\n",
    "print('Tiempo de ejecución: ', end-start)"
   ]
  },
  {
   "cell_type": "code",
   "execution_count": 42,
   "metadata": {
    "colab": {
     "base_uri": "https://localhost:8080/",
     "height": 82
    },
    "id": "OjEQSA5HR-bL",
    "outputId": "7a6c7799-4f7c-4555-fdb8-0cab432b1821"
   },
   "outputs": [
    {
     "data": {
      "text/html": [
       "<style  type=\"text/css\" >\n",
       "#T_a377a15a_3fd5_11eb_b716_c869cdaf8e24row0_col0,#T_a377a15a_3fd5_11eb_b716_c869cdaf8e24row1_col1{\n",
       "            background-color:  #e0ecf8;\n",
       "            color:  #000000;\n",
       "        }#T_a377a15a_3fd5_11eb_b716_c869cdaf8e24row0_col1,#T_a377a15a_3fd5_11eb_b716_c869cdaf8e24row1_col0{\n",
       "            background-color:  #2e7ebc;\n",
       "            color:  #000000;\n",
       "        }</style><table id=\"T_a377a15a_3fd5_11eb_b716_c869cdaf8e24\" ><thead>    <tr>        <th class=\"blank level0\" ></th>        <th class=\"col_heading level0 col0\" >nPoblacion = 50</th>        <th class=\"col_heading level0 col1\" >nPoblacion = 150</th>    </tr></thead><tbody>\n",
       "                <tr>\n",
       "                        <th id=\"T_a377a15a_3fd5_11eb_b716_c869cdaf8e24level0_row0\" class=\"row_heading level0 row0\" >nGeneracion = 100</th>\n",
       "                        <td id=\"T_a377a15a_3fd5_11eb_b716_c869cdaf8e24row0_col0\" class=\"data row0 col0\" >0.395105</td>\n",
       "                        <td id=\"T_a377a15a_3fd5_11eb_b716_c869cdaf8e24row0_col1\" class=\"data row0 col1\" >0.479021</td>\n",
       "            </tr>\n",
       "            <tr>\n",
       "                        <th id=\"T_a377a15a_3fd5_11eb_b716_c869cdaf8e24level0_row1\" class=\"row_heading level0 row1\" >nGeneracion = 200</th>\n",
       "                        <td id=\"T_a377a15a_3fd5_11eb_b716_c869cdaf8e24row1_col0\" class=\"data row1 col0\" >0.475524</td>\n",
       "                        <td id=\"T_a377a15a_3fd5_11eb_b716_c869cdaf8e24row1_col1\" class=\"data row1 col1\" >0.472028</td>\n",
       "            </tr>\n",
       "    </tbody></table>"
      ],
      "text/plain": [
       "<pandas.io.formats.style.Styler at 0x1207f9490>"
      ]
     },
     "metadata": {},
     "output_type": "display_data"
    }
   ],
   "source": [
    "resumen_error = pd.DataFrame(error_ttt_tres_3, columns=['nPoblacion = 50', 'nPoblacion = 150'],index=['nGeneracion = 100', 'nGeneracion = 200'])\n",
    "resumen_error = resumen_error.style.background_gradient(cmap='Blues', low=.2, high=0.51, axis=1)\n",
    "display(resumen_error)"
   ]
  },
  {
   "cell_type": "markdown",
   "metadata": {
    "id": "7Aaxmxy8kAXW"
   },
   "source": [
    "<p style=\"font-size: medium\">En esta ejecución, hacemos un giro de 180 grados, con un cruce interreglas y mutación para todas las reglas de la generación. Se obtienen unos resultados ligeramente mejores que las dos anteriores ejecuciones. Si comparamos con la primera de todas, vemos que el menor porcentaje de aciertos los tienen, en ambos,los 100-50 y 200-50 de generaciones y población respectivamente. Sin embargo, en la actual, tenemos menos errores. Esto podría deberse a que ha beneficiado en cierto modo el cruve interreglas. Aunque, esto no se puede afirmar al 100% puesto que hay un factor de aleatoriedad que hay que tomar en cuenta.</p>\n",
    "\n",
    "\n",
    "<p style=\"font-size: medium\">Por último, ejecutaremos un cruce interreglas y una mutación aplicada a un regla aleatoria por progenitor.</p>"
   ]
  },
  {
   "cell_type": "code",
   "execution_count": 43,
   "metadata": {
    "colab": {
     "base_uri": "https://localhost:8080/"
    },
    "id": "tYM2yDY2j_-z",
    "outputId": "e0cb8892-863e-4f87-caf5-53be539ac5ae"
   },
   "outputs": [
    {
     "name": "stdout",
     "output_type": "stream",
     "text": [
      "Tiempo de ejecución:  1967.9212160110474\n"
     ]
    }
   ],
   "source": [
    "error_ttt_tres_4 = []\n",
    "\n",
    "start = time.time()\n",
    "\n",
    "for nGeneraciones in generaciones:\n",
    "  error_p = []\n",
    "\n",
    "  for nPoblacion in poblaciones:\n",
    "    estrategia = ValidacionSimple(0.7, 1)\n",
    "    clasificador = ClasificadorAlgoritmoGenetico(pCruce=0.5, pMutacion=0.1, nGeneraciones=nGeneraciones, nReglas=3, nPoblacion=nPoblacion, intra=False, todas=False)\n",
    "    error_p.append(clasificador.validacion(estrategia, dataset, clasificador)[0])\n",
    "\n",
    "  error_ttt_tres_4.append(error_p)\n",
    "\n",
    "end = time.time()\n",
    "\n",
    "print('Tiempo de ejecución: ', end-start)"
   ]
  },
  {
   "cell_type": "code",
   "execution_count": 44,
   "metadata": {
    "colab": {
     "base_uri": "https://localhost:8080/",
     "height": 82
    },
    "id": "QzcOaDAX6PvO",
    "outputId": "80c49abb-586d-4054-b3df-dbb389fb0466"
   },
   "outputs": [
    {
     "data": {
      "text/html": [
       "<style  type=\"text/css\" >\n",
       "#T_3876a324_3fda_11eb_b716_c869cdaf8e24row0_col0,#T_3876a324_3fda_11eb_b716_c869cdaf8e24row1_col0{\n",
       "            background-color:  #2e7ebc;\n",
       "            color:  #000000;\n",
       "        }#T_3876a324_3fda_11eb_b716_c869cdaf8e24row0_col1,#T_3876a324_3fda_11eb_b716_c869cdaf8e24row1_col1{\n",
       "            background-color:  #e0ecf8;\n",
       "            color:  #000000;\n",
       "        }</style><table id=\"T_3876a324_3fda_11eb_b716_c869cdaf8e24\" ><thead>    <tr>        <th class=\"blank level0\" ></th>        <th class=\"col_heading level0 col0\" >nPoblacion = 50</th>        <th class=\"col_heading level0 col1\" >nPoblacion = 150</th>    </tr></thead><tbody>\n",
       "                <tr>\n",
       "                        <th id=\"T_3876a324_3fda_11eb_b716_c869cdaf8e24level0_row0\" class=\"row_heading level0 row0\" >nGeneracion = 100</th>\n",
       "                        <td id=\"T_3876a324_3fda_11eb_b716_c869cdaf8e24row0_col0\" class=\"data row0 col0\" >0.468531</td>\n",
       "                        <td id=\"T_3876a324_3fda_11eb_b716_c869cdaf8e24row0_col1\" class=\"data row0 col1\" >0.416084</td>\n",
       "            </tr>\n",
       "            <tr>\n",
       "                        <th id=\"T_3876a324_3fda_11eb_b716_c869cdaf8e24level0_row1\" class=\"row_heading level0 row1\" >nGeneracion = 200</th>\n",
       "                        <td id=\"T_3876a324_3fda_11eb_b716_c869cdaf8e24row1_col0\" class=\"data row1 col0\" >0.395105</td>\n",
       "                        <td id=\"T_3876a324_3fda_11eb_b716_c869cdaf8e24row1_col1\" class=\"data row1 col1\" >0.360140</td>\n",
       "            </tr>\n",
       "    </tbody></table>"
      ],
      "text/plain": [
       "<pandas.io.formats.style.Styler at 0x1207e6250>"
      ]
     },
     "metadata": {},
     "output_type": "display_data"
    }
   ],
   "source": [
    "resumen_error = pd.DataFrame(error_ttt_tres_4, columns=['nPoblacion = 50', 'nPoblacion = 150'],index=['nGeneracion = 100', 'nGeneracion = 200'])\n",
    "resumen_error = resumen_error.style.background_gradient(cmap='Blues', low=.2, high=0.51, axis=1)\n",
    "display(resumen_error)"
   ]
  },
  {
   "cell_type": "markdown",
   "metadata": {},
   "source": [
    "<p style=\"font-size: medium\"> Para la última ejecución, tenemos cruce interreglas y mutaciñon para una sola regla. Obtenemos también resultados mejores que en las dos primeras ejecuciones, pero similares a la anterior ejecución. Las mejores combinaciones en este caso, serían 100-150 y 200-150. Parece ser que la población de 150 individuos favorece más al resultado que la población de 50. Esto podría deberse a que hay más reglas en el juego y más probabilidad de que aleatoriamente den más aciertos.</p>"
   ]
  },
  {
   "cell_type": "markdown",
   "metadata": {
    "id": "M4QppuQfleqV"
   },
   "source": [
    "<h4> Con 5 reglas </h4>\n",
    "\n",
    "<p style=\"font-size: medium\">Ejecutaremos el algoritmo con un cruce intrareglas y mutación estándar aplicada a todas las reglas. Guardaremos en todo momento los resultados para graficarlos en el siguiente apartado. Además, imprimiremos el tiempo de ejecución de cada una.</p>"
   ]
  },
  {
   "cell_type": "code",
   "execution_count": 45,
   "metadata": {
    "colab": {
     "base_uri": "https://localhost:8080/"
    },
    "id": "5eOEgDjgqNLo",
    "outputId": "40e68ca6-f134-48a6-c156-7a7eaf6b41c2"
   },
   "outputs": [
    {
     "name": "stdout",
     "output_type": "stream",
     "text": [
      "Tiempo de ejecución:  3158.8352451324463\n"
     ]
    }
   ],
   "source": [
    "error_ttt_cinc_1 = []\n",
    "\n",
    "start = time.time()\n",
    "\n",
    "for nGeneraciones in generaciones:\n",
    "  error_p = []\n",
    "  mejoresIndividuos_p = []\n",
    "  fitness_p = []\n",
    "\n",
    "  for nPoblacion in poblaciones:\n",
    "    estrategia = ValidacionSimple(0.7, 1)\n",
    "    clasificador = ClasificadorAlgoritmoGenetico(pCruce=0.5, pMutacion=0.1, nGeneraciones=nGeneraciones, nReglas=5, nPoblacion=nPoblacion, intra=True, todas=True)\n",
    "    error_p.append(clasificador.validacion(estrategia, dataset, clasificador)[0])\n",
    "\n",
    "  error_ttt_cinc_1.append(error_p)\n",
    "\n",
    "end = time.time()\n",
    "\n",
    "print('Tiempo de ejecución: ', end-start)"
   ]
  },
  {
   "cell_type": "code",
   "execution_count": 46,
   "metadata": {
    "colab": {
     "base_uri": "https://localhost:8080/",
     "height": 82
    },
    "id": "91FQG2KhqNLz",
    "outputId": "02d96a32-66cb-4a19-bac3-62850c0a8de1"
   },
   "outputs": [
    {
     "data": {
      "text/html": [
       "<style  type=\"text/css\" >\n",
       "#T_935501ee_3fe1_11eb_b716_c869cdaf8e24row0_col0,#T_935501ee_3fe1_11eb_b716_c869cdaf8e24row1_col0{\n",
       "            background-color:  #2e7ebc;\n",
       "            color:  #000000;\n",
       "        }#T_935501ee_3fe1_11eb_b716_c869cdaf8e24row0_col1,#T_935501ee_3fe1_11eb_b716_c869cdaf8e24row1_col1{\n",
       "            background-color:  #e0ecf8;\n",
       "            color:  #000000;\n",
       "        }</style><table id=\"T_935501ee_3fe1_11eb_b716_c869cdaf8e24\" ><thead>    <tr>        <th class=\"blank level0\" ></th>        <th class=\"col_heading level0 col0\" >nPoblacion = 50</th>        <th class=\"col_heading level0 col1\" >nPoblacion = 150</th>    </tr></thead><tbody>\n",
       "                <tr>\n",
       "                        <th id=\"T_935501ee_3fe1_11eb_b716_c869cdaf8e24level0_row0\" class=\"row_heading level0 row0\" >nGeneracion = 100</th>\n",
       "                        <td id=\"T_935501ee_3fe1_11eb_b716_c869cdaf8e24row0_col0\" class=\"data row0 col0\" >0.520979</td>\n",
       "                        <td id=\"T_935501ee_3fe1_11eb_b716_c869cdaf8e24row0_col1\" class=\"data row0 col1\" >0.444056</td>\n",
       "            </tr>\n",
       "            <tr>\n",
       "                        <th id=\"T_935501ee_3fe1_11eb_b716_c869cdaf8e24level0_row1\" class=\"row_heading level0 row1\" >nGeneracion = 200</th>\n",
       "                        <td id=\"T_935501ee_3fe1_11eb_b716_c869cdaf8e24row1_col0\" class=\"data row1 col0\" >0.461538</td>\n",
       "                        <td id=\"T_935501ee_3fe1_11eb_b716_c869cdaf8e24row1_col1\" class=\"data row1 col1\" >0.363636</td>\n",
       "            </tr>\n",
       "    </tbody></table>"
      ],
      "text/plain": [
       "<pandas.io.formats.style.Styler at 0x1207f9f90>"
      ]
     },
     "metadata": {},
     "output_type": "display_data"
    }
   ],
   "source": [
    "resumen_error = pd.DataFrame(error_ttt_cinc_1, columns=['nPoblacion = 50', 'nPoblacion = 150'],index=['nGeneracion = 100', 'nGeneracion = 200'])\n",
    "resumen_error = resumen_error.style.background_gradient(cmap='Blues', low=.2, high=0.51, axis=1)\n",
    "display(resumen_error)"
   ]
  },
  {
   "cell_type": "markdown",
   "metadata": {},
   "source": [
    "<p style=\"font-size: medium\">Se han obtenido resultados, en media, bastante buenos. Han mejorado bastante según la ejecución similar a esta pero con 3 reglas. Podríamos decir, entonces, que el añadir un mayor número de reglas, en este caso, ha beneficiado a los aciertos. Los resultados más favorables son para 100-150 y 200-150, generaciones y población respectivamente.</p>"
   ]
  },
  {
   "cell_type": "markdown",
   "metadata": {},
   "source": [
    "<p style=\"font-size: medium\">A continuación, ejecutaremos cruce intrareglas y mutación aplicada a una regla aleatoria del conjunto de reglas.</p>"
   ]
  },
  {
   "cell_type": "code",
   "execution_count": 47,
   "metadata": {
    "colab": {
     "base_uri": "https://localhost:8080/"
    },
    "id": "SYmyZFw0qNL0",
    "outputId": "219f7ef9-b386-4a31-eb47-59bf0f8dbc63"
   },
   "outputs": [
    {
     "name": "stdout",
     "output_type": "stream",
     "text": [
      "Tiempo de ejecución:  4690.209053993225\n"
     ]
    }
   ],
   "source": [
    "error_ttt_cinc_2 = []\n",
    "\n",
    "start = time.time()\n",
    "\n",
    "for nGeneraciones in generaciones:\n",
    "  error_p = []\n",
    "\n",
    "  for nPoblacion in poblaciones:\n",
    "    estrategia = ValidacionSimple(0.7, 1)\n",
    "    clasificador = ClasificadorAlgoritmoGenetico(pCruce=0.5, pMutacion=0.1, nGeneraciones=nGeneraciones, nReglas=5, nPoblacion=nPoblacion, intra=True, todas=False)\n",
    "    error_p.append(clasificador.validacion(estrategia, dataset, clasificador)[0])\n",
    "\n",
    "  error_ttt_cinc_2.append(error_p)\n",
    "\n",
    "end = time.time()\n",
    "\n",
    "print('Tiempo de ejecución: ', end-start)"
   ]
  },
  {
   "cell_type": "code",
   "execution_count": 48,
   "metadata": {
    "colab": {
     "base_uri": "https://localhost:8080/",
     "height": 82
    },
    "id": "9wyIBw2bqNL1",
    "outputId": "43cda623-2f04-4521-dfd3-8248371b1a93"
   },
   "outputs": [
    {
     "data": {
      "text/html": [
       "<style  type=\"text/css\" >\n",
       "#T_7ef31b72_3fec_11eb_b716_c869cdaf8e24row0_col0,#T_7ef31b72_3fec_11eb_b716_c869cdaf8e24row1_col0{\n",
       "            background-color:  #e0ecf8;\n",
       "            color:  #000000;\n",
       "        }#T_7ef31b72_3fec_11eb_b716_c869cdaf8e24row0_col1,#T_7ef31b72_3fec_11eb_b716_c869cdaf8e24row1_col1{\n",
       "            background-color:  #2e7ebc;\n",
       "            color:  #000000;\n",
       "        }</style><table id=\"T_7ef31b72_3fec_11eb_b716_c869cdaf8e24\" ><thead>    <tr>        <th class=\"blank level0\" ></th>        <th class=\"col_heading level0 col0\" >nPoblacion = 50</th>        <th class=\"col_heading level0 col1\" >nPoblacion = 150</th>    </tr></thead><tbody>\n",
       "                <tr>\n",
       "                        <th id=\"T_7ef31b72_3fec_11eb_b716_c869cdaf8e24level0_row0\" class=\"row_heading level0 row0\" >nGeneracion = 100</th>\n",
       "                        <td id=\"T_7ef31b72_3fec_11eb_b716_c869cdaf8e24row0_col0\" class=\"data row0 col0\" >0.349650</td>\n",
       "                        <td id=\"T_7ef31b72_3fec_11eb_b716_c869cdaf8e24row0_col1\" class=\"data row0 col1\" >0.444056</td>\n",
       "            </tr>\n",
       "            <tr>\n",
       "                        <th id=\"T_7ef31b72_3fec_11eb_b716_c869cdaf8e24level0_row1\" class=\"row_heading level0 row1\" >nGeneracion = 200</th>\n",
       "                        <td id=\"T_7ef31b72_3fec_11eb_b716_c869cdaf8e24row1_col0\" class=\"data row1 col0\" >0.335664</td>\n",
       "                        <td id=\"T_7ef31b72_3fec_11eb_b716_c869cdaf8e24row1_col1\" class=\"data row1 col1\" >0.381119</td>\n",
       "            </tr>\n",
       "    </tbody></table>"
      ],
      "text/plain": [
       "<pandas.io.formats.style.Styler at 0x1207e6a50>"
      ]
     },
     "metadata": {},
     "output_type": "display_data"
    }
   ],
   "source": [
    "resumen_error = pd.DataFrame(error_ttt_cinc_2, columns=['nPoblacion = 50', 'nPoblacion = 150'],index=['nGeneracion = 100', 'nGeneracion = 200'])\n",
    "resumen_error = resumen_error.style.background_gradient(cmap='Blues', low=.2, high=0.51, axis=1)\n",
    "display(resumen_error)"
   ]
  },
  {
   "cell_type": "markdown",
   "metadata": {},
   "source": [
    "<p style=\"font-size: medium\"> En este caso, obtenemos resultados buenos con diferencia, sobre todas las ejecuciones hechas hasta ahora. La mejor relación errores-aciertos la tienen las generaciones de 100 y 50 individuos, y las generaciones de 200 y 50 individuos. </p>\n",
    "\n",
    "<p style=\"font-size: medium\"> También cabe mencionar que, en cuanto a las situaciones con mejores resultados, es justo al contrario que la ejecución anterior, con la diferencia de que aquí se hace la mutación para una sola regla.</p>\n",
    "\n",
    "<p style=\"font-size: medium\"> Por último, también vemos como hay un aumento importante en el tiempo de ejecución, en comparación con las ejecuciones de máximo 3 reglas por individuo. En las primeras teniamos ejecuciones de media hora y en las segundas tenemos ya ejecuciones de 1,3 horas.</p>"
   ]
  },
  {
   "cell_type": "markdown",
   "metadata": {},
   "source": [
    "<p style=\"font-size: medium\"> Ahora, haremos un cruce interreglas y mutación estándar aplicada a todas las reglas.</p>"
   ]
  },
  {
   "cell_type": "code",
   "execution_count": 49,
   "metadata": {
    "colab": {
     "base_uri": "https://localhost:8080/"
    },
    "id": "-tIWaeMXqNL1",
    "outputId": "3a134aec-6ea2-4232-8662-09f73ac38362"
   },
   "outputs": [
    {
     "name": "stdout",
     "output_type": "stream",
     "text": [
      "Tiempo de ejecución:  3327.678920984268\n"
     ]
    }
   ],
   "source": [
    "error_ttt_cinc_3 = []\n",
    "\n",
    "start = time.time()\n",
    "\n",
    "for nGeneraciones in generaciones:\n",
    "  error_p = []\n",
    "\n",
    "  for nPoblacion in poblaciones:\n",
    "    estrategia = ValidacionSimple(0.7, 1)\n",
    "    clasificador = ClasificadorAlgoritmoGenetico(pCruce=0.5, pMutacion=0.1, nGeneraciones=nGeneraciones, nReglas=5, nPoblacion=nPoblacion, intra=False, todas=True)\n",
    "    error_p.append(clasificador.validacion(estrategia, dataset, clasificador)[0])\n",
    "\n",
    "  error_ttt_cinc_3.append(error_p)\n",
    "\n",
    "end = time.time()\n",
    "\n",
    "print('Tiempo de ejecución: ', end-start)"
   ]
  },
  {
   "cell_type": "code",
   "execution_count": 50,
   "metadata": {
    "colab": {
     "base_uri": "https://localhost:8080/",
     "height": 82
    },
    "id": "3qWEBnDEqNL2",
    "outputId": "96a8b625-65f2-425f-88df-cec7eeea55bd"
   },
   "outputs": [
    {
     "data": {
      "text/html": [
       "<style  type=\"text/css\" >\n",
       "#T_3e6c82b6_3ff4_11eb_b716_c869cdaf8e24row0_col0,#T_3e6c82b6_3ff4_11eb_b716_c869cdaf8e24row1_col0{\n",
       "            background-color:  #2e7ebc;\n",
       "            color:  #000000;\n",
       "        }#T_3e6c82b6_3ff4_11eb_b716_c869cdaf8e24row0_col1,#T_3e6c82b6_3ff4_11eb_b716_c869cdaf8e24row1_col1{\n",
       "            background-color:  #e0ecf8;\n",
       "            color:  #000000;\n",
       "        }</style><table id=\"T_3e6c82b6_3ff4_11eb_b716_c869cdaf8e24\" ><thead>    <tr>        <th class=\"blank level0\" ></th>        <th class=\"col_heading level0 col0\" >nPoblacion = 50</th>        <th class=\"col_heading level0 col1\" >nPoblacion = 150</th>    </tr></thead><tbody>\n",
       "                <tr>\n",
       "                        <th id=\"T_3e6c82b6_3ff4_11eb_b716_c869cdaf8e24level0_row0\" class=\"row_heading level0 row0\" >nGeneracion = 100</th>\n",
       "                        <td id=\"T_3e6c82b6_3ff4_11eb_b716_c869cdaf8e24row0_col0\" class=\"data row0 col0\" >0.524476</td>\n",
       "                        <td id=\"T_3e6c82b6_3ff4_11eb_b716_c869cdaf8e24row0_col1\" class=\"data row0 col1\" >0.500000</td>\n",
       "            </tr>\n",
       "            <tr>\n",
       "                        <th id=\"T_3e6c82b6_3ff4_11eb_b716_c869cdaf8e24level0_row1\" class=\"row_heading level0 row1\" >nGeneracion = 200</th>\n",
       "                        <td id=\"T_3e6c82b6_3ff4_11eb_b716_c869cdaf8e24row1_col0\" class=\"data row1 col0\" >0.479021</td>\n",
       "                        <td id=\"T_3e6c82b6_3ff4_11eb_b716_c869cdaf8e24row1_col1\" class=\"data row1 col1\" >0.440559</td>\n",
       "            </tr>\n",
       "    </tbody></table>"
      ],
      "text/plain": [
       "<pandas.io.formats.style.Styler at 0x1207f9850>"
      ]
     },
     "metadata": {},
     "output_type": "display_data"
    }
   ],
   "source": [
    "resumen_error = pd.DataFrame(error_ttt_cinc_3, columns=['nPoblacion = 50', 'nPoblacion = 150'],index=['nGeneracion = 100', 'nGeneracion = 200'])\n",
    "resumen_error = resumen_error.style.background_gradient(cmap='Blues', low=.2, high=0.51, axis=1)\n",
    "display(resumen_error)"
   ]
  },
  {
   "cell_type": "markdown",
   "metadata": {},
   "source": [
    "<p style=\"font-size: medium\"> En este caso, volvemos a empeorar los resultados, pero las mejores situaciones son iguales que en la primera ejecución de cinco reglas. Sin embargo, no hay mucha diferencia entre ellas y el resto.</p>\n",
    "\n",
    "<p style=\"font-size: medium\">Por último, ejecutaremos un cruce interreglas y una mutación aplicada a un regla aleatoria por progenitor.</p>"
   ]
  },
  {
   "cell_type": "code",
   "execution_count": 51,
   "metadata": {
    "colab": {
     "base_uri": "https://localhost:8080/"
    },
    "id": "j4c_0LtfqNL3",
    "outputId": "0e9c89dc-608c-4878-f260-24f835a0470b"
   },
   "outputs": [
    {
     "name": "stdout",
     "output_type": "stream",
     "text": [
      "Tiempo de ejecución:  3128.7181508541107\n"
     ]
    }
   ],
   "source": [
    "error_ttt_cinc_4 = []\n",
    "\n",
    "start = time.time()\n",
    "\n",
    "for nGeneraciones in generaciones:\n",
    "  error_p = []\n",
    "\n",
    "  for nPoblacion in poblaciones:\n",
    "    estrategia = ValidacionSimple(0.7, 1)\n",
    "    clasificador = ClasificadorAlgoritmoGenetico(pCruce=0.5, pMutacion=0.1, nGeneraciones=nGeneraciones, nReglas=5, nPoblacion=nPoblacion, intra=False, todas=False)\n",
    "    error_p.append(clasificador.validacion(estrategia, dataset, clasificador)[0])\n",
    "\n",
    "  error_ttt_cinc_4.append(error_p)\n",
    "\n",
    "end = time.time()\n",
    "\n",
    "print('Tiempo de ejecución: ', end-start)"
   ]
  },
  {
   "cell_type": "code",
   "execution_count": 52,
   "metadata": {
    "colab": {
     "base_uri": "https://localhost:8080/",
     "height": 82
    },
    "id": "pjZOK7G6q5g5",
    "outputId": "546f8bd7-fe8c-4919-c325-9352ff95f48a"
   },
   "outputs": [
    {
     "data": {
      "text/html": [
       "<style  type=\"text/css\" >\n",
       "#T_87504600_3ffb_11eb_b716_c869cdaf8e24row0_col0,#T_87504600_3ffb_11eb_b716_c869cdaf8e24row1_col1{\n",
       "            background-color:  #2e7ebc;\n",
       "            color:  #000000;\n",
       "        }#T_87504600_3ffb_11eb_b716_c869cdaf8e24row0_col1,#T_87504600_3ffb_11eb_b716_c869cdaf8e24row1_col0{\n",
       "            background-color:  #e0ecf8;\n",
       "            color:  #000000;\n",
       "        }</style><table id=\"T_87504600_3ffb_11eb_b716_c869cdaf8e24\" ><thead>    <tr>        <th class=\"blank level0\" ></th>        <th class=\"col_heading level0 col0\" >nPoblacion = 50</th>        <th class=\"col_heading level0 col1\" >nPoblacion = 150</th>    </tr></thead><tbody>\n",
       "                <tr>\n",
       "                        <th id=\"T_87504600_3ffb_11eb_b716_c869cdaf8e24level0_row0\" class=\"row_heading level0 row0\" >nGeneracion = 100</th>\n",
       "                        <td id=\"T_87504600_3ffb_11eb_b716_c869cdaf8e24row0_col0\" class=\"data row0 col0\" >0.409091</td>\n",
       "                        <td id=\"T_87504600_3ffb_11eb_b716_c869cdaf8e24row0_col1\" class=\"data row0 col1\" >0.363636</td>\n",
       "            </tr>\n",
       "            <tr>\n",
       "                        <th id=\"T_87504600_3ffb_11eb_b716_c869cdaf8e24level0_row1\" class=\"row_heading level0 row1\" >nGeneracion = 200</th>\n",
       "                        <td id=\"T_87504600_3ffb_11eb_b716_c869cdaf8e24row1_col0\" class=\"data row1 col0\" >0.353147</td>\n",
       "                        <td id=\"T_87504600_3ffb_11eb_b716_c869cdaf8e24row1_col1\" class=\"data row1 col1\" >0.486014</td>\n",
       "            </tr>\n",
       "    </tbody></table>"
      ],
      "text/plain": [
       "<pandas.io.formats.style.Styler at 0x1204b4890>"
      ]
     },
     "metadata": {},
     "output_type": "display_data"
    }
   ],
   "source": [
    "resumen_error = pd.DataFrame(error_ttt_cinc_4, columns=['nPoblacion = 50', 'nPoblacion = 150'],index=['nGeneracion = 100', 'nGeneracion = 200'])\n",
    "resumen_error = resumen_error.style.background_gradient(cmap='Blues', low=.2, high=0.51, axis=1)\n",
    "display(resumen_error)"
   ]
  },
  {
   "cell_type": "markdown",
   "metadata": {},
   "source": [
    "<p style=\"font-size: medium\"> Para esta última ejecución de Tic-Tac-Toe, obtenemos incluso mejores resultados. Una vez más los menores errores las tienen 100-150 y 200-50.</p>\n",
    "\n",
    "<p style=\"font-size: medium\"> Con este dataset, hemos podido observar que, en general, los resultados no son demasiado malos pero tampoco son especialmente buenos. El clasificador de acuerdo a sus cruces y mutaciones, logra acertar la mitad de las veces en cada ejecución.</p>"
   ]
  },
  {
   "cell_type": "markdown",
   "metadata": {
    "id": "hMqiU_FslnO3"
   },
   "source": [
    "<h3> Titanic </h3>\n",
    "\n",
    "<h4> Con 3 reglas </h4>\n",
    "\n",
    "<p style=\"font-size: medium\">Al igual que con Tic Tac Toe, iremos ejecutando con los mismos parámetros y combinaciones pero para el dataset de Titanic. Empezaremos con un cruce intrareglas y mutación estándar para todas las reglas.</p>"
   ]
  },
  {
   "cell_type": "code",
   "execution_count": 53,
   "metadata": {
    "colab": {
     "base_uri": "https://localhost:8080/"
    },
    "id": "sZElQgRIl7oq",
    "outputId": "f3c980c7-a8c3-4848-b501-d2a46c72c2c6"
   },
   "outputs": [
    {
     "name": "stdout",
     "output_type": "stream",
     "text": [
      "Tiempo de ejecución:  3554.7343599796295\n"
     ]
    }
   ],
   "source": [
    "error_t_tres_1 = []\n",
    "\n",
    "start = time.time()\n",
    "\n",
    "for nGeneraciones in generaciones:\n",
    "  error_p = []\n",
    "\n",
    "  for nPoblacion in poblaciones:\n",
    "    estrategia = ValidacionSimple(0.7, 1)\n",
    "    clasificador = ClasificadorAlgoritmoGenetico(pCruce=0.5, pMutacion=0.1, nGeneraciones=nGeneraciones, nReglas=3, nPoblacion=nPoblacion, intra=True, todas=True)\n",
    "    error_p.append(clasificador.validacion(estrategia, dataset2, clasificador)[0])\n",
    "\n",
    "  error_t_tres_1.append(error_p)\n",
    "\n",
    "end = time.time()\n",
    "\n",
    "print('Tiempo de ejecución: ', end-start)"
   ]
  },
  {
   "cell_type": "code",
   "execution_count": 54,
   "metadata": {
    "colab": {
     "base_uri": "https://localhost:8080/",
     "height": 82
    },
    "id": "zkkyGkGsra9x",
    "outputId": "25e96ee1-283d-4755-f5c9-f979df788a56"
   },
   "outputs": [
    {
     "data": {
      "text/html": [
       "<style  type=\"text/css\" >\n",
       "#T_ce20f3f6_4003_11eb_b716_c869cdaf8e24row0_col0,#T_ce20f3f6_4003_11eb_b716_c869cdaf8e24row1_col1{\n",
       "            background-color:  #2e7ebc;\n",
       "            color:  #000000;\n",
       "        }#T_ce20f3f6_4003_11eb_b716_c869cdaf8e24row0_col1,#T_ce20f3f6_4003_11eb_b716_c869cdaf8e24row1_col0{\n",
       "            background-color:  #e0ecf8;\n",
       "            color:  #000000;\n",
       "        }</style><table id=\"T_ce20f3f6_4003_11eb_b716_c869cdaf8e24\" ><thead>    <tr>        <th class=\"blank level0\" ></th>        <th class=\"col_heading level0 col0\" >nPoblacion = 50</th>        <th class=\"col_heading level0 col1\" >nPoblacion = 150</th>    </tr></thead><tbody>\n",
       "                <tr>\n",
       "                        <th id=\"T_ce20f3f6_4003_11eb_b716_c869cdaf8e24level0_row0\" class=\"row_heading level0 row0\" >nGeneracion = 100</th>\n",
       "                        <td id=\"T_ce20f3f6_4003_11eb_b716_c869cdaf8e24row0_col0\" class=\"data row0 col0\" >0.424920</td>\n",
       "                        <td id=\"T_ce20f3f6_4003_11eb_b716_c869cdaf8e24row0_col1\" class=\"data row0 col1\" >0.306709</td>\n",
       "            </tr>\n",
       "            <tr>\n",
       "                        <th id=\"T_ce20f3f6_4003_11eb_b716_c869cdaf8e24level0_row1\" class=\"row_heading level0 row1\" >nGeneracion = 200</th>\n",
       "                        <td id=\"T_ce20f3f6_4003_11eb_b716_c869cdaf8e24row1_col0\" class=\"data row1 col0\" >0.230032</td>\n",
       "                        <td id=\"T_ce20f3f6_4003_11eb_b716_c869cdaf8e24row1_col1\" class=\"data row1 col1\" >0.418530</td>\n",
       "            </tr>\n",
       "    </tbody></table>"
      ],
      "text/plain": [
       "<pandas.io.formats.style.Styler at 0x120425b50>"
      ]
     },
     "metadata": {},
     "output_type": "display_data"
    }
   ],
   "source": [
    "resumen_error = pd.DataFrame(error_t_tres_1, columns=['nPoblacion = 50', 'nPoblacion = 150'],index=['nGeneracion = 100', 'nGeneracion = 200'])\n",
    "resumen_error = resumen_error.style.background_gradient(cmap='Blues', low=.2, high=0.51, axis=1)\n",
    "display(resumen_error)"
   ]
  },
  {
   "cell_type": "markdown",
   "metadata": {
    "id": "k8Zs60bj6KVN"
   },
   "source": [
    "<p style=\"font-size: medium\">A continuación, ejecutaremos cruce intrareglas y mutación aplicada a una regla aleatoria del conjunto de reglas.</p>"
   ]
  },
  {
   "cell_type": "code",
   "execution_count": 55,
   "metadata": {
    "colab": {
     "base_uri": "https://localhost:8080/"
    },
    "id": "WGONri3q6KVN",
    "outputId": "124a98f4-22e8-48f1-fa97-db2b2345ed3d"
   },
   "outputs": [
    {
     "name": "stdout",
     "output_type": "stream",
     "text": [
      "Tiempo de ejecución:  3979.931902885437\n"
     ]
    }
   ],
   "source": [
    "error_t_tres_2 = []\n",
    "\n",
    "start = time.time()\n",
    "\n",
    "for nGeneraciones in generaciones:\n",
    "  error_p = []\n",
    "\n",
    "  for nPoblacion in poblaciones:\n",
    "    estrategia = ValidacionSimple(0.7, 1)\n",
    "    clasificador = ClasificadorAlgoritmoGenetico(pCruce=0.5, pMutacion=0.1, nGeneraciones=nGeneraciones, nReglas=3, nPoblacion=nPoblacion, intra=True, todas=False)\n",
    "    error_p.append(clasificador.validacion(estrategia, dataset2, clasificador)[0])\n",
    "\n",
    "  error_t_tres_2.append(error_p)\n",
    "\n",
    "end = time.time()\n",
    "\n",
    "print('Tiempo de ejecución: ', end-start)"
   ]
  },
  {
   "cell_type": "code",
   "execution_count": 56,
   "metadata": {
    "colab": {
     "base_uri": "https://localhost:8080/",
     "height": 82
    },
    "id": "3DXhq7Hc6KVO",
    "outputId": "fc83191c-3d85-4ec5-c96f-979e2f8a9817"
   },
   "outputs": [
    {
     "data": {
      "text/html": [
       "<style  type=\"text/css\" >\n",
       "#T_1260ceca_400d_11eb_b716_c869cdaf8e24row0_col0,#T_1260ceca_400d_11eb_b716_c869cdaf8e24row1_col0{\n",
       "            background-color:  #2e7ebc;\n",
       "            color:  #000000;\n",
       "        }#T_1260ceca_400d_11eb_b716_c869cdaf8e24row0_col1,#T_1260ceca_400d_11eb_b716_c869cdaf8e24row1_col1{\n",
       "            background-color:  #e0ecf8;\n",
       "            color:  #000000;\n",
       "        }</style><table id=\"T_1260ceca_400d_11eb_b716_c869cdaf8e24\" ><thead>    <tr>        <th class=\"blank level0\" ></th>        <th class=\"col_heading level0 col0\" >nPoblacion = 50</th>        <th class=\"col_heading level0 col1\" >nPoblacion = 150</th>    </tr></thead><tbody>\n",
       "                <tr>\n",
       "                        <th id=\"T_1260ceca_400d_11eb_b716_c869cdaf8e24level0_row0\" class=\"row_heading level0 row0\" >nGeneracion = 100</th>\n",
       "                        <td id=\"T_1260ceca_400d_11eb_b716_c869cdaf8e24row0_col0\" class=\"data row0 col0\" >0.293930</td>\n",
       "                        <td id=\"T_1260ceca_400d_11eb_b716_c869cdaf8e24row0_col1\" class=\"data row0 col1\" >0.287540</td>\n",
       "            </tr>\n",
       "            <tr>\n",
       "                        <th id=\"T_1260ceca_400d_11eb_b716_c869cdaf8e24level0_row1\" class=\"row_heading level0 row1\" >nGeneracion = 200</th>\n",
       "                        <td id=\"T_1260ceca_400d_11eb_b716_c869cdaf8e24row1_col0\" class=\"data row1 col0\" >0.303514</td>\n",
       "                        <td id=\"T_1260ceca_400d_11eb_b716_c869cdaf8e24row1_col1\" class=\"data row1 col1\" >0.255591</td>\n",
       "            </tr>\n",
       "    </tbody></table>"
      ],
      "text/plain": [
       "<pandas.io.formats.style.Styler at 0x1207e6e50>"
      ]
     },
     "metadata": {},
     "output_type": "display_data"
    }
   ],
   "source": [
    "resumen_error = pd.DataFrame(error_t_tres_2, columns=['nPoblacion = 50', 'nPoblacion = 150'],index=['nGeneracion = 100', 'nGeneracion = 200'])\n",
    "resumen_error = resumen_error.style.background_gradient(cmap='Blues', low=.2, high=0.51, axis=1)\n",
    "display(resumen_error)"
   ]
  },
  {
   "cell_type": "markdown",
   "metadata": {
    "id": "CTJCUhPd6KVO"
   },
   "source": [
    "<p style=\"font-size: medium\">Ahora, haremos un cruce interreglas y mutación estándar aplicada a todas las reglas.</p>"
   ]
  },
  {
   "cell_type": "code",
   "execution_count": 57,
   "metadata": {
    "colab": {
     "base_uri": "https://localhost:8080/",
     "height": 374
    },
    "id": "F03PVP456KVO",
    "outputId": "6a79abcc-fe86-4f71-f0ca-7e0c9970cf49"
   },
   "outputs": [
    {
     "name": "stdout",
     "output_type": "stream",
     "text": [
      "Tiempo de ejecución:  3381.1403489112854\n"
     ]
    }
   ],
   "source": [
    "error_t_tres_3 = []\n",
    "\n",
    "start = time.time()\n",
    "\n",
    "for nGeneraciones in generaciones:\n",
    "  error_p = []\n",
    "\n",
    "  for nPoblacion in poblaciones:\n",
    "    estrategia = ValidacionSimple(0.7, 1)\n",
    "    clasificador = ClasificadorAlgoritmoGenetico(pCruce=0.5, pMutacion=0.1, nGeneraciones=nGeneraciones, nReglas=3, nPoblacion=nPoblacion, intra=False, todas=True)\n",
    "    error_p.append(clasificador.validacion(estrategia, dataset2, clasificador)[0])\n",
    "\n",
    "  error_t_tres_3.append(error_p)\n",
    "\n",
    "end = time.time()\n",
    "\n",
    "print('Tiempo de ejecución: ', end-start)"
   ]
  },
  {
   "cell_type": "code",
   "execution_count": 58,
   "metadata": {
    "id": "zQd_GyrU6KVP"
   },
   "outputs": [
    {
     "data": {
      "text/html": [
       "<style  type=\"text/css\" >\n",
       "#T_f1b99104_4014_11eb_b716_c869cdaf8e24row0_col0,#T_f1b99104_4014_11eb_b716_c869cdaf8e24row1_col0{\n",
       "            background-color:  #2e7ebc;\n",
       "            color:  #000000;\n",
       "        }#T_f1b99104_4014_11eb_b716_c869cdaf8e24row0_col1,#T_f1b99104_4014_11eb_b716_c869cdaf8e24row1_col1{\n",
       "            background-color:  #e0ecf8;\n",
       "            color:  #000000;\n",
       "        }</style><table id=\"T_f1b99104_4014_11eb_b716_c869cdaf8e24\" ><thead>    <tr>        <th class=\"blank level0\" ></th>        <th class=\"col_heading level0 col0\" >nPoblacion = 50</th>        <th class=\"col_heading level0 col1\" >nPoblacion = 150</th>    </tr></thead><tbody>\n",
       "                <tr>\n",
       "                        <th id=\"T_f1b99104_4014_11eb_b716_c869cdaf8e24level0_row0\" class=\"row_heading level0 row0\" >nGeneracion = 100</th>\n",
       "                        <td id=\"T_f1b99104_4014_11eb_b716_c869cdaf8e24row0_col0\" class=\"data row0 col0\" >0.303514</td>\n",
       "                        <td id=\"T_f1b99104_4014_11eb_b716_c869cdaf8e24row0_col1\" class=\"data row0 col1\" >0.207668</td>\n",
       "            </tr>\n",
       "            <tr>\n",
       "                        <th id=\"T_f1b99104_4014_11eb_b716_c869cdaf8e24level0_row1\" class=\"row_heading level0 row1\" >nGeneracion = 200</th>\n",
       "                        <td id=\"T_f1b99104_4014_11eb_b716_c869cdaf8e24row1_col0\" class=\"data row1 col0\" >0.376997</td>\n",
       "                        <td id=\"T_f1b99104_4014_11eb_b716_c869cdaf8e24row1_col1\" class=\"data row1 col1\" >0.258786</td>\n",
       "            </tr>\n",
       "    </tbody></table>"
      ],
      "text/plain": [
       "<pandas.io.formats.style.Styler at 0x120425650>"
      ]
     },
     "metadata": {},
     "output_type": "display_data"
    }
   ],
   "source": [
    "resumen_error = pd.DataFrame(error_t_tres_3, columns=['nPoblacion = 50', 'nPoblacion = 150'],index=['nGeneracion = 100', 'nGeneracion = 200'])\n",
    "resumen_error = resumen_error.style.background_gradient(cmap='Blues', low=.2, high=0.51, axis=1)\n",
    "display(resumen_error)"
   ]
  },
  {
   "cell_type": "markdown",
   "metadata": {
    "id": "_LA7rY-t6KVP"
   },
   "source": [
    "<p style=\"font-size: medium\">Por último, ejecutaremos un cruce interreglas y una mutación aplicada a un regla aleatoria por progenitor.</p>"
   ]
  },
  {
   "cell_type": "code",
   "execution_count": 59,
   "metadata": {
    "id": "7M-nDuTb6KVP"
   },
   "outputs": [
    {
     "name": "stdout",
     "output_type": "stream",
     "text": [
      "Tiempo de ejecución:  4167.834886789322\n"
     ]
    }
   ],
   "source": [
    "error_t_tres_4 = []\n",
    "\n",
    "start = time.time()\n",
    "\n",
    "for nGeneraciones in generaciones:\n",
    "  error_p = []\n",
    "\n",
    "  for nPoblacion in poblaciones:\n",
    "    estrategia = ValidacionSimple(0.7, 1)\n",
    "    clasificador = ClasificadorAlgoritmoGenetico(pCruce=0.5, pMutacion=0.1, nGeneraciones=nGeneraciones, nReglas=3, nPoblacion=nPoblacion, intra=False, todas=False)\n",
    "    error_p.append(clasificador.validacion(estrategia, dataset2, clasificador)[0])\n",
    "\n",
    "  error_t_tres_4.append(error_p)\n",
    "\n",
    "end = time.time()\n",
    "\n",
    "print('Tiempo de ejecución: ', end-start)"
   ]
  },
  {
   "cell_type": "code",
   "execution_count": 60,
   "metadata": {
    "id": "XNljOsWj8agU"
   },
   "outputs": [
    {
     "data": {
      "text/html": [
       "<style  type=\"text/css\" >\n",
       "#T_a5fa16bc_401e_11eb_b716_c869cdaf8e24row0_col0,#T_a5fa16bc_401e_11eb_b716_c869cdaf8e24row1_col0{\n",
       "            background-color:  #e0ecf8;\n",
       "            color:  #000000;\n",
       "        }#T_a5fa16bc_401e_11eb_b716_c869cdaf8e24row0_col1,#T_a5fa16bc_401e_11eb_b716_c869cdaf8e24row1_col1{\n",
       "            background-color:  #2e7ebc;\n",
       "            color:  #000000;\n",
       "        }</style><table id=\"T_a5fa16bc_401e_11eb_b716_c869cdaf8e24\" ><thead>    <tr>        <th class=\"blank level0\" ></th>        <th class=\"col_heading level0 col0\" >nPoblacion = 50</th>        <th class=\"col_heading level0 col1\" >nPoblacion = 150</th>    </tr></thead><tbody>\n",
       "                <tr>\n",
       "                        <th id=\"T_a5fa16bc_401e_11eb_b716_c869cdaf8e24level0_row0\" class=\"row_heading level0 row0\" >nGeneracion = 100</th>\n",
       "                        <td id=\"T_a5fa16bc_401e_11eb_b716_c869cdaf8e24row0_col0\" class=\"data row0 col0\" >0.217252</td>\n",
       "                        <td id=\"T_a5fa16bc_401e_11eb_b716_c869cdaf8e24row0_col1\" class=\"data row0 col1\" >0.252396</td>\n",
       "            </tr>\n",
       "            <tr>\n",
       "                        <th id=\"T_a5fa16bc_401e_11eb_b716_c869cdaf8e24level0_row1\" class=\"row_heading level0 row1\" >nGeneracion = 200</th>\n",
       "                        <td id=\"T_a5fa16bc_401e_11eb_b716_c869cdaf8e24row1_col0\" class=\"data row1 col0\" >0.207668</td>\n",
       "                        <td id=\"T_a5fa16bc_401e_11eb_b716_c869cdaf8e24row1_col1\" class=\"data row1 col1\" >0.226837</td>\n",
       "            </tr>\n",
       "    </tbody></table>"
      ],
      "text/plain": [
       "<pandas.io.formats.style.Styler at 0x120280890>"
      ]
     },
     "metadata": {},
     "output_type": "display_data"
    }
   ],
   "source": [
    "resumen_error = pd.DataFrame(error_t_tres_4, columns=['nPoblacion = 50', 'nPoblacion = 150'],index=['nGeneracion = 100', 'nGeneracion = 200'])\n",
    "resumen_error = resumen_error.style.background_gradient(cmap='Blues', low=.2, high=0.51, axis=1)\n",
    "display(resumen_error)"
   ]
  },
  {
   "cell_type": "markdown",
   "metadata": {},
   "source": [
    "<p style=\"font-size: medium\"> Con estas ejecuciones con tres reglas, podemos observar inmediatamente que los resultados son mucho mejores que en las ejecuciones de Tic-Tac-Toe. Logramos llegar a un error de 0.20, aproximadamente, que es bastante bajo, es decir, nuestro modelo para las reglas generados y sus distintos cruces y mutaciones, ha logrado acertar más de la mayoría. No podemos olvidar, que todo esto puede ser fruto del azar de estas ejecuciones en particulat, ya que el algoritmo es extremadamente aleatorio.</p>"
   ]
  },
  {
   "cell_type": "markdown",
   "metadata": {
    "id": "RKg1QvsXlvnp"
   },
   "source": [
    "<h4> Con 5 reglas </h4>\n",
    "\n",
    "<p style=\"font-size: medium\">Ejecutaremos el algoritmo con un cruce intrareglas y mutación estándar aplicada a todas las reglas. Guardaremos en todo momento los resultados para graficarlos en el siguiente apartado. Además, imprimiremos el tiempo de ejecución de cada una.</p>"
   ]
  },
  {
   "cell_type": "code",
   "execution_count": 61,
   "metadata": {
    "id": "JfWqOoC39BRV"
   },
   "outputs": [
    {
     "name": "stdout",
     "output_type": "stream",
     "text": [
      "Tiempo de ejecución:  5019.519294023514\n"
     ]
    }
   ],
   "source": [
    "error_t_cinc_1 = []\n",
    "\n",
    "start = time.time()\n",
    "\n",
    "for nGeneraciones in generaciones:\n",
    "  error_p = []\n",
    "\n",
    "  for nPoblacion in poblaciones:\n",
    "    estrategia = ValidacionSimple(0.7, 1)\n",
    "    clasificador = ClasificadorAlgoritmoGenetico(pCruce=0.5, pMutacion=0.1, nGeneraciones=nGeneraciones, nReglas=5, nPoblacion=nPoblacion, intra=True, todas=True)\n",
    "    error_p.append(clasificador.validacion(estrategia, dataset2, clasificador)[0])\n",
    "\n",
    "  error_t_cinc_1.append(error_p)\n",
    "\n",
    "end = time.time()\n",
    "\n",
    "print('Tiempo de ejecución: ', end-start)"
   ]
  },
  {
   "cell_type": "code",
   "execution_count": 62,
   "metadata": {
    "id": "KMI-h2TK9BRg"
   },
   "outputs": [
    {
     "data": {
      "text/html": [
       "<style  type=\"text/css\" >\n",
       "#T_55dea664_402a_11eb_b716_c869cdaf8e24row0_col0,#T_55dea664_402a_11eb_b716_c869cdaf8e24row1_col1{\n",
       "            background-color:  #e0ecf8;\n",
       "            color:  #000000;\n",
       "        }#T_55dea664_402a_11eb_b716_c869cdaf8e24row0_col1,#T_55dea664_402a_11eb_b716_c869cdaf8e24row1_col0{\n",
       "            background-color:  #2e7ebc;\n",
       "            color:  #000000;\n",
       "        }</style><table id=\"T_55dea664_402a_11eb_b716_c869cdaf8e24\" ><thead>    <tr>        <th class=\"blank level0\" ></th>        <th class=\"col_heading level0 col0\" >nPoblacion = 50</th>        <th class=\"col_heading level0 col1\" >nPoblacion = 150</th>    </tr></thead><tbody>\n",
       "                <tr>\n",
       "                        <th id=\"T_55dea664_402a_11eb_b716_c869cdaf8e24level0_row0\" class=\"row_heading level0 row0\" >nGeneracion = 100</th>\n",
       "                        <td id=\"T_55dea664_402a_11eb_b716_c869cdaf8e24row0_col0\" class=\"data row0 col0\" >0.217252</td>\n",
       "                        <td id=\"T_55dea664_402a_11eb_b716_c869cdaf8e24row0_col1\" class=\"data row0 col1\" >0.297125</td>\n",
       "            </tr>\n",
       "            <tr>\n",
       "                        <th id=\"T_55dea664_402a_11eb_b716_c869cdaf8e24level0_row1\" class=\"row_heading level0 row1\" >nGeneracion = 200</th>\n",
       "                        <td id=\"T_55dea664_402a_11eb_b716_c869cdaf8e24row1_col0\" class=\"data row1 col0\" >0.252396</td>\n",
       "                        <td id=\"T_55dea664_402a_11eb_b716_c869cdaf8e24row1_col1\" class=\"data row1 col1\" >0.198083</td>\n",
       "            </tr>\n",
       "    </tbody></table>"
      ],
      "text/plain": [
       "<pandas.io.formats.style.Styler at 0x1207ae910>"
      ]
     },
     "metadata": {},
     "output_type": "display_data"
    }
   ],
   "source": [
    "resumen_error = pd.DataFrame(error_t_cinc_1, columns=['nPoblacion = 50', 'nPoblacion = 150'],index=['nGeneracion = 100', 'nGeneracion = 200'])\n",
    "resumen_error = resumen_error.style.background_gradient(cmap='Blues', low=.2, high=0.51, axis=1)\n",
    "display(resumen_error)"
   ]
  },
  {
   "cell_type": "markdown",
   "metadata": {},
   "source": [
    "<p style=\"font-size: medium\">A continuación, ejecutaremos cruce intrareglas y mutación aplicada a una regla aleatoria del conjunto de reglas.</p>"
   ]
  },
  {
   "cell_type": "code",
   "execution_count": 63,
   "metadata": {
    "id": "Sooxga-Y9BRh"
   },
   "outputs": [
    {
     "name": "stdout",
     "output_type": "stream",
     "text": [
      "Tiempo de ejecución:  6369.118855953217\n"
     ]
    }
   ],
   "source": [
    "error_t_cinc_2 = []\n",
    "\n",
    "start = time.time()\n",
    "\n",
    "for nGeneraciones in generaciones:\n",
    "  error_p = []\n",
    "\n",
    "  for nPoblacion in poblaciones:\n",
    "    estrategia = ValidacionSimple(0.7, 1)\n",
    "    clasificador = ClasificadorAlgoritmoGenetico(pCruce=0.5, pMutacion=0.1, nGeneraciones=nGeneraciones, nReglas=5, nPoblacion=nPoblacion, intra=True, todas=False)\n",
    "    error_p.append(clasificador.validacion(estrategia, dataset2, clasificador)[0])\n",
    "\n",
    "  error_t_cinc_2.append(error_p)\n",
    "\n",
    "end = time.time()\n",
    "\n",
    "print('Tiempo de ejecución: ', end-start)"
   ]
  },
  {
   "cell_type": "code",
   "execution_count": 64,
   "metadata": {
    "id": "khTmfjqN9BRi"
   },
   "outputs": [
    {
     "data": {
      "text/html": [
       "<style  type=\"text/css\" >\n",
       "#T_2a2fce1c_4039_11eb_b716_c869cdaf8e24row0_col0,#T_2a2fce1c_4039_11eb_b716_c869cdaf8e24row1_col1{\n",
       "            background-color:  #e0ecf8;\n",
       "            color:  #000000;\n",
       "        }#T_2a2fce1c_4039_11eb_b716_c869cdaf8e24row0_col1,#T_2a2fce1c_4039_11eb_b716_c869cdaf8e24row1_col0{\n",
       "            background-color:  #2e7ebc;\n",
       "            color:  #000000;\n",
       "        }</style><table id=\"T_2a2fce1c_4039_11eb_b716_c869cdaf8e24\" ><thead>    <tr>        <th class=\"blank level0\" ></th>        <th class=\"col_heading level0 col0\" >nPoblacion = 50</th>        <th class=\"col_heading level0 col1\" >nPoblacion = 150</th>    </tr></thead><tbody>\n",
       "                <tr>\n",
       "                        <th id=\"T_2a2fce1c_4039_11eb_b716_c869cdaf8e24level0_row0\" class=\"row_heading level0 row0\" >nGeneracion = 100</th>\n",
       "                        <td id=\"T_2a2fce1c_4039_11eb_b716_c869cdaf8e24row0_col0\" class=\"data row0 col0\" >0.236422</td>\n",
       "                        <td id=\"T_2a2fce1c_4039_11eb_b716_c869cdaf8e24row0_col1\" class=\"data row0 col1\" >0.239617</td>\n",
       "            </tr>\n",
       "            <tr>\n",
       "                        <th id=\"T_2a2fce1c_4039_11eb_b716_c869cdaf8e24level0_row1\" class=\"row_heading level0 row1\" >nGeneracion = 200</th>\n",
       "                        <td id=\"T_2a2fce1c_4039_11eb_b716_c869cdaf8e24row1_col0\" class=\"data row1 col0\" >0.214058</td>\n",
       "                        <td id=\"T_2a2fce1c_4039_11eb_b716_c869cdaf8e24row1_col1\" class=\"data row1 col1\" >0.185304</td>\n",
       "            </tr>\n",
       "    </tbody></table>"
      ],
      "text/plain": [
       "<pandas.io.formats.style.Styler at 0x120280f50>"
      ]
     },
     "metadata": {},
     "output_type": "display_data"
    }
   ],
   "source": [
    "resumen_error = pd.DataFrame(error_t_cinc_2, columns=['nPoblacion = 50', 'nPoblacion = 150'],index=['nGeneracion = 100', 'nGeneracion = 200'])\n",
    "resumen_error = resumen_error.style.background_gradient(cmap='Blues', low=.2, high=0.51, axis=1)\n",
    "display(resumen_error)"
   ]
  },
  {
   "cell_type": "markdown",
   "metadata": {},
   "source": [
    "<p style=\"font-size: medium\">Ahora, haremos un cruce interreglas y mutación estándar aplicada a todas las reglas.</p>"
   ]
  },
  {
   "cell_type": "code",
   "execution_count": 65,
   "metadata": {
    "id": "nx7H96dC9BRi"
   },
   "outputs": [
    {
     "name": "stdout",
     "output_type": "stream",
     "text": [
      "Tiempo de ejecución:  5177.451546907425\n"
     ]
    }
   ],
   "source": [
    "error_t_cinc_3 = []\n",
    "\n",
    "start = time.time()\n",
    "\n",
    "for nGeneraciones in generaciones:\n",
    "  error_p = []\n",
    "\n",
    "  for nPoblacion in poblaciones:\n",
    "    estrategia = ValidacionSimple(0.7, 1)\n",
    "    clasificador = ClasificadorAlgoritmoGenetico(pCruce=0.5, pMutacion=0.1, nGeneraciones=nGeneraciones, nReglas=5, nPoblacion=nPoblacion, intra=False, todas=True)\n",
    "    error_p.append(clasificador.validacion(estrategia, dataset2, clasificador)[0])\n",
    "\n",
    "  error_t_cinc_3.append(error_p)\n",
    "\n",
    "end = time.time()\n",
    "\n",
    "print('Tiempo de ejecución: ', end-start)"
   ]
  },
  {
   "cell_type": "code",
   "execution_count": 66,
   "metadata": {
    "id": "4sQPnB-99BRi"
   },
   "outputs": [
    {
     "data": {
      "text/html": [
       "<style  type=\"text/css\" >\n",
       "#T_3835f49e_4045_11eb_b716_c869cdaf8e24row0_col0,#T_3835f49e_4045_11eb_b716_c869cdaf8e24row1_col1{\n",
       "            background-color:  #2e7ebc;\n",
       "            color:  #000000;\n",
       "        }#T_3835f49e_4045_11eb_b716_c869cdaf8e24row0_col1,#T_3835f49e_4045_11eb_b716_c869cdaf8e24row1_col0{\n",
       "            background-color:  #e0ecf8;\n",
       "            color:  #000000;\n",
       "        }</style><table id=\"T_3835f49e_4045_11eb_b716_c869cdaf8e24\" ><thead>    <tr>        <th class=\"blank level0\" ></th>        <th class=\"col_heading level0 col0\" >nPoblacion = 50</th>        <th class=\"col_heading level0 col1\" >nPoblacion = 150</th>    </tr></thead><tbody>\n",
       "                <tr>\n",
       "                        <th id=\"T_3835f49e_4045_11eb_b716_c869cdaf8e24level0_row0\" class=\"row_heading level0 row0\" >nGeneracion = 100</th>\n",
       "                        <td id=\"T_3835f49e_4045_11eb_b716_c869cdaf8e24row0_col0\" class=\"data row0 col0\" >0.392971</td>\n",
       "                        <td id=\"T_3835f49e_4045_11eb_b716_c869cdaf8e24row0_col1\" class=\"data row0 col1\" >0.261981</td>\n",
       "            </tr>\n",
       "            <tr>\n",
       "                        <th id=\"T_3835f49e_4045_11eb_b716_c869cdaf8e24level0_row1\" class=\"row_heading level0 row1\" >nGeneracion = 200</th>\n",
       "                        <td id=\"T_3835f49e_4045_11eb_b716_c869cdaf8e24row1_col0\" class=\"data row1 col0\" >0.220447</td>\n",
       "                        <td id=\"T_3835f49e_4045_11eb_b716_c869cdaf8e24row1_col1\" class=\"data row1 col1\" >0.268371</td>\n",
       "            </tr>\n",
       "    </tbody></table>"
      ],
      "text/plain": [
       "<pandas.io.formats.style.Styler at 0x1204253d0>"
      ]
     },
     "metadata": {},
     "output_type": "display_data"
    }
   ],
   "source": [
    "resumen_error = pd.DataFrame(error_t_cinc_3, columns=['nPoblacion = 50', 'nPoblacion = 150'],index=['nGeneracion = 100', 'nGeneracion = 200'])\n",
    "resumen_error = resumen_error.style.background_gradient(cmap='Blues', low=.2, high=0.51, axis=1)\n",
    "display(resumen_error)"
   ]
  },
  {
   "cell_type": "markdown",
   "metadata": {},
   "source": [
    "<p style=\"font-size: medium\">Por último, ejecutaremos un cruce interreglas y una mutación aplicada a un regla aleatoria por progenitor.</p>"
   ]
  },
  {
   "cell_type": "code",
   "execution_count": 72,
   "metadata": {
    "id": "NkTIQNm-9BRj"
   },
   "outputs": [
    {
     "name": "stdout",
     "output_type": "stream",
     "text": [
      "Tiempo de ejecución:  7341.280542850494\n"
     ]
    }
   ],
   "source": [
    "error_t_cinc_4 = []\n",
    "\n",
    "start = time.time()\n",
    "\n",
    "for nGeneraciones in generaciones:\n",
    "  error_p = []\n",
    "\n",
    "  for nPoblacion in poblaciones:\n",
    "    estrategia = ValidacionSimple(0.7, 1)\n",
    "    clasificador = ClasificadorAlgoritmoGenetico(pCruce=0.5, pMutacion=0.1, nGeneraciones=nGeneraciones, nReglas=5, nPoblacion=nPoblacion, intra=False, todas=False)\n",
    "    error_p.append(clasificador.validacion(estrategia, dataset2, clasificador)[0])\n",
    "\n",
    "  error_t_cinc_4.append(error_p)\n",
    "\n",
    "end = time.time()\n",
    "\n",
    "print('Tiempo de ejecución: ', end-start)"
   ]
  },
  {
   "cell_type": "code",
   "execution_count": 73,
   "metadata": {
    "id": "FJWew9N99BRj"
   },
   "outputs": [
    {
     "data": {
      "text/html": [
       "<style  type=\"text/css\" >\n",
       "#T_42750b4a_406b_11eb_b716_c869cdaf8e24row0_col0,#T_42750b4a_406b_11eb_b716_c869cdaf8e24row1_col0{\n",
       "            background-color:  #2e7ebc;\n",
       "            color:  #000000;\n",
       "        }#T_42750b4a_406b_11eb_b716_c869cdaf8e24row0_col1,#T_42750b4a_406b_11eb_b716_c869cdaf8e24row1_col1{\n",
       "            background-color:  #e0ecf8;\n",
       "            color:  #000000;\n",
       "        }</style><table id=\"T_42750b4a_406b_11eb_b716_c869cdaf8e24\" ><thead>    <tr>        <th class=\"blank level0\" ></th>        <th class=\"col_heading level0 col0\" >nPoblacion = 50</th>        <th class=\"col_heading level0 col1\" >nPoblacion = 150</th>    </tr></thead><tbody>\n",
       "                <tr>\n",
       "                        <th id=\"T_42750b4a_406b_11eb_b716_c869cdaf8e24level0_row0\" class=\"row_heading level0 row0\" >nGeneracion = 100</th>\n",
       "                        <td id=\"T_42750b4a_406b_11eb_b716_c869cdaf8e24row0_col0\" class=\"data row0 col0\" >0.239617</td>\n",
       "                        <td id=\"T_42750b4a_406b_11eb_b716_c869cdaf8e24row0_col1\" class=\"data row0 col1\" >0.233227</td>\n",
       "            </tr>\n",
       "            <tr>\n",
       "                        <th id=\"T_42750b4a_406b_11eb_b716_c869cdaf8e24level0_row1\" class=\"row_heading level0 row1\" >nGeneracion = 200</th>\n",
       "                        <td id=\"T_42750b4a_406b_11eb_b716_c869cdaf8e24row1_col0\" class=\"data row1 col0\" >0.226837</td>\n",
       "                        <td id=\"T_42750b4a_406b_11eb_b716_c869cdaf8e24row1_col1\" class=\"data row1 col1\" >0.188498</td>\n",
       "            </tr>\n",
       "    </tbody></table>"
      ],
      "text/plain": [
       "<pandas.io.formats.style.Styler at 0x120435810>"
      ]
     },
     "metadata": {},
     "output_type": "display_data"
    }
   ],
   "source": [
    "resumen_error = pd.DataFrame(error_t_cinc_4, columns=['nPoblacion = 50', 'nPoblacion = 150'],index=['nGeneracion = 100', 'nGeneracion = 200'])\n",
    "resumen_error = resumen_error.style.background_gradient(cmap='Blues', low=.2, high=0.51, axis=1)\n",
    "display(resumen_error)"
   ]
  },
  {
   "cell_type": "markdown",
   "metadata": {},
   "source": [
    "<p style=\"font-size: medium\"> Como se puede observar, hemos logrado llegar a tener un error de 0.18 en dos ejecuciones, es decir, más de un 80% de aciertos. Parece que hemos tenido algo de suerte esta vez! :)</p>\n",
    "\n",
    "<p style=\"font-size: medium\"> Cabe comentar, que hemos obtenido mejores resultados con 5 reglas que con 3, en este dataset. Lo cual tiene lógica, ya que, hemos aumentado un poco la probabilidad de que alguna regla de algún individuo acierte.</p>"
   ]
  },
  {
   "cell_type": "markdown",
   "metadata": {
    "id": "-b84Iri_sABl"
   },
   "source": [
    "<h2> Análisis de los resultados </h2>\n",
    "<p style=\"font-size: medium\"> A continuación, agruparemos las gráficas por dataset. </p>\n",
    "\n",
    "<h3> Tic-Tac-Toe </h3>"
   ]
  },
  {
   "cell_type": "code",
   "execution_count": 70,
   "metadata": {},
   "outputs": [
    {
     "name": "stdout",
     "output_type": "stream",
     "text": [
      "Tiempo de ejecución:  198.629163980484\n"
     ]
    }
   ],
   "source": [
    "start = time.time()\n",
    "\n",
    "estrategia = ValidacionSimple(0.7, 1)\n",
    "clasificador = ClasificadorAlgoritmoGenetico(pCruce=0.5, pMutacion=0.1, nGeneraciones=100, nReglas=3, nPoblacion=50, intra=False, todas=False)\n",
    "error_ttt_grafica = clasificador.validacion(estrategia, dataset, clasificador)[0]\n",
    "media_fitness = clasificador.mediaFitness\n",
    "fitness_lista = clasificador.mejorIndividuoFitness\n",
    "\n",
    "end = time.time()\n",
    "\n",
    "print('Tiempo de ejecución: ', end-start)"
   ]
  },
  {
   "cell_type": "code",
   "execution_count": 71,
   "metadata": {},
   "outputs": [
    {
     "data": {
      "image/png": "[encoded data removed]",
      "text/plain": [
       "<Figure size 432x288 with 1 Axes>"
      ]
     },
     "metadata": {
      "needs_background": "light"
     },
     "output_type": "display_data"
    },
    {
     "data": {
      "image/png": "[encoded data removed]",
      "text/plain": [
       "<Figure size 432x288 with 1 Axes>"
      ]
     },
     "metadata": {
      "needs_background": "light"
     },
     "output_type": "display_data"
    }
   ],
   "source": [
    "nGeneracion = [i for i in range(100)]\n",
    "plt.plot(nGeneracion, media_fitness, color='blue')\n",
    "\n",
    "plt.xlabel('Generacion')\n",
    "plt.ylabel('Media Fitness')\n",
    "plt.title('Tic-Tac-Toe')\n",
    "plt.show()\n",
    "\n",
    "plt.plot(nGeneracion, fitness_lista, color='blue')\n",
    "\n",
    "plt.xlabel('Generacion')\n",
    "plt.ylabel('Fitness mejor individuo')\n",
    "plt.title('Tic-Tac-Toe')\n",
    "plt.show()"
   ]
  },
  {
   "cell_type": "markdown",
   "metadata": {},
   "source": [
    "<p style=\"font-size: medium\"> En la gráfica de la media del fitness, podemos observar que, aunque, existen muchos datos atípicos, si estuviesen normalizados los datos, veríamos que va mejorando según aumenta el número de generaciones o épocas. </p>\n",
    "\n",
    "<p style=\"font-size: medium\"> Por otro lado, en la gráfica del fitness del mejor individuo, vemos como al principio mejora rápidamente, luego mejora del tirón, para mantenerse al final completamente constante, indicando así, que hemos encontrado al mejor individuo.</p>\n",
    "\n",
    "<p style=\"font-size: medium\"> Finalmente, podemos observar que el fitness máximo alcanzado llega a 0.3 ya que el rendimiento del algoritmo con el dataset de tic-tac-toe es bastante pobre. Esto lo podemos corroborar en las ejecuciones del apartado anterior.</p>"
   ]
  },
  {
   "cell_type": "markdown",
   "metadata": {},
   "source": [
    "<h3> Titanic </h3>"
   ]
  },
  {
   "cell_type": "code",
   "execution_count": 10,
   "metadata": {},
   "outputs": [
    {
     "name": "stdout",
     "output_type": "stream",
     "text": [
      "Tiempo de ejecución:  1115.8628289699554\n"
     ]
    }
   ],
   "source": [
    "start = time.time()\n",
    "\n",
    "estrategia = ValidacionSimple(0.7, 1)\n",
    "clasificador = ClasificadorAlgoritmoGenetico(pCruce=0.5, pMutacion=0.1, nGeneraciones=100, nReglas=3, nPoblacion=50, intra=False, todas=False)\n",
    "error_ttt_grafica = clasificador.validacion(estrategia, dataset2, clasificador)[0]\n",
    "mejores_individuo = clasificador.mediaFitness\n",
    "fitness_lista = clasificador.mejorIndividuoFitness\n",
    "\n",
    "end = time.time()\n",
    "\n",
    "print('Tiempo de ejecución: ', end-start)"
   ]
  },
  {
   "cell_type": "code",
   "execution_count": 12,
   "metadata": {},
   "outputs": [
    {
     "data": {
      "image/png": "[encoded data removed]",
      "text/plain": [
       "<Figure size 432x288 with 1 Axes>"
      ]
     },
     "metadata": {
      "needs_background": "light"
     },
     "output_type": "display_data"
    },
    {
     "data": {
      "image/png": "[encoded data removed]",
      "text/plain": [
       "<Figure size 432x288 with 1 Axes>"
      ]
     },
     "metadata": {
      "needs_background": "light"
     },
     "output_type": "display_data"
    }
   ],
   "source": [
    "nGeneracion = [i for i in range(100)]\n",
    "plt.plot(nGeneracion, mejores_individuo, color='green')\n",
    "\n",
    "plt.xlabel('Generacion')\n",
    "plt.ylabel('Media Fitness')\n",
    "plt.title('Titanic')\n",
    "plt.show()\n",
    "\n",
    "plt.plot(nGeneracion, fitness_lista, color='green')\n",
    "\n",
    "plt.xlabel('Generacion')\n",
    "plt.ylabel('Fitness mejor individuo')\n",
    "plt.title('Titanic')\n",
    "plt.show()"
   ]
  },
  {
   "cell_type": "markdown",
   "metadata": {},
   "source": [
    "<p style=\"font-size: medium\"> En este caso, se repite el comportamiento para la media de la fitness. Podemos observar claramente como su valor, aunque sufre varios altibajos, al final es mucho mejor que el del comienzo.</p>\n",
    "\n",
    "<p style=\"font-size: medium\"> En el caso del mejor individuo, empieza muy mal y crece muy rápido, hasta llegar a la generación 20, en donde se empieza a estabilizar y se mantiene casi en el mismo hasta el final de la ejecución.</p>\n",
    "\n",
    "\n",
    "<p style=\"font-size: medium\"> Cabe comentar, quizás, que en el dataset de Tic-Tac-Toe, se encuentra el mejor individuo mucho más rápido que en el de Titanic. En Tic-Tac-Toe lo obtenemos al rededor de la generación 60, mientras que en Titanic, al rededor de la 70. Además, vemos como el fitness máximo es mucho mayor al de Tic-Tac-Toe, ya que en Titanic el rendimiento es más elevado.</p>"
   ]
  },
  {
   "cell_type": "markdown",
   "metadata": {
    "id": "70n1d3D5sAB2"
   },
   "source": [
    "<h2> Análisis ROC </h2>\n",
    "<p style=\"font-size: medium\"> Para el análisis ROC utilizaremos nuestra implementación pero sin utilizar ningún tipo de estrategia de particionado. Incluiremos FPR y TPR de cada uno de los clasificadores discutidos en los apartados anteriores.</p>"
   ]
  },
  {
   "cell_type": "markdown",
   "metadata": {
    "id": "wok1ZJ_vsAB2"
   },
   "source": [
    "<h3> Obtención de los datos </h3>"
   ]
  },
  {
   "cell_type": "code",
   "execution_count": 21,
   "metadata": {
    "id": "eo0OiGSgsAB3"
   },
   "outputs": [],
   "source": [
    "dataset = pd.read_csv('data/tic-tac-toe.data')\n",
    "dataset2 = pd.read_csv('data/titanic.data')"
   ]
  },
  {
   "cell_type": "code",
   "execution_count": 22,
   "metadata": {
    "id": "iKnyJRc83adq"
   },
   "outputs": [],
   "source": [
    "encodedDataset = preprocessing.OneHotEncoder(sparse=False)\n",
    "x = dataset.iloc[:,:-1]\n",
    "x2 = dataset2.iloc[:,:-1]\n",
    "\n",
    "encodedDataset.fit(x)\n",
    "x_ttt = encodedDataset.transform(x) #Cogemos todos los datos menos la columna de Class\n",
    "y_ttt = dataset.iloc[:,-1]\n",
    "\n",
    "encodedDataset.fit(x2)\n",
    "x_t = encodedDataset.transform(x2) #Cogemos todos los datos menos la columna de Class\n",
    "y_t = dataset2.iloc[:,-1]"
   ]
  },
  {
   "cell_type": "markdown",
   "metadata": {
    "id": "h0BEYTe4sAB3"
   },
   "source": [
    "<p style=\"font-size: medium\"> A continuación, los cálculos pertinentes.</p>"
   ]
  },
  {
   "cell_type": "markdown",
   "metadata": {
    "id": "BvXW9f0PsAB3"
   },
   "source": [
    "<h3> Naive Bayes (Curva ROC)</h3>"
   ]
  },
  {
   "cell_type": "markdown",
   "metadata": {
    "id": "zPT0KrBIsAB3"
   },
   "source": [
    "<h4> Tic-Tac-Toe dataset </h4>\n",
    "<p style=\"font-size: medium\">A continuación, calcularemos la matriz de confusión.</p>"
   ]
  },
  {
   "cell_type": "code",
   "execution_count": 26,
   "metadata": {
    "id": "S8Wh9SvhsAB4"
   },
   "outputs": [
    {
     "data": {
      "text/plain": [
       "MultinomialNB(alpha=1)"
      ]
     },
     "execution_count": 26,
     "metadata": {},
     "output_type": "execute_result"
    }
   ],
   "source": [
    "# Alpha corresponde a la corrección de LaPlace\n",
    "clasificador_ttt = naive_bayes.MultinomialNB(alpha=1)\n",
    "clasificador_ttt.fit(x_ttt, y_ttt)"
   ]
  },
  {
   "cell_type": "markdown",
   "metadata": {
    "id": "b2QR-xY6sAB5"
   },
   "source": [
    "<h4> Titanic dataset </h4>\n",
    "<p style=\"font-size: medium\">A continuación, calcularemos la matriz de confusión.</p>"
   ]
  },
  {
   "cell_type": "code",
   "execution_count": 27,
   "metadata": {
    "id": "KyaO9PPVsAB5"
   },
   "outputs": [
    {
     "data": {
      "text/plain": [
       "MultinomialNB(alpha=1)"
      ]
     },
     "execution_count": 27,
     "metadata": {},
     "output_type": "execute_result"
    }
   ],
   "source": [
    "# Alpha corresponde a la corrección de LaPlace\n",
    "clasificador_t = naive_bayes.MultinomialNB(alpha=1)\n",
    "clasificador_t.fit(x_t, y_t)"
   ]
  },
  {
   "cell_type": "markdown",
   "metadata": {
    "id": "t0P2ymQDsAB_"
   },
   "source": [
    "<h3> Algoritmo Genético (Espacio ROC) y Naive Bayes (Curva ROC)</h3>"
   ]
  },
  {
   "cell_type": "code",
   "execution_count": 13,
   "metadata": {
    "id": "1VB3YrpA56bL"
   },
   "outputs": [],
   "source": [
    "dataset = Datos('data/tic-tac-toe.data')\n",
    "dataset2 = Datos('data/titanic.data')"
   ]
  },
  {
   "cell_type": "markdown",
   "metadata": {
    "id": "KJ1tmEA05_sg"
   },
   "source": [
    "<h4> Tic-Tac-Toe dataset </h4>"
   ]
  },
  {
   "cell_type": "code",
   "execution_count": 14,
   "metadata": {
    "id": "ViTfJbDb6G3J"
   },
   "outputs": [
    {
     "name": "stdout",
     "output_type": "stream",
     "text": [
      "[[ 76 256]\n",
      " [169 457]]\n"
     ]
    }
   ],
   "source": [
    "clasificador = ClasificadorAlgoritmoGenetico(pCruce=0.5, pMutacion=0.1, nGeneraciones=100, nReglas=3, nPoblacion=50, intra=False, todas=False)\n",
    "clasificador.entrenamiento(dataset.datos, dataset.nominalAtributos, dataset.diccionario)\n",
    "predicciones = clasificador.clasifica(dataset.datos, dataset.nominalAtributos, dataset.diccionario)\n",
    "clases = list(dataset.datos.iloc[:, -1])\n",
    "matrix_ttt = confusion_matrix(clases, predicciones)\n",
    "print(matrix_ttt)"
   ]
  },
  {
   "cell_type": "code",
   "execution_count": 15,
   "metadata": {
    "id": "1-6jPYdh7F_H"
   },
   "outputs": [],
   "source": [
    "FPR_ttt = matrix_ttt[0][1] / (matrix_ttt[0][1] + matrix_ttt[1][1])\n",
    "TPR_ttt = matrix_ttt[0][0] /(matrix_ttt[0][0] + matrix_ttt[1][0])"
   ]
  },
  {
   "cell_type": "markdown",
   "metadata": {
    "id": "B-ExXeExsAB_"
   },
   "source": [
    "<h4> Titanic dataset </h4>"
   ]
  },
  {
   "cell_type": "code",
   "execution_count": 16,
   "metadata": {
    "id": "VK9VXv8e7TGa"
   },
   "outputs": [
    {
     "name": "stdout",
     "output_type": "stream",
     "text": [
      "[[509 110]\n",
      " [127 300]]\n"
     ]
    }
   ],
   "source": [
    "clasificador = ClasificadorAlgoritmoGenetico(pCruce=0.5, pMutacion=0.1, nGeneraciones=100, nReglas=3, nPoblacion=50, intra=False, todas=False)\n",
    "clasificador.entrenamiento(dataset2.datos, dataset2.nominalAtributos, dataset2.diccionario)\n",
    "predicciones = clasificador.clasifica(dataset2.datos, dataset2.nominalAtributos, dataset2.diccionario)\n",
    "clases = list(dataset2.datos.iloc[:, -1])\n",
    "matrix_t = confusion_matrix(y_true=clases, y_pred=predicciones)\n",
    "print(matrix_t)"
   ]
  },
  {
   "cell_type": "code",
   "execution_count": 17,
   "metadata": {
    "id": "lYlATzoL7cK5"
   },
   "outputs": [],
   "source": [
    "FPR_t = matrix_t[0][1] / (matrix_t[0][1] + matrix_t[1][1])\n",
    "TPR_t = matrix_t[0][0] /(matrix_t[0][0] + matrix_t[1][0])"
   ]
  },
  {
   "cell_type": "markdown",
   "metadata": {
    "id": "2atpdDtk7huL"
   },
   "source": [
    "<h4> Gráficas </h4>"
   ]
  },
  {
   "cell_type": "code",
   "execution_count": 28,
   "metadata": {
    "id": "dyQKoR-IsAB_"
   },
   "outputs": [
    {
     "data": {
      "image/png": "[encoded data removed]",
      "text/plain": [
       "<Figure size 432x288 with 1 Axes>"
      ]
     },
     "metadata": {
      "needs_background": "light"
     },
     "output_type": "display_data"
    },
    {
     "data": {
      "image/png": "[encoded data removed]",
      "text/plain": [
       "<Figure size 432x288 with 1 Axes>"
      ]
     },
     "metadata": {
      "needs_background": "light"
     },
     "output_type": "display_data"
    }
   ],
   "source": [
    "#Plotteamos las gráficas\n",
    "metrics.plot_roc_curve(clasificador_ttt, x_test_ttt, y_test_ttt, name='Tic-Tac-Toe (NB)')\n",
    "plt.plot(FPR_ttt, TPR_ttt, color='red', marker='o', label='Tic-Tac-Toe (AG)')\n",
    "plt.plot( [0,1],[0,1], ls='--') #Linea diagonal\n",
    "\n",
    "plt.xlim(0, 1)\n",
    "plt.ylim(0, 1)\n",
    "plt.xlabel('FPR')\n",
    "plt.ylabel('TPR')\n",
    "plt.title('Tic-Tac-Toe')\n",
    "plt.legend(loc='center left', bbox_to_anchor=(1, 0.5))\n",
    "plt.show()\n",
    "\n",
    "\n",
    "metrics.plot_roc_curve(clasificador_t, x_test_t, y_test_t, name='Titanic (NB)')\n",
    "plt.plot(FPR_t, TPR_t, color='green', marker='o', label='Titanic (AG)')\n",
    "\n",
    "plt.plot( [0,1],[0,1], ls='--') #Linea diagonal\n",
    "\n",
    "plt.xlim(0, 1)\n",
    "plt.ylim(0, 1)\n",
    "plt.xlabel('FPR')\n",
    "plt.ylabel('TPR')\n",
    "plt.title('Titanic')\n",
    "plt.legend(loc='center left', bbox_to_anchor=(1, 0.5))\n",
    "plt.show()"
   ]
  },
  {
   "cell_type": "markdown",
   "metadata": {},
   "source": [
    "<p style=\"font-size: medium\"> Viendo las gráficas es fácil notar que para Tic-Tac-Toe, el algoritmo genético va bastante mal. Está por debajo de la diagonal, lo que significa que funciona incluso peor que si lo dejasemos a suertes. Es importante destacar que este resultado corresponde a la ejecución realiza. Si se quisiera volver a ejecutar, podría cambiar ligeramente. Sin embargo, no debería de ser el algoritmo genético mucho mejor que Naive Bayes.</p>\n",
    "\n",
    "<p style=\"font-size: medium\"> En cuanto a Titanic, el algoritmo acierta bastantes veces, es decir, vemos que está por encima y alejado de la diagonal que representa las decisiones aleatorias. Naive Bayes también funciona bastante bien, por su parte. Ambos están bastante igualados en cuanto a funcionamiento con este dataset en concreto.</p>\n",
    "\n",
    "<p style=\"font-size: medium\"> Por último, queríamos destacar un comentario que se nos ha venido a la mente durante la realización de esta práctica. Una mejora interesante hubiese sido basar el porcentaje de elitismo sobre la proporcionalidad del fitness, es decir, que este porcentaje vaya creciendo a medida de que la media del fitness fuese aumentando y decreciendo en el caso contrario. </p>"
   ]
  },
  {
   "cell_type": "markdown",
   "metadata": {
    "id": "_a5zB2WksAB_"
   },
   "source": [
    "<p style=\"font-size: medium\"> </p>\n",
    "\n",
    "<p style=\"font-size: medium\"> </p>\n",
    "\n",
    "<p style=\"font-size: medium\"> </p>"
   ]
  }
 ],
 "metadata": {
  "accelerator": "TPU",
  "colab": {
   "collapsed_sections": [],
   "name": "practica3_Martin_Matos.ipynb",
   "provenance": []
  },
  "kernelspec": {
   "display_name": "Python 3",
   "language": "python",
   "name": "python3"
  },
  "language_info": {
   "codemirror_mode": {
    "name": "ipython",
    "version": 3
   },
   "file_extension": ".py",
   "mimetype": "text/x-python",
   "name": "python",
   "nbconvert_exporter": "python",
   "pygments_lexer": "ipython3",
   "version": "3.7.4"
  }
 },
 "nbformat": 4,
 "nbformat_minor": 1
}
